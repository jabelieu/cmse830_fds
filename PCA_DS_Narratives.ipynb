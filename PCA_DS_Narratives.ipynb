{
 "cells": [
  {
   "cell_type": "markdown",
   "metadata": {},
   "source": [
    "![diabetes](https://media.healthdirect.org.au/images/inline/original/type-2-diabetes-49a3ee.jpg)\n",
    "\n",
    "<div style=\"border: 1px solid #4CAF50; padding: 10px; border-radius: 5px;\">\n",
    "    <h2 style=\"color: #4CAF50;\">Pre-Class Assignment (PCA) Instructions</h2>\n",
    "</div>\n",
    "\n",
    "\n",
    "# \n",
    "\n",
    "This assignment is due by **midnight on Wednesday**. The goal is to explore the diabetes dataset in preparation for the **In-Class Assignment (ICA)** on Thursday. \n",
    "\n",
    "### Instructions:\n",
    "1. **Explore the Dataset**: Take some time to understand the data, the key features, and how the target variable (disease progression) behaves.\n",
    "   \n",
    "2. **Prepare for Role Playing**: Imagine you work at a company, and you’ve been tasked with analyzing and presenting this dataset to stakeholders. Consider:\n",
    "   - **Who is your audience**? (e.g., older generation, Gen-Z, millennials, or a mixed audience)\n",
    "   - **Invent a setting**: Is this for a drug company, a health education seminar, or another industry?\n",
    "   - **What are the plot twists**? Which trends or surprising insights will make your story more engaging?\n",
    "   - **Best visualizations**: Based on your audience and setting, what are the most effective ways to visualize the data? Which plots from the EDA stand out, or what additional visualizations might you create?\n",
    "   - **Delivery**: How would you structure your presentation to convey the story to your audience clearly and persuasively?\n",
    "\n",
    "3. **Read the ICA Instructions**: Make sure you review the instructions for the in-class assignment on Thursday to understand how this pre-work will fit into the larger activity. Those instructions are included with this PCA.\n",
    "\n",
    "4. **Submit a Summary**: By Wednesday night, submit a short summary (half a page) of your observations and ideas. This should include:\n",
    "   - Key insights from the dataset\n",
    "   - Ideas for your role-playing scenario (audience, setting, visualizations)\n",
    "   - Your name!\n",
    "\n",
    "This summary will count toward your ICA grade. Put all of your answers into a markdown cell at the bottom of this notebook and turn that in. \n",
    "\n",
    "### A Brief Introduction to Diabetes:\n",
    "Diabetes is a chronic condition that affects how your body turns food into energy. It occurs when the pancreas doesn't produce enough insulin or the body can’t use insulin effectively. Over time, high blood sugar levels can lead to serious health complications like heart disease, vision loss, and kidney disease. Understanding the factors that contribute to diabetes progression can help inform treatment plans and preventative measures.\n",
    "\n",
    "In this dataset, you’ll be exploring health-related variables such as BMI, blood pressure, and glucose levels to understand their relationship with the progression of diabetes over time.\n"
   ]
  },
  {
   "cell_type": "code",
   "execution_count": 1,
   "metadata": {},
   "outputs": [
    {
     "data": {
      "application/vnd.plotly.v1+json": {
       "config": {
        "plotlyServerURL": "https://plot.ly"
       },
       "data": [
        {
         "colorscale": [
          [
           0,
           "#440154"
          ],
          [
           0.1111111111111111,
           "#482878"
          ],
          [
           0.2222222222222222,
           "#3e4989"
          ],
          [
           0.3333333333333333,
           "#31688e"
          ],
          [
           0.4444444444444444,
           "#26828e"
          ],
          [
           0.5555555555555556,
           "#1f9e89"
          ],
          [
           0.6666666666666666,
           "#35b779"
          ],
          [
           0.7777777777777778,
           "#6ece58"
          ],
          [
           0.8888888888888888,
           "#b5de2b"
          ],
          [
           1,
           "#fde725"
          ]
         ],
         "reversescale": false,
         "showscale": false,
         "type": "heatmap",
         "x": [
          "age",
          "bmi",
          "bp",
          "s1",
          "target"
         ],
         "y": [
          "age",
          "bmi",
          "bp",
          "s1",
          "target"
         ],
         "z": {
          "bdata": "AAAAAAAA8D+elgu22rDHP/NFKEWld9U/OQthI9ak0D8V4c8TvQzIP56WC7basMc/AAAAAAAA8D/sXp6DaU7ZP6DY1OC0+M8/ALeJEjPE4j/zRShFpXfVP+xenoNpTtk/AAAAAAAA8D9C3v2jDwnPP8Sis7Q8Qdw/OQthI9ak0D+g2NTgtPjPP0Le/aMPCc8/AAAAAAAA8D8Stfx6jSPLPxXhzxO9DMg/ALeJEjPE4j/EorO0PEHcPxK1/HqNI8s/AAAAAAAA8D8=",
          "dtype": "f8",
          "shape": "5, 5"
         }
        }
       ],
       "layout": {
        "annotations": [
         {
          "font": {
           "color": "#000000"
          },
          "showarrow": false,
          "text": "1.0",
          "x": "age",
          "xref": "x",
          "y": "age",
          "yref": "y"
         },
         {
          "font": {
           "color": "#FFFFFF"
          },
          "showarrow": false,
          "text": "0.18508466614655544",
          "x": "bmi",
          "xref": "x",
          "y": "age",
          "yref": "y"
         },
         {
          "font": {
           "color": "#FFFFFF"
          },
          "showarrow": false,
          "text": "0.3354275870670726",
          "x": "bp",
          "xref": "x",
          "y": "age",
          "yref": "y"
         },
         {
          "font": {
           "color": "#FFFFFF"
          },
          "showarrow": false,
          "text": "0.2600608201502613",
          "x": "s1",
          "xref": "x",
          "y": "age",
          "yref": "y"
         },
         {
          "font": {
           "color": "#FFFFFF"
          },
          "showarrow": false,
          "text": "0.18788875071891967",
          "x": "target",
          "xref": "x",
          "y": "age",
          "yref": "y"
         },
         {
          "font": {
           "color": "#FFFFFF"
          },
          "showarrow": false,
          "text": "0.18508466614655544",
          "x": "age",
          "xref": "x",
          "y": "bmi",
          "yref": "y"
         },
         {
          "font": {
           "color": "#000000"
          },
          "showarrow": false,
          "text": "1.0",
          "x": "bmi",
          "xref": "x",
          "y": "bmi",
          "yref": "y"
         },
         {
          "font": {
           "color": "#FFFFFF"
          },
          "showarrow": false,
          "text": "0.3954108987177125",
          "x": "bp",
          "xref": "x",
          "y": "bmi",
          "yref": "y"
         },
         {
          "font": {
           "color": "#FFFFFF"
          },
          "showarrow": false,
          "text": "0.24977742174241246",
          "x": "s1",
          "xref": "x",
          "y": "bmi",
          "yref": "y"
         },
         {
          "font": {
           "color": "#FFFFFF"
          },
          "showarrow": false,
          "text": "0.5864501344746884",
          "x": "target",
          "xref": "x",
          "y": "bmi",
          "yref": "y"
         },
         {
          "font": {
           "color": "#FFFFFF"
          },
          "showarrow": false,
          "text": "0.3354275870670726",
          "x": "age",
          "xref": "x",
          "y": "bp",
          "yref": "y"
         },
         {
          "font": {
           "color": "#FFFFFF"
          },
          "showarrow": false,
          "text": "0.3954108987177125",
          "x": "bmi",
          "xref": "x",
          "y": "bp",
          "yref": "y"
         },
         {
          "font": {
           "color": "#000000"
          },
          "showarrow": false,
          "text": "1.0",
          "x": "bp",
          "xref": "x",
          "y": "bp",
          "yref": "y"
         },
         {
          "font": {
           "color": "#FFFFFF"
          },
          "showarrow": false,
          "text": "0.24246402270704165",
          "x": "s1",
          "xref": "x",
          "y": "bp",
          "yref": "y"
         },
         {
          "font": {
           "color": "#FFFFFF"
          },
          "showarrow": false,
          "text": "0.44148175856257077",
          "x": "target",
          "xref": "x",
          "y": "bp",
          "yref": "y"
         },
         {
          "font": {
           "color": "#FFFFFF"
          },
          "showarrow": false,
          "text": "0.2600608201502613",
          "x": "age",
          "xref": "x",
          "y": "s1",
          "yref": "y"
         },
         {
          "font": {
           "color": "#FFFFFF"
          },
          "showarrow": false,
          "text": "0.24977742174241246",
          "x": "bmi",
          "xref": "x",
          "y": "s1",
          "yref": "y"
         },
         {
          "font": {
           "color": "#FFFFFF"
          },
          "showarrow": false,
          "text": "0.24246402270704165",
          "x": "bp",
          "xref": "x",
          "y": "s1",
          "yref": "y"
         },
         {
          "font": {
           "color": "#000000"
          },
          "showarrow": false,
          "text": "1.0",
          "x": "s1",
          "xref": "x",
          "y": "s1",
          "yref": "y"
         },
         {
          "font": {
           "color": "#FFFFFF"
          },
          "showarrow": false,
          "text": "0.21202248101455062",
          "x": "target",
          "xref": "x",
          "y": "s1",
          "yref": "y"
         },
         {
          "font": {
           "color": "#FFFFFF"
          },
          "showarrow": false,
          "text": "0.18788875071891967",
          "x": "age",
          "xref": "x",
          "y": "target",
          "yref": "y"
         },
         {
          "font": {
           "color": "#FFFFFF"
          },
          "showarrow": false,
          "text": "0.5864501344746884",
          "x": "bmi",
          "xref": "x",
          "y": "target",
          "yref": "y"
         },
         {
          "font": {
           "color": "#FFFFFF"
          },
          "showarrow": false,
          "text": "0.44148175856257077",
          "x": "bp",
          "xref": "x",
          "y": "target",
          "yref": "y"
         },
         {
          "font": {
           "color": "#FFFFFF"
          },
          "showarrow": false,
          "text": "0.21202248101455062",
          "x": "s1",
          "xref": "x",
          "y": "target",
          "yref": "y"
         },
         {
          "font": {
           "color": "#000000"
          },
          "showarrow": false,
          "text": "1.0",
          "x": "target",
          "xref": "x",
          "y": "target",
          "yref": "y"
         }
        ],
        "template": {
         "data": {
          "bar": [
           {
            "error_x": {
             "color": "#2a3f5f"
            },
            "error_y": {
             "color": "#2a3f5f"
            },
            "marker": {
             "line": {
              "color": "#E5ECF6",
              "width": 0.5
             },
             "pattern": {
              "fillmode": "overlay",
              "size": 10,
              "solidity": 0.2
             }
            },
            "type": "bar"
           }
          ],
          "barpolar": [
           {
            "marker": {
             "line": {
              "color": "#E5ECF6",
              "width": 0.5
             },
             "pattern": {
              "fillmode": "overlay",
              "size": 10,
              "solidity": 0.2
             }
            },
            "type": "barpolar"
           }
          ],
          "carpet": [
           {
            "aaxis": {
             "endlinecolor": "#2a3f5f",
             "gridcolor": "white",
             "linecolor": "white",
             "minorgridcolor": "white",
             "startlinecolor": "#2a3f5f"
            },
            "baxis": {
             "endlinecolor": "#2a3f5f",
             "gridcolor": "white",
             "linecolor": "white",
             "minorgridcolor": "white",
             "startlinecolor": "#2a3f5f"
            },
            "type": "carpet"
           }
          ],
          "choropleth": [
           {
            "colorbar": {
             "outlinewidth": 0,
             "ticks": ""
            },
            "type": "choropleth"
           }
          ],
          "contour": [
           {
            "colorbar": {
             "outlinewidth": 0,
             "ticks": ""
            },
            "colorscale": [
             [
              0,
              "#0d0887"
             ],
             [
              0.1111111111111111,
              "#46039f"
             ],
             [
              0.2222222222222222,
              "#7201a8"
             ],
             [
              0.3333333333333333,
              "#9c179e"
             ],
             [
              0.4444444444444444,
              "#bd3786"
             ],
             [
              0.5555555555555556,
              "#d8576b"
             ],
             [
              0.6666666666666666,
              "#ed7953"
             ],
             [
              0.7777777777777778,
              "#fb9f3a"
             ],
             [
              0.8888888888888888,
              "#fdca26"
             ],
             [
              1,
              "#f0f921"
             ]
            ],
            "type": "contour"
           }
          ],
          "contourcarpet": [
           {
            "colorbar": {
             "outlinewidth": 0,
             "ticks": ""
            },
            "type": "contourcarpet"
           }
          ],
          "heatmap": [
           {
            "colorbar": {
             "outlinewidth": 0,
             "ticks": ""
            },
            "colorscale": [
             [
              0,
              "#0d0887"
             ],
             [
              0.1111111111111111,
              "#46039f"
             ],
             [
              0.2222222222222222,
              "#7201a8"
             ],
             [
              0.3333333333333333,
              "#9c179e"
             ],
             [
              0.4444444444444444,
              "#bd3786"
             ],
             [
              0.5555555555555556,
              "#d8576b"
             ],
             [
              0.6666666666666666,
              "#ed7953"
             ],
             [
              0.7777777777777778,
              "#fb9f3a"
             ],
             [
              0.8888888888888888,
              "#fdca26"
             ],
             [
              1,
              "#f0f921"
             ]
            ],
            "type": "heatmap"
           }
          ],
          "histogram": [
           {
            "marker": {
             "pattern": {
              "fillmode": "overlay",
              "size": 10,
              "solidity": 0.2
             }
            },
            "type": "histogram"
           }
          ],
          "histogram2d": [
           {
            "colorbar": {
             "outlinewidth": 0,
             "ticks": ""
            },
            "colorscale": [
             [
              0,
              "#0d0887"
             ],
             [
              0.1111111111111111,
              "#46039f"
             ],
             [
              0.2222222222222222,
              "#7201a8"
             ],
             [
              0.3333333333333333,
              "#9c179e"
             ],
             [
              0.4444444444444444,
              "#bd3786"
             ],
             [
              0.5555555555555556,
              "#d8576b"
             ],
             [
              0.6666666666666666,
              "#ed7953"
             ],
             [
              0.7777777777777778,
              "#fb9f3a"
             ],
             [
              0.8888888888888888,
              "#fdca26"
             ],
             [
              1,
              "#f0f921"
             ]
            ],
            "type": "histogram2d"
           }
          ],
          "histogram2dcontour": [
           {
            "colorbar": {
             "outlinewidth": 0,
             "ticks": ""
            },
            "colorscale": [
             [
              0,
              "#0d0887"
             ],
             [
              0.1111111111111111,
              "#46039f"
             ],
             [
              0.2222222222222222,
              "#7201a8"
             ],
             [
              0.3333333333333333,
              "#9c179e"
             ],
             [
              0.4444444444444444,
              "#bd3786"
             ],
             [
              0.5555555555555556,
              "#d8576b"
             ],
             [
              0.6666666666666666,
              "#ed7953"
             ],
             [
              0.7777777777777778,
              "#fb9f3a"
             ],
             [
              0.8888888888888888,
              "#fdca26"
             ],
             [
              1,
              "#f0f921"
             ]
            ],
            "type": "histogram2dcontour"
           }
          ],
          "mesh3d": [
           {
            "colorbar": {
             "outlinewidth": 0,
             "ticks": ""
            },
            "type": "mesh3d"
           }
          ],
          "parcoords": [
           {
            "line": {
             "colorbar": {
              "outlinewidth": 0,
              "ticks": ""
             }
            },
            "type": "parcoords"
           }
          ],
          "pie": [
           {
            "automargin": true,
            "type": "pie"
           }
          ],
          "scatter": [
           {
            "fillpattern": {
             "fillmode": "overlay",
             "size": 10,
             "solidity": 0.2
            },
            "type": "scatter"
           }
          ],
          "scatter3d": [
           {
            "line": {
             "colorbar": {
              "outlinewidth": 0,
              "ticks": ""
             }
            },
            "marker": {
             "colorbar": {
              "outlinewidth": 0,
              "ticks": ""
             }
            },
            "type": "scatter3d"
           }
          ],
          "scattercarpet": [
           {
            "marker": {
             "colorbar": {
              "outlinewidth": 0,
              "ticks": ""
             }
            },
            "type": "scattercarpet"
           }
          ],
          "scattergeo": [
           {
            "marker": {
             "colorbar": {
              "outlinewidth": 0,
              "ticks": ""
             }
            },
            "type": "scattergeo"
           }
          ],
          "scattergl": [
           {
            "marker": {
             "colorbar": {
              "outlinewidth": 0,
              "ticks": ""
             }
            },
            "type": "scattergl"
           }
          ],
          "scattermap": [
           {
            "marker": {
             "colorbar": {
              "outlinewidth": 0,
              "ticks": ""
             }
            },
            "type": "scattermap"
           }
          ],
          "scattermapbox": [
           {
            "marker": {
             "colorbar": {
              "outlinewidth": 0,
              "ticks": ""
             }
            },
            "type": "scattermapbox"
           }
          ],
          "scatterpolar": [
           {
            "marker": {
             "colorbar": {
              "outlinewidth": 0,
              "ticks": ""
             }
            },
            "type": "scatterpolar"
           }
          ],
          "scatterpolargl": [
           {
            "marker": {
             "colorbar": {
              "outlinewidth": 0,
              "ticks": ""
             }
            },
            "type": "scatterpolargl"
           }
          ],
          "scatterternary": [
           {
            "marker": {
             "colorbar": {
              "outlinewidth": 0,
              "ticks": ""
             }
            },
            "type": "scatterternary"
           }
          ],
          "surface": [
           {
            "colorbar": {
             "outlinewidth": 0,
             "ticks": ""
            },
            "colorscale": [
             [
              0,
              "#0d0887"
             ],
             [
              0.1111111111111111,
              "#46039f"
             ],
             [
              0.2222222222222222,
              "#7201a8"
             ],
             [
              0.3333333333333333,
              "#9c179e"
             ],
             [
              0.4444444444444444,
              "#bd3786"
             ],
             [
              0.5555555555555556,
              "#d8576b"
             ],
             [
              0.6666666666666666,
              "#ed7953"
             ],
             [
              0.7777777777777778,
              "#fb9f3a"
             ],
             [
              0.8888888888888888,
              "#fdca26"
             ],
             [
              1,
              "#f0f921"
             ]
            ],
            "type": "surface"
           }
          ],
          "table": [
           {
            "cells": {
             "fill": {
              "color": "#EBF0F8"
             },
             "line": {
              "color": "white"
             }
            },
            "header": {
             "fill": {
              "color": "#C8D4E3"
             },
             "line": {
              "color": "white"
             }
            },
            "type": "table"
           }
          ]
         },
         "layout": {
          "annotationdefaults": {
           "arrowcolor": "#2a3f5f",
           "arrowhead": 0,
           "arrowwidth": 1
          },
          "autotypenumbers": "strict",
          "coloraxis": {
           "colorbar": {
            "outlinewidth": 0,
            "ticks": ""
           }
          },
          "colorscale": {
           "diverging": [
            [
             0,
             "#8e0152"
            ],
            [
             0.1,
             "#c51b7d"
            ],
            [
             0.2,
             "#de77ae"
            ],
            [
             0.3,
             "#f1b6da"
            ],
            [
             0.4,
             "#fde0ef"
            ],
            [
             0.5,
             "#f7f7f7"
            ],
            [
             0.6,
             "#e6f5d0"
            ],
            [
             0.7,
             "#b8e186"
            ],
            [
             0.8,
             "#7fbc41"
            ],
            [
             0.9,
             "#4d9221"
            ],
            [
             1,
             "#276419"
            ]
           ],
           "sequential": [
            [
             0,
             "#0d0887"
            ],
            [
             0.1111111111111111,
             "#46039f"
            ],
            [
             0.2222222222222222,
             "#7201a8"
            ],
            [
             0.3333333333333333,
             "#9c179e"
            ],
            [
             0.4444444444444444,
             "#bd3786"
            ],
            [
             0.5555555555555556,
             "#d8576b"
            ],
            [
             0.6666666666666666,
             "#ed7953"
            ],
            [
             0.7777777777777778,
             "#fb9f3a"
            ],
            [
             0.8888888888888888,
             "#fdca26"
            ],
            [
             1,
             "#f0f921"
            ]
           ],
           "sequentialminus": [
            [
             0,
             "#0d0887"
            ],
            [
             0.1111111111111111,
             "#46039f"
            ],
            [
             0.2222222222222222,
             "#7201a8"
            ],
            [
             0.3333333333333333,
             "#9c179e"
            ],
            [
             0.4444444444444444,
             "#bd3786"
            ],
            [
             0.5555555555555556,
             "#d8576b"
            ],
            [
             0.6666666666666666,
             "#ed7953"
            ],
            [
             0.7777777777777778,
             "#fb9f3a"
            ],
            [
             0.8888888888888888,
             "#fdca26"
            ],
            [
             1,
             "#f0f921"
            ]
           ]
          },
          "colorway": [
           "#636efa",
           "#EF553B",
           "#00cc96",
           "#ab63fa",
           "#FFA15A",
           "#19d3f3",
           "#FF6692",
           "#B6E880",
           "#FF97FF",
           "#FECB52"
          ],
          "font": {
           "color": "#2a3f5f"
          },
          "geo": {
           "bgcolor": "white",
           "lakecolor": "white",
           "landcolor": "#E5ECF6",
           "showlakes": true,
           "showland": true,
           "subunitcolor": "white"
          },
          "hoverlabel": {
           "align": "left"
          },
          "hovermode": "closest",
          "mapbox": {
           "style": "light"
          },
          "paper_bgcolor": "white",
          "plot_bgcolor": "#E5ECF6",
          "polar": {
           "angularaxis": {
            "gridcolor": "white",
            "linecolor": "white",
            "ticks": ""
           },
           "bgcolor": "#E5ECF6",
           "radialaxis": {
            "gridcolor": "white",
            "linecolor": "white",
            "ticks": ""
           }
          },
          "scene": {
           "xaxis": {
            "backgroundcolor": "#E5ECF6",
            "gridcolor": "white",
            "gridwidth": 2,
            "linecolor": "white",
            "showbackground": true,
            "ticks": "",
            "zerolinecolor": "white"
           },
           "yaxis": {
            "backgroundcolor": "#E5ECF6",
            "gridcolor": "white",
            "gridwidth": 2,
            "linecolor": "white",
            "showbackground": true,
            "ticks": "",
            "zerolinecolor": "white"
           },
           "zaxis": {
            "backgroundcolor": "#E5ECF6",
            "gridcolor": "white",
            "gridwidth": 2,
            "linecolor": "white",
            "showbackground": true,
            "ticks": "",
            "zerolinecolor": "white"
           }
          },
          "shapedefaults": {
           "line": {
            "color": "#2a3f5f"
           }
          },
          "ternary": {
           "aaxis": {
            "gridcolor": "white",
            "linecolor": "white",
            "ticks": ""
           },
           "baxis": {
            "gridcolor": "white",
            "linecolor": "white",
            "ticks": ""
           },
           "bgcolor": "#E5ECF6",
           "caxis": {
            "gridcolor": "white",
            "linecolor": "white",
            "ticks": ""
           }
          },
          "title": {
           "x": 0.05
          },
          "xaxis": {
           "automargin": true,
           "gridcolor": "white",
           "linecolor": "white",
           "ticks": "",
           "title": {
            "standoff": 15
           },
           "zerolinecolor": "white",
           "zerolinewidth": 2
          },
          "yaxis": {
           "automargin": true,
           "gridcolor": "white",
           "linecolor": "white",
           "ticks": "",
           "title": {
            "standoff": 15
           },
           "zerolinecolor": "white",
           "zerolinewidth": 2
          }
         }
        },
        "title": {
         "text": "Correlation Heatmap (Interactive)"
        },
        "xaxis": {
         "dtick": 1,
         "gridcolor": "rgb(0, 0, 0)",
         "side": "top",
         "ticks": "",
         "title": {
          "text": "Features"
         }
        },
        "yaxis": {
         "dtick": 1,
         "ticks": "",
         "ticksuffix": "  ",
         "title": {
          "text": "Features"
         }
        }
       }
      }
     },
     "metadata": {},
     "output_type": "display_data"
    },
    {
     "data": {
      "application/vnd.plotly.v1+json": {
       "config": {
        "plotlyServerURL": "https://plot.ly"
       },
       "data": [
        {
         "hovertemplate": "BMI=%{x}<br>Disease Progression=%{y}<extra></extra>",
         "legendgroup": "",
         "marker": {
          "color": "#636efa",
          "symbol": "circle"
         },
         "mode": "markers",
         "name": "",
         "orientation": "v",
         "showlegend": false,
         "type": "scatter",
         "x": {
          "bdata": "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",
          "dtype": "f8"
         },
         "xaxis": "x",
         "y": {
          "bdata": "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",
          "dtype": "f8"
         },
         "yaxis": "y"
        },
        {
         "hovertemplate": "<b>OLS trendline</b><br>target = 949.435 * bmi + 152.133<br>R<sup>2</sup>=0.343924<br><br>BMI=%{x}<br>Disease Progression=%{y} <b>(trend)</b><extra></extra>",
         "legendgroup": "",
         "marker": {
          "color": "#636efa",
          "symbol": "circle"
         },
         "mode": "lines",
         "name": "",
         "showlegend": false,
         "type": "scatter",
         "x": {
          "bdata": "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",
          "dtype": "f8"
         },
         "xaxis": "x",
         "y": {
          "bdata": "EZtcXhGbUEBuDUdTj9xQQN/W8CaH4lFAPUnbGwUkUkD1LbAFAadSQPUtsAUBp1JAUKCa+n7oUkCuEoXv/ClTQGf3Wdn4rFNAZ/dZ2fisU0DEaUTOdu5TQCDcLsP0L1RAfE4ZuHJxVEDawAOt8LJUQNrAA63wslRANTPuoW70VECSpdiW7DVVQO4Xw4tqd1VA7hfDi2p3VUDuF8OLandVQEuKrYDouFVAqfyXdWb6VUADb4Jq5DtWQANvgmrkO1ZAA2+CauQ7VkBi4WxfYn1WQGLhbF9ifVZAYuFsX2J9VkBi4WxfYn1WQL1TV1TgvlZAvVNXVOC+VkC9U1dU4L5WQBrGQUleAFdAGsZBSV4AV0B3OCw+3EFXQHc4LD7cQVdAdzgsPtxBV0DTqhYzWoNXQNOqFjNag1dAMB0BKNjEV0AwHQEo2MRXQIuP6xxWBlhAi4/rHFYGWEDpAdYR1EdYQOkB1hHUR1hA6QHWEdRHWEDpAdYR1EdYQOkB1hHUR1hAR3TABlKJWEBHdMAGUolYQKHmqvvPylhAoeaq+8/KWECh5qr7z8pYQKHmqvvPylhA/1iV8E0MWUD/WJXwTQxZQP9YlfBNDFlAWst/5ctNWUC4PWraSY9ZQBWwVM/H0FlAcCI/xEUSWkBwIj/ERRJaQM6UKbnDU1pAKQcUrkGVWkApBxSuQZVaQIZ5/qK/1lpAhnn+or/WWkCGef6iv9ZaQOTr6Jc9GFtA5Ovolz0YW0Dk6+iXPRhbQOTr6Jc9GFtA5Ovolz0YW0Dk6+iXPRhbQOTr6Jc9GFtAP17TjLtZW0A/XtOMu1lbQD9e04y7WVtAnNC9gTmbW0D3Qqh2t9xbQFW1kms1HlxAVbWSazUeXEBVtZJrNR5cQFW1kms1HlxAsid9YLNfXECyJ31gs19cQLInfWCzX1xAsid9YLNfXECyJ31gs19cQA2aZ1UxoVxADZpnVTGhXEANmmdVMaFcQA2aZ1UxoVxAawxSSq/iXEBrDFJKr+JcQGsMUkqv4lxAawxSSq/iXEBrDFJKr+JcQMZ+PD8tJF1Axn48Py0kXUDGfjw/LSRdQCPxJjSrZV1AI/EmNKtlXUAj8SY0q2VdQCPxJjSrZV1AI/EmNKtlXUCBYxEpKaddQIFjESkpp11AgWMRKSmnXUCBYxEpKaddQNzV+x2n6F1A3NX7HafoXUDc1fsdp+hdQDpI5hIlKl5AOkjmEiUqXkA6SOYSJSpeQDpI5hIlKl5AOkjmEiUqXkA6SOYSJSpeQJS60Aeja15AlLrQB6NrXkCUutAHo2teQJS60Aeja15A8iy7/CCtXkDyLLv8IK1eQPIsu/wgrV5A8iy7/CCtXkDyLLv8IK1eQPIsu/wgrV5A8iy7/CCtXkDyLLv8IK1eQFCfpfGe7l5AUJ+l8Z7uXkBQn6Xxnu5eQFCfpfGe7l5AUJ+l8Z7uXkCrEZDmHDBfQKsRkOYcMF9ACIR625pxX0Bj9mTQGLNfQMFoT8WW9F9AwWhPxZb0X0DBaE/FlvRfQMFoT8WW9F9AwWhPxZb0X0DBaE/FlvRfQMFoT8WW9F9Aj+0cXQobYECP7RxdChtgQI/tHF0KG2BAj+0cXQobYECP7RxdChtgQI/tHF0KG2BAj+0cXQobYECP7RxdChtgQL0mklfJO2BAvSaSV8k7YEC9JpJXyTtgQL0mklfJO2BAvSaSV8k7YEC9JpJXyTtgQOxfB1KIXGBA7F8HUohcYEDsXwdSiFxgQOxfB1KIXGBAGZl8TEd9YEAZmXxMR31gQBmZfExHfWBASNLxRgaeYEBI0vFGBp5gQEjS8UYGnmBASNLxRgaeYEBI0vFGBp5gQEjS8UYGnmBAdwtnQcW+YEB3C2dBxb5gQKRE3DuE32BApETcO4TfYECkRNw7hN9gQKRE3DuE32BApETcO4TfYEDTfVE2QwBhQNN9UTZDAGFAALfGMAIhYUAAt8YwAiFhQAC3xjACIWFAALfGMAIhYUAAt8YwAiFhQC/wOyvBQWFAL/A7K8FBYUBeKbElgGJhQF4psSWAYmFAi2ImID+DYUCLYiYgP4NhQItiJiA/g2FAi2ImID+DYUC6m5sa/qNhQLqbmxr+o2FAupubGv6jYUC6m5sa/qNhQLqbmxr+o2FA6NQQFb3EYUDo1BAVvcRhQOjUEBW9xGFA6NQQFb3EYUDo1BAVvcRhQBYOhg985WFAFg6GD3zlYUAWDoYPfOVhQBYOhg985WFAFg6GD3zlYUBFR/sJOwZiQEVH+wk7BmJARUf7CTsGYkBFR/sJOwZiQEVH+wk7BmJARUf7CTsGYkBFR/sJOwZiQHOAcAT6JmJAc4BwBPomYkBzgHAE+iZiQHOAcAT6JmJAc4BwBPomYkCiueX+uEdiQKK55f64R2JAornl/rhHYkCiueX+uEdiQKK55f64R2JAz/Ja+XdoYkDP8lr5d2hiQM/yWvl3aGJAz/Ja+XdoYkD+K9DzNoliQP4r0PM2iWJA/ivQ8zaJYkD+K9DzNoliQP4r0PM2iWJALWVF7vWpYkAtZUXu9aliQC1lRe71qWJAWp666LTKYkBanrrotMpiQFqeuui0ymJAWp666LTKYkCJ1y/jc+tiQInXL+Nz62JAidcv43PrYkC2EKXdMgxjQOVJGtjxLGNA5Uka2PEsY0DlSRrY8SxjQOVJGtjxLGNA5Uka2PEsY0DlSRrY8SxjQBSDj9KwTWNAFIOP0rBNY0AUg4/SsE1jQEG8BM1vbmNAQbwEzW9uY0Bw9XnHLo9jQHD1eccuj2NAcPV5xy6PY0Bw9XnHLo9jQHD1eccuj2NAcPV5xy6PY0CeLu/B7a9jQJ4u78Htr2NAni7vwe2vY0CeLu/B7a9jQJ4u78Htr2NAzWdkvKzQY0DNZ2S8rNBjQM1nZLys0GNAzWdkvKzQY0DNZ2S8rNBjQCnaTrEqEmRAKdpOsSoSZEBYE8Sr6TJkQFgTxKvpMmRAWBPEq+kyZEBYE8Sr6TJkQIVMOaaoU2RAhUw5pqhTZEC0ha6gZ3RkQLSFrqBndGRAtIWuoGd0ZEAQ+JiV5bVkQBD4mJXltWRAEPiYleW1ZEAQ+JiV5bVkQBD4mJXltWRAEPiYleW1ZEA/MQ6QpNZkQD8xDpCk1mRAPzEOkKTWZEBsaoOKY/dkQGxqg4pj92RAbGqDimP3ZECbo/iEIhhlQJuj+IQiGGVAm6P4hCIYZUCbo/iEIhhlQMrcbX/hOGVAytxtf+E4ZUDK3G1/4ThlQMrcbX/hOGVA+BXjeaBZZUD4FeN5oFllQPgV43mgWWVAJk9YdF96ZUAmT1h0X3plQCZPWHRfemVAVIjNbh6bZUCDwUJp3btlQIPBQmndu2VAsfq3Y5zcZUCx+rdjnNxlQN8zLV5b/WVA3zMtXlv9ZUAObaJYGh5mQA5tolgaHmZADm2iWBoeZkA7phdT2T5mQGrfjE2YX2ZAat+MTZhfZkBq34xNmF9mQMZRd0IWoWZAxlF3QhahZkDGUXdCFqFmQMZRd0IWoWZAxlF3QhahZkD1iuw81cFmQCLEYTeU4mZAUf3WMVMDZ0BR/dYxUwNnQFH91jFTA2dAgDZMLBIkZ0CANkwsEiRnQK5vwSbRRGdArm/BJtFEZ0DcqDYhkGVnQNyoNiGQZWdACuKrG0+GZ0A4GyEWDqdnQDgbIRYOp2dAOBshFg6nZ0A4GyEWDqdnQGhUlhDNx2dAaFSWEM3HZ0BoVJYQzcdnQJWNCwuM6GdAlY0LC4zoZ0DExoAFSwloQMTGgAVLCWhA8f/1/wkqaEDx//X/CSpoQCA5a/rISmhAIDlr+shKaEBPcuD0h2toQE9y4PSHa2hAT3Lg9IdraEBPcuD0h2toQHyrVe9GjGhAfKtV70aMaECr5MrpBa1oQKvkyukFrWhAB1e13oPuaEAHV7Xeg+5oQAdXtd6D7mhAY8mf0wEwaUBjyZ/TATBpQJICFc7AUGlAwDuKyH9xaUDAO4rIf3FpQMA7ish/cWlAwDuKyH9xaUDvdP/CPpJpQO90/8I+kmlAHa50vf2yaUAdrnS9/bJpQB2udL39smlAeiBfsnv0aUB6IF+ye/RpQKdZ1Kw6FWpAp1nUrDoVakCnWdSsOhVqQKdZ1Kw6FWpAp1nUrDoVakDWkkmn+TVqQNaSSaf5NWpA1pJJp/k1akDWkkmn+TVqQNaSSaf5NWpABcy+obhWakAFzL6huFZqQAXMvqG4VmpABcy+obhWakBgPqmWNphqQI53HpH1uGpAjncekfW4akDs6QiGc/pqQBsjfoAyG2tAGyN+gDIba0BHXPN68TtrQEdc83rxO2tAdpVodbBca0Clzt1vb31rQKXO3W9vfWtApc7db299a0Clzt1vb31rQKXO3W9vfWtA1AdTai6ea0ACQchk7b5rQC56PV+s32tAjOwnVCohbEC7JZ1O6UFsQBaYh0Nng2xARdH8PSakbED9tdEnIidtQP210SciJ21AiWExF1+JbUCJYTEXX4ltQIlhMRdfiW1AQkYGAVsMbkBCRgYBWwxuQEJGBgFbDG5AcX97+xktbkDL8WXwl25uQPsq2+pWj25AKmRQ5RWwbkBAuw/Ej3RvQEC7D8SPdG9AlOwsVCUMcEAriWfRhBxwQPBeF0mjTXBAqEPsMp/QcEDXfGEtXvFwQAa21icdEnFAnFIRpXwicUBWN+aOeKVxQFKs71GtDXNAoy3/uAihc0A=",
          "dtype": "f8"
         },
         "yaxis": "y"
        }
       ],
       "layout": {
        "legend": {
         "tracegroupgap": 0
        },
        "template": {
         "data": {
          "bar": [
           {
            "error_x": {
             "color": "#2a3f5f"
            },
            "error_y": {
             "color": "#2a3f5f"
            },
            "marker": {
             "line": {
              "color": "#E5ECF6",
              "width": 0.5
             },
             "pattern": {
              "fillmode": "overlay",
              "size": 10,
              "solidity": 0.2
             }
            },
            "type": "bar"
           }
          ],
          "barpolar": [
           {
            "marker": {
             "line": {
              "color": "#E5ECF6",
              "width": 0.5
             },
             "pattern": {
              "fillmode": "overlay",
              "size": 10,
              "solidity": 0.2
             }
            },
            "type": "barpolar"
           }
          ],
          "carpet": [
           {
            "aaxis": {
             "endlinecolor": "#2a3f5f",
             "gridcolor": "white",
             "linecolor": "white",
             "minorgridcolor": "white",
             "startlinecolor": "#2a3f5f"
            },
            "baxis": {
             "endlinecolor": "#2a3f5f",
             "gridcolor": "white",
             "linecolor": "white",
             "minorgridcolor": "white",
             "startlinecolor": "#2a3f5f"
            },
            "type": "carpet"
           }
          ],
          "choropleth": [
           {
            "colorbar": {
             "outlinewidth": 0,
             "ticks": ""
            },
            "type": "choropleth"
           }
          ],
          "contour": [
           {
            "colorbar": {
             "outlinewidth": 0,
             "ticks": ""
            },
            "colorscale": [
             [
              0,
              "#0d0887"
             ],
             [
              0.1111111111111111,
              "#46039f"
             ],
             [
              0.2222222222222222,
              "#7201a8"
             ],
             [
              0.3333333333333333,
              "#9c179e"
             ],
             [
              0.4444444444444444,
              "#bd3786"
             ],
             [
              0.5555555555555556,
              "#d8576b"
             ],
             [
              0.6666666666666666,
              "#ed7953"
             ],
             [
              0.7777777777777778,
              "#fb9f3a"
             ],
             [
              0.8888888888888888,
              "#fdca26"
             ],
             [
              1,
              "#f0f921"
             ]
            ],
            "type": "contour"
           }
          ],
          "contourcarpet": [
           {
            "colorbar": {
             "outlinewidth": 0,
             "ticks": ""
            },
            "type": "contourcarpet"
           }
          ],
          "heatmap": [
           {
            "colorbar": {
             "outlinewidth": 0,
             "ticks": ""
            },
            "colorscale": [
             [
              0,
              "#0d0887"
             ],
             [
              0.1111111111111111,
              "#46039f"
             ],
             [
              0.2222222222222222,
              "#7201a8"
             ],
             [
              0.3333333333333333,
              "#9c179e"
             ],
             [
              0.4444444444444444,
              "#bd3786"
             ],
             [
              0.5555555555555556,
              "#d8576b"
             ],
             [
              0.6666666666666666,
              "#ed7953"
             ],
             [
              0.7777777777777778,
              "#fb9f3a"
             ],
             [
              0.8888888888888888,
              "#fdca26"
             ],
             [
              1,
              "#f0f921"
             ]
            ],
            "type": "heatmap"
           }
          ],
          "histogram": [
           {
            "marker": {
             "pattern": {
              "fillmode": "overlay",
              "size": 10,
              "solidity": 0.2
             }
            },
            "type": "histogram"
           }
          ],
          "histogram2d": [
           {
            "colorbar": {
             "outlinewidth": 0,
             "ticks": ""
            },
            "colorscale": [
             [
              0,
              "#0d0887"
             ],
             [
              0.1111111111111111,
              "#46039f"
             ],
             [
              0.2222222222222222,
              "#7201a8"
             ],
             [
              0.3333333333333333,
              "#9c179e"
             ],
             [
              0.4444444444444444,
              "#bd3786"
             ],
             [
              0.5555555555555556,
              "#d8576b"
             ],
             [
              0.6666666666666666,
              "#ed7953"
             ],
             [
              0.7777777777777778,
              "#fb9f3a"
             ],
             [
              0.8888888888888888,
              "#fdca26"
             ],
             [
              1,
              "#f0f921"
             ]
            ],
            "type": "histogram2d"
           }
          ],
          "histogram2dcontour": [
           {
            "colorbar": {
             "outlinewidth": 0,
             "ticks": ""
            },
            "colorscale": [
             [
              0,
              "#0d0887"
             ],
             [
              0.1111111111111111,
              "#46039f"
             ],
             [
              0.2222222222222222,
              "#7201a8"
             ],
             [
              0.3333333333333333,
              "#9c179e"
             ],
             [
              0.4444444444444444,
              "#bd3786"
             ],
             [
              0.5555555555555556,
              "#d8576b"
             ],
             [
              0.6666666666666666,
              "#ed7953"
             ],
             [
              0.7777777777777778,
              "#fb9f3a"
             ],
             [
              0.8888888888888888,
              "#fdca26"
             ],
             [
              1,
              "#f0f921"
             ]
            ],
            "type": "histogram2dcontour"
           }
          ],
          "mesh3d": [
           {
            "colorbar": {
             "outlinewidth": 0,
             "ticks": ""
            },
            "type": "mesh3d"
           }
          ],
          "parcoords": [
           {
            "line": {
             "colorbar": {
              "outlinewidth": 0,
              "ticks": ""
             }
            },
            "type": "parcoords"
           }
          ],
          "pie": [
           {
            "automargin": true,
            "type": "pie"
           }
          ],
          "scatter": [
           {
            "fillpattern": {
             "fillmode": "overlay",
             "size": 10,
             "solidity": 0.2
            },
            "type": "scatter"
           }
          ],
          "scatter3d": [
           {
            "line": {
             "colorbar": {
              "outlinewidth": 0,
              "ticks": ""
             }
            },
            "marker": {
             "colorbar": {
              "outlinewidth": 0,
              "ticks": ""
             }
            },
            "type": "scatter3d"
           }
          ],
          "scattercarpet": [
           {
            "marker": {
             "colorbar": {
              "outlinewidth": 0,
              "ticks": ""
             }
            },
            "type": "scattercarpet"
           }
          ],
          "scattergeo": [
           {
            "marker": {
             "colorbar": {
              "outlinewidth": 0,
              "ticks": ""
             }
            },
            "type": "scattergeo"
           }
          ],
          "scattergl": [
           {
            "marker": {
             "colorbar": {
              "outlinewidth": 0,
              "ticks": ""
             }
            },
            "type": "scattergl"
           }
          ],
          "scattermap": [
           {
            "marker": {
             "colorbar": {
              "outlinewidth": 0,
              "ticks": ""
             }
            },
            "type": "scattermap"
           }
          ],
          "scattermapbox": [
           {
            "marker": {
             "colorbar": {
              "outlinewidth": 0,
              "ticks": ""
             }
            },
            "type": "scattermapbox"
           }
          ],
          "scatterpolar": [
           {
            "marker": {
             "colorbar": {
              "outlinewidth": 0,
              "ticks": ""
             }
            },
            "type": "scatterpolar"
           }
          ],
          "scatterpolargl": [
           {
            "marker": {
             "colorbar": {
              "outlinewidth": 0,
              "ticks": ""
             }
            },
            "type": "scatterpolargl"
           }
          ],
          "scatterternary": [
           {
            "marker": {
             "colorbar": {
              "outlinewidth": 0,
              "ticks": ""
             }
            },
            "type": "scatterternary"
           }
          ],
          "surface": [
           {
            "colorbar": {
             "outlinewidth": 0,
             "ticks": ""
            },
            "colorscale": [
             [
              0,
              "#0d0887"
             ],
             [
              0.1111111111111111,
              "#46039f"
             ],
             [
              0.2222222222222222,
              "#7201a8"
             ],
             [
              0.3333333333333333,
              "#9c179e"
             ],
             [
              0.4444444444444444,
              "#bd3786"
             ],
             [
              0.5555555555555556,
              "#d8576b"
             ],
             [
              0.6666666666666666,
              "#ed7953"
             ],
             [
              0.7777777777777778,
              "#fb9f3a"
             ],
             [
              0.8888888888888888,
              "#fdca26"
             ],
             [
              1,
              "#f0f921"
             ]
            ],
            "type": "surface"
           }
          ],
          "table": [
           {
            "cells": {
             "fill": {
              "color": "#EBF0F8"
             },
             "line": {
              "color": "white"
             }
            },
            "header": {
             "fill": {
              "color": "#C8D4E3"
             },
             "line": {
              "color": "white"
             }
            },
            "type": "table"
           }
          ]
         },
         "layout": {
          "annotationdefaults": {
           "arrowcolor": "#2a3f5f",
           "arrowhead": 0,
           "arrowwidth": 1
          },
          "autotypenumbers": "strict",
          "coloraxis": {
           "colorbar": {
            "outlinewidth": 0,
            "ticks": ""
           }
          },
          "colorscale": {
           "diverging": [
            [
             0,
             "#8e0152"
            ],
            [
             0.1,
             "#c51b7d"
            ],
            [
             0.2,
             "#de77ae"
            ],
            [
             0.3,
             "#f1b6da"
            ],
            [
             0.4,
             "#fde0ef"
            ],
            [
             0.5,
             "#f7f7f7"
            ],
            [
             0.6,
             "#e6f5d0"
            ],
            [
             0.7,
             "#b8e186"
            ],
            [
             0.8,
             "#7fbc41"
            ],
            [
             0.9,
             "#4d9221"
            ],
            [
             1,
             "#276419"
            ]
           ],
           "sequential": [
            [
             0,
             "#0d0887"
            ],
            [
             0.1111111111111111,
             "#46039f"
            ],
            [
             0.2222222222222222,
             "#7201a8"
            ],
            [
             0.3333333333333333,
             "#9c179e"
            ],
            [
             0.4444444444444444,
             "#bd3786"
            ],
            [
             0.5555555555555556,
             "#d8576b"
            ],
            [
             0.6666666666666666,
             "#ed7953"
            ],
            [
             0.7777777777777778,
             "#fb9f3a"
            ],
            [
             0.8888888888888888,
             "#fdca26"
            ],
            [
             1,
             "#f0f921"
            ]
           ],
           "sequentialminus": [
            [
             0,
             "#0d0887"
            ],
            [
             0.1111111111111111,
             "#46039f"
            ],
            [
             0.2222222222222222,
             "#7201a8"
            ],
            [
             0.3333333333333333,
             "#9c179e"
            ],
            [
             0.4444444444444444,
             "#bd3786"
            ],
            [
             0.5555555555555556,
             "#d8576b"
            ],
            [
             0.6666666666666666,
             "#ed7953"
            ],
            [
             0.7777777777777778,
             "#fb9f3a"
            ],
            [
             0.8888888888888888,
             "#fdca26"
            ],
            [
             1,
             "#f0f921"
            ]
           ]
          },
          "colorway": [
           "#636efa",
           "#EF553B",
           "#00cc96",
           "#ab63fa",
           "#FFA15A",
           "#19d3f3",
           "#FF6692",
           "#B6E880",
           "#FF97FF",
           "#FECB52"
          ],
          "font": {
           "color": "#2a3f5f"
          },
          "geo": {
           "bgcolor": "white",
           "lakecolor": "white",
           "landcolor": "#E5ECF6",
           "showlakes": true,
           "showland": true,
           "subunitcolor": "white"
          },
          "hoverlabel": {
           "align": "left"
          },
          "hovermode": "closest",
          "mapbox": {
           "style": "light"
          },
          "paper_bgcolor": "white",
          "plot_bgcolor": "#E5ECF6",
          "polar": {
           "angularaxis": {
            "gridcolor": "white",
            "linecolor": "white",
            "ticks": ""
           },
           "bgcolor": "#E5ECF6",
           "radialaxis": {
            "gridcolor": "white",
            "linecolor": "white",
            "ticks": ""
           }
          },
          "scene": {
           "xaxis": {
            "backgroundcolor": "#E5ECF6",
            "gridcolor": "white",
            "gridwidth": 2,
            "linecolor": "white",
            "showbackground": true,
            "ticks": "",
            "zerolinecolor": "white"
           },
           "yaxis": {
            "backgroundcolor": "#E5ECF6",
            "gridcolor": "white",
            "gridwidth": 2,
            "linecolor": "white",
            "showbackground": true,
            "ticks": "",
            "zerolinecolor": "white"
           },
           "zaxis": {
            "backgroundcolor": "#E5ECF6",
            "gridcolor": "white",
            "gridwidth": 2,
            "linecolor": "white",
            "showbackground": true,
            "ticks": "",
            "zerolinecolor": "white"
           }
          },
          "shapedefaults": {
           "line": {
            "color": "#2a3f5f"
           }
          },
          "ternary": {
           "aaxis": {
            "gridcolor": "white",
            "linecolor": "white",
            "ticks": ""
           },
           "baxis": {
            "gridcolor": "white",
            "linecolor": "white",
            "ticks": ""
           },
           "bgcolor": "#E5ECF6",
           "caxis": {
            "gridcolor": "white",
            "linecolor": "white",
            "ticks": ""
           }
          },
          "title": {
           "x": 0.05
          },
          "xaxis": {
           "automargin": true,
           "gridcolor": "white",
           "linecolor": "white",
           "ticks": "",
           "title": {
            "standoff": 15
           },
           "zerolinecolor": "white",
           "zerolinewidth": 2
          },
          "yaxis": {
           "automargin": true,
           "gridcolor": "white",
           "linecolor": "white",
           "ticks": "",
           "title": {
            "standoff": 15
           },
           "zerolinecolor": "white",
           "zerolinewidth": 2
          }
         }
        },
        "title": {
         "text": "Interactive Scatterplot of BMI vs Disease Progression"
        },
        "xaxis": {
         "anchor": "y",
         "domain": [
          0,
          1
         ],
         "title": {
          "text": "BMI"
         }
        },
        "yaxis": {
         "anchor": "x",
         "domain": [
          0,
          1
         ],
         "title": {
          "text": "Disease Progression"
         }
        }
       }
      }
     },
     "metadata": {},
     "output_type": "display_data"
    },
    {
     "data": {
      "application/vnd.plotly.v1+json": {
       "config": {
        "plotlyServerURL": "https://plot.ly"
       },
       "data": [
        {
         "hovertemplate": "Blood Pressure=%{x}<br>Disease Progression=%{y}<extra></extra>",
         "legendgroup": "",
         "marker": {
          "color": "#636efa",
          "symbol": "circle"
         },
         "mode": "markers",
         "name": "",
         "orientation": "v",
         "showlegend": false,
         "type": "scatter",
         "x": {
          "bdata": "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",
          "dtype": "f8"
         },
         "xaxis": "x",
         "y": {
          "bdata": "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",
          "dtype": "f8"
         },
         "yaxis": "y"
        },
        {
         "hovertemplate": "<b>OLS trendline</b><br>target = 714.738 * bp + 152.133<br>R<sup>2</sup>=0.194906<br><br>Blood Pressure=%{x}<br>Disease Progression=%{y} <b>(trend)</b><extra></extra>",
         "legendgroup": "",
         "marker": {
          "color": "#636efa",
          "symbol": "circle"
         },
         "mode": "lines",
         "name": "",
         "showlegend": false,
         "type": "scatter",
         "x": {
          "bdata": "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",
          "dtype": "f8"
         },
         "xaxis": "x",
         "y": {
          "bdata": "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",
          "dtype": "f8"
         },
         "yaxis": "y"
        }
       ],
       "layout": {
        "legend": {
         "tracegroupgap": 0
        },
        "template": {
         "data": {
          "bar": [
           {
            "error_x": {
             "color": "#2a3f5f"
            },
            "error_y": {
             "color": "#2a3f5f"
            },
            "marker": {
             "line": {
              "color": "#E5ECF6",
              "width": 0.5
             },
             "pattern": {
              "fillmode": "overlay",
              "size": 10,
              "solidity": 0.2
             }
            },
            "type": "bar"
           }
          ],
          "barpolar": [
           {
            "marker": {
             "line": {
              "color": "#E5ECF6",
              "width": 0.5
             },
             "pattern": {
              "fillmode": "overlay",
              "size": 10,
              "solidity": 0.2
             }
            },
            "type": "barpolar"
           }
          ],
          "carpet": [
           {
            "aaxis": {
             "endlinecolor": "#2a3f5f",
             "gridcolor": "white",
             "linecolor": "white",
             "minorgridcolor": "white",
             "startlinecolor": "#2a3f5f"
            },
            "baxis": {
             "endlinecolor": "#2a3f5f",
             "gridcolor": "white",
             "linecolor": "white",
             "minorgridcolor": "white",
             "startlinecolor": "#2a3f5f"
            },
            "type": "carpet"
           }
          ],
          "choropleth": [
           {
            "colorbar": {
             "outlinewidth": 0,
             "ticks": ""
            },
            "type": "choropleth"
           }
          ],
          "contour": [
           {
            "colorbar": {
             "outlinewidth": 0,
             "ticks": ""
            },
            "colorscale": [
             [
              0,
              "#0d0887"
             ],
             [
              0.1111111111111111,
              "#46039f"
             ],
             [
              0.2222222222222222,
              "#7201a8"
             ],
             [
              0.3333333333333333,
              "#9c179e"
             ],
             [
              0.4444444444444444,
              "#bd3786"
             ],
             [
              0.5555555555555556,
              "#d8576b"
             ],
             [
              0.6666666666666666,
              "#ed7953"
             ],
             [
              0.7777777777777778,
              "#fb9f3a"
             ],
             [
              0.8888888888888888,
              "#fdca26"
             ],
             [
              1,
              "#f0f921"
             ]
            ],
            "type": "contour"
           }
          ],
          "contourcarpet": [
           {
            "colorbar": {
             "outlinewidth": 0,
             "ticks": ""
            },
            "type": "contourcarpet"
           }
          ],
          "heatmap": [
           {
            "colorbar": {
             "outlinewidth": 0,
             "ticks": ""
            },
            "colorscale": [
             [
              0,
              "#0d0887"
             ],
             [
              0.1111111111111111,
              "#46039f"
             ],
             [
              0.2222222222222222,
              "#7201a8"
             ],
             [
              0.3333333333333333,
              "#9c179e"
             ],
             [
              0.4444444444444444,
              "#bd3786"
             ],
             [
              0.5555555555555556,
              "#d8576b"
             ],
             [
              0.6666666666666666,
              "#ed7953"
             ],
             [
              0.7777777777777778,
              "#fb9f3a"
             ],
             [
              0.8888888888888888,
              "#fdca26"
             ],
             [
              1,
              "#f0f921"
             ]
            ],
            "type": "heatmap"
           }
          ],
          "histogram": [
           {
            "marker": {
             "pattern": {
              "fillmode": "overlay",
              "size": 10,
              "solidity": 0.2
             }
            },
            "type": "histogram"
           }
          ],
          "histogram2d": [
           {
            "colorbar": {
             "outlinewidth": 0,
             "ticks": ""
            },
            "colorscale": [
             [
              0,
              "#0d0887"
             ],
             [
              0.1111111111111111,
              "#46039f"
             ],
             [
              0.2222222222222222,
              "#7201a8"
             ],
             [
              0.3333333333333333,
              "#9c179e"
             ],
             [
              0.4444444444444444,
              "#bd3786"
             ],
             [
              0.5555555555555556,
              "#d8576b"
             ],
             [
              0.6666666666666666,
              "#ed7953"
             ],
             [
              0.7777777777777778,
              "#fb9f3a"
             ],
             [
              0.8888888888888888,
              "#fdca26"
             ],
             [
              1,
              "#f0f921"
             ]
            ],
            "type": "histogram2d"
           }
          ],
          "histogram2dcontour": [
           {
            "colorbar": {
             "outlinewidth": 0,
             "ticks": ""
            },
            "colorscale": [
             [
              0,
              "#0d0887"
             ],
             [
              0.1111111111111111,
              "#46039f"
             ],
             [
              0.2222222222222222,
              "#7201a8"
             ],
             [
              0.3333333333333333,
              "#9c179e"
             ],
             [
              0.4444444444444444,
              "#bd3786"
             ],
             [
              0.5555555555555556,
              "#d8576b"
             ],
             [
              0.6666666666666666,
              "#ed7953"
             ],
             [
              0.7777777777777778,
              "#fb9f3a"
             ],
             [
              0.8888888888888888,
              "#fdca26"
             ],
             [
              1,
              "#f0f921"
             ]
            ],
            "type": "histogram2dcontour"
           }
          ],
          "mesh3d": [
           {
            "colorbar": {
             "outlinewidth": 0,
             "ticks": ""
            },
            "type": "mesh3d"
           }
          ],
          "parcoords": [
           {
            "line": {
             "colorbar": {
              "outlinewidth": 0,
              "ticks": ""
             }
            },
            "type": "parcoords"
           }
          ],
          "pie": [
           {
            "automargin": true,
            "type": "pie"
           }
          ],
          "scatter": [
           {
            "fillpattern": {
             "fillmode": "overlay",
             "size": 10,
             "solidity": 0.2
            },
            "type": "scatter"
           }
          ],
          "scatter3d": [
           {
            "line": {
             "colorbar": {
              "outlinewidth": 0,
              "ticks": ""
             }
            },
            "marker": {
             "colorbar": {
              "outlinewidth": 0,
              "ticks": ""
             }
            },
            "type": "scatter3d"
           }
          ],
          "scattercarpet": [
           {
            "marker": {
             "colorbar": {
              "outlinewidth": 0,
              "ticks": ""
             }
            },
            "type": "scattercarpet"
           }
          ],
          "scattergeo": [
           {
            "marker": {
             "colorbar": {
              "outlinewidth": 0,
              "ticks": ""
             }
            },
            "type": "scattergeo"
           }
          ],
          "scattergl": [
           {
            "marker": {
             "colorbar": {
              "outlinewidth": 0,
              "ticks": ""
             }
            },
            "type": "scattergl"
           }
          ],
          "scattermap": [
           {
            "marker": {
             "colorbar": {
              "outlinewidth": 0,
              "ticks": ""
             }
            },
            "type": "scattermap"
           }
          ],
          "scattermapbox": [
           {
            "marker": {
             "colorbar": {
              "outlinewidth": 0,
              "ticks": ""
             }
            },
            "type": "scattermapbox"
           }
          ],
          "scatterpolar": [
           {
            "marker": {
             "colorbar": {
              "outlinewidth": 0,
              "ticks": ""
             }
            },
            "type": "scatterpolar"
           }
          ],
          "scatterpolargl": [
           {
            "marker": {
             "colorbar": {
              "outlinewidth": 0,
              "ticks": ""
             }
            },
            "type": "scatterpolargl"
           }
          ],
          "scatterternary": [
           {
            "marker": {
             "colorbar": {
              "outlinewidth": 0,
              "ticks": ""
             }
            },
            "type": "scatterternary"
           }
          ],
          "surface": [
           {
            "colorbar": {
             "outlinewidth": 0,
             "ticks": ""
            },
            "colorscale": [
             [
              0,
              "#0d0887"
             ],
             [
              0.1111111111111111,
              "#46039f"
             ],
             [
              0.2222222222222222,
              "#7201a8"
             ],
             [
              0.3333333333333333,
              "#9c179e"
             ],
             [
              0.4444444444444444,
              "#bd3786"
             ],
             [
              0.5555555555555556,
              "#d8576b"
             ],
             [
              0.6666666666666666,
              "#ed7953"
             ],
             [
              0.7777777777777778,
              "#fb9f3a"
             ],
             [
              0.8888888888888888,
              "#fdca26"
             ],
             [
              1,
              "#f0f921"
             ]
            ],
            "type": "surface"
           }
          ],
          "table": [
           {
            "cells": {
             "fill": {
              "color": "#EBF0F8"
             },
             "line": {
              "color": "white"
             }
            },
            "header": {
             "fill": {
              "color": "#C8D4E3"
             },
             "line": {
              "color": "white"
             }
            },
            "type": "table"
           }
          ]
         },
         "layout": {
          "annotationdefaults": {
           "arrowcolor": "#2a3f5f",
           "arrowhead": 0,
           "arrowwidth": 1
          },
          "autotypenumbers": "strict",
          "coloraxis": {
           "colorbar": {
            "outlinewidth": 0,
            "ticks": ""
           }
          },
          "colorscale": {
           "diverging": [
            [
             0,
             "#8e0152"
            ],
            [
             0.1,
             "#c51b7d"
            ],
            [
             0.2,
             "#de77ae"
            ],
            [
             0.3,
             "#f1b6da"
            ],
            [
             0.4,
             "#fde0ef"
            ],
            [
             0.5,
             "#f7f7f7"
            ],
            [
             0.6,
             "#e6f5d0"
            ],
            [
             0.7,
             "#b8e186"
            ],
            [
             0.8,
             "#7fbc41"
            ],
            [
             0.9,
             "#4d9221"
            ],
            [
             1,
             "#276419"
            ]
           ],
           "sequential": [
            [
             0,
             "#0d0887"
            ],
            [
             0.1111111111111111,
             "#46039f"
            ],
            [
             0.2222222222222222,
             "#7201a8"
            ],
            [
             0.3333333333333333,
             "#9c179e"
            ],
            [
             0.4444444444444444,
             "#bd3786"
            ],
            [
             0.5555555555555556,
             "#d8576b"
            ],
            [
             0.6666666666666666,
             "#ed7953"
            ],
            [
             0.7777777777777778,
             "#fb9f3a"
            ],
            [
             0.8888888888888888,
             "#fdca26"
            ],
            [
             1,
             "#f0f921"
            ]
           ],
           "sequentialminus": [
            [
             0,
             "#0d0887"
            ],
            [
             0.1111111111111111,
             "#46039f"
            ],
            [
             0.2222222222222222,
             "#7201a8"
            ],
            [
             0.3333333333333333,
             "#9c179e"
            ],
            [
             0.4444444444444444,
             "#bd3786"
            ],
            [
             0.5555555555555556,
             "#d8576b"
            ],
            [
             0.6666666666666666,
             "#ed7953"
            ],
            [
             0.7777777777777778,
             "#fb9f3a"
            ],
            [
             0.8888888888888888,
             "#fdca26"
            ],
            [
             1,
             "#f0f921"
            ]
           ]
          },
          "colorway": [
           "#636efa",
           "#EF553B",
           "#00cc96",
           "#ab63fa",
           "#FFA15A",
           "#19d3f3",
           "#FF6692",
           "#B6E880",
           "#FF97FF",
           "#FECB52"
          ],
          "font": {
           "color": "#2a3f5f"
          },
          "geo": {
           "bgcolor": "white",
           "lakecolor": "white",
           "landcolor": "#E5ECF6",
           "showlakes": true,
           "showland": true,
           "subunitcolor": "white"
          },
          "hoverlabel": {
           "align": "left"
          },
          "hovermode": "closest",
          "mapbox": {
           "style": "light"
          },
          "paper_bgcolor": "white",
          "plot_bgcolor": "#E5ECF6",
          "polar": {
           "angularaxis": {
            "gridcolor": "white",
            "linecolor": "white",
            "ticks": ""
           },
           "bgcolor": "#E5ECF6",
           "radialaxis": {
            "gridcolor": "white",
            "linecolor": "white",
            "ticks": ""
           }
          },
          "scene": {
           "xaxis": {
            "backgroundcolor": "#E5ECF6",
            "gridcolor": "white",
            "gridwidth": 2,
            "linecolor": "white",
            "showbackground": true,
            "ticks": "",
            "zerolinecolor": "white"
           },
           "yaxis": {
            "backgroundcolor": "#E5ECF6",
            "gridcolor": "white",
            "gridwidth": 2,
            "linecolor": "white",
            "showbackground": true,
            "ticks": "",
            "zerolinecolor": "white"
           },
           "zaxis": {
            "backgroundcolor": "#E5ECF6",
            "gridcolor": "white",
            "gridwidth": 2,
            "linecolor": "white",
            "showbackground": true,
            "ticks": "",
            "zerolinecolor": "white"
           }
          },
          "shapedefaults": {
           "line": {
            "color": "#2a3f5f"
           }
          },
          "ternary": {
           "aaxis": {
            "gridcolor": "white",
            "linecolor": "white",
            "ticks": ""
           },
           "baxis": {
            "gridcolor": "white",
            "linecolor": "white",
            "ticks": ""
           },
           "bgcolor": "#E5ECF6",
           "caxis": {
            "gridcolor": "white",
            "linecolor": "white",
            "ticks": ""
           }
          },
          "title": {
           "x": 0.05
          },
          "xaxis": {
           "automargin": true,
           "gridcolor": "white",
           "linecolor": "white",
           "ticks": "",
           "title": {
            "standoff": 15
           },
           "zerolinecolor": "white",
           "zerolinewidth": 2
          },
          "yaxis": {
           "automargin": true,
           "gridcolor": "white",
           "linecolor": "white",
           "ticks": "",
           "title": {
            "standoff": 15
           },
           "zerolinecolor": "white",
           "zerolinewidth": 2
          }
         }
        },
        "title": {
         "text": "Interactive Scatterplot of Blood Pressure vs Disease Progression"
        },
        "xaxis": {
         "anchor": "y",
         "domain": [
          0,
          1
         ],
         "title": {
          "text": "Blood Pressure"
         }
        },
        "yaxis": {
         "anchor": "x",
         "domain": [
          0,
          1
         ],
         "title": {
          "text": "Disease Progression"
         }
        }
       }
      }
     },
     "metadata": {},
     "output_type": "display_data"
    },
    {
     "data": {
      "application/vnd.plotly.v1+json": {
       "config": {
        "plotlyServerURL": "https://plot.ly"
       },
       "data": [
        {
         "alignmentgroup": "True",
         "box": {
          "visible": true
         },
         "hovertemplate": "BMI Binned=%{x}<br>Disease Progression=%{y}<extra></extra>",
         "legendgroup": "",
         "marker": {
          "color": "#636efa"
         },
         "name": "",
         "offsetgroup": "",
         "orientation": "v",
         "points": "all",
         "scalegroup": "True",
         "showlegend": false,
         "type": "violin",
         "x": [
          "(0.0141, 0.0662]",
          "(-0.0905, -0.0381]",
          "(0.0141, 0.0662]",
          "(-0.0381, 0.0141]",
          "(-0.0381, 0.0141]",
          "(-0.0905, -0.0381]",
          "(-0.0905, -0.0381]",
          "(-0.0381, 0.0141]",
          "(0.0141, 0.0662]",
          "(0.0141, 0.0662]",
          "(-0.0905, -0.0381]",
          "(0.0141, 0.0662]",
          "(-0.0381, 0.0141]",
          "(-0.0381, 0.0141]",
          "(-0.0381, 0.0141]",
          "(-0.0381, 0.0141]",
          "(0.0141, 0.0662]",
          "(-0.0381, 0.0141]",
          "(-0.0381, 0.0141]",
          "(-0.0381, 0.0141]",
          "(-0.0905, -0.0381]",
          "(-0.0381, 0.0141]",
          "(-0.0381, 0.0141]",
          "(0.0141, 0.0662]",
          "(0.0141, 0.0662]",
          "(-0.0381, 0.0141]",
          "(-0.0905, -0.0381]",
          "(0.0141, 0.0662]",
          "(-0.0381, 0.0141]",
          "(-0.0381, 0.0141]",
          "(0.0141, 0.0662]",
          "(-0.0905, -0.0381]",
          "(0.118, 0.171]",
          "(-0.0905, -0.0381]",
          "(-0.0905, -0.0381]",
          "(-0.0381, 0.0141]",
          "(0.0141, 0.0662]",
          "(-0.0381, 0.0141]",
          "(0.0662, 0.118]",
          "(0.0141, 0.0662]",
          "(-0.0381, 0.0141]",
          "(-0.0905, -0.0381]",
          "(-0.0381, 0.0141]",
          "(-0.0381, 0.0141]",
          "(0.0662, 0.118]",
          "(-0.0381, 0.0141]",
          "(-0.0381, 0.0141]",
          "(-0.0905, -0.0381]",
          "(-0.0905, -0.0381]",
          "(0.0141, 0.0662]",
          "(-0.0381, 0.0141]",
          "(0.0141, 0.0662]",
          "(-0.0381, 0.0141]",
          "(-0.0381, 0.0141]",
          "(0.0141, 0.0662]",
          "(-0.0905, -0.0381]",
          "(0.0141, 0.0662]",
          "(-0.0905, -0.0381]",
          "(-0.0905, -0.0381]",
          "(-0.0381, 0.0141]",
          "(-0.0381, 0.0141]",
          "(-0.0381, 0.0141]",
          "(-0.0381, 0.0141]",
          "(-0.0381, 0.0141]",
          "(-0.0381, 0.0141]",
          "(-0.0381, 0.0141]",
          "(-0.0381, 0.0141]",
          "(-0.0381, 0.0141]",
          "(-0.0381, 0.0141]",
          "(-0.0905, -0.0381]",
          "(-0.0905, -0.0381]",
          "(0.0141, 0.0662]",
          "(-0.0381, 0.0141]",
          "(-0.0381, 0.0141]",
          "(-0.0381, 0.0141]",
          "(-0.0381, 0.0141]",
          "(0.0141, 0.0662]",
          "(-0.0381, 0.0141]",
          "(-0.0905, -0.0381]",
          "(-0.0381, 0.0141]",
          "(-0.0381, 0.0141]",
          "(-0.0381, 0.0141]",
          "(-0.0381, 0.0141]",
          "(-0.0381, 0.0141]",
          "(-0.0905, -0.0381]",
          "(0.0662, 0.118]",
          "(-0.0905, -0.0381]",
          "(-0.0381, 0.0141]",
          "(-0.0905, -0.0381]",
          "(-0.0905, -0.0381]",
          "(-0.0381, 0.0141]",
          "(0.0141, 0.0662]",
          "(-0.0381, 0.0141]",
          "(-0.0905, -0.0381]",
          "(-0.0381, 0.0141]",
          "(-0.0905, -0.0381]",
          "(-0.0381, 0.0141]",
          "(0.0662, 0.118]",
          "(-0.0381, 0.0141]",
          "(-0.0905, -0.0381]",
          "(0.0141, 0.0662]",
          "(-0.0905, -0.0381]",
          "(0.0141, 0.0662]",
          "(0.0141, 0.0662]",
          "(0.0141, 0.0662]",
          "(-0.0381, 0.0141]",
          "(-0.0905, -0.0381]",
          "(0.0141, 0.0662]",
          "(0.0141, 0.0662]",
          "(-0.0381, 0.0141]",
          "(-0.0381, 0.0141]",
          "(-0.0381, 0.0141]",
          "(0.0141, 0.0662]",
          "(0.0141, 0.0662]",
          "(0.0662, 0.118]",
          "(-0.0381, 0.0141]",
          "(0.0141, 0.0662]",
          "(-0.0381, 0.0141]",
          "(-0.0381, 0.0141]",
          "(-0.0905, -0.0381]",
          "(-0.0381, 0.0141]",
          "(0.0141, 0.0662]",
          "(0.0662, 0.118]",
          "(0.0141, 0.0662]",
          "(0.0141, 0.0662]",
          "(-0.0381, 0.0141]",
          "(-0.0905, -0.0381]",
          "(-0.0381, 0.0141]",
          "(-0.0905, -0.0381]",
          "(0.0141, 0.0662]",
          "(0.0662, 0.118]",
          "(-0.0905, -0.0381]",
          "(-0.0381, 0.0141]",
          "(-0.0905, -0.0381]",
          "(0.0141, 0.0662]",
          "(0.0141, 0.0662]",
          "(-0.0905, -0.0381]",
          "(0.0141, 0.0662]",
          "(0.0662, 0.118]",
          "(0.0141, 0.0662]",
          "(0.0141, 0.0662]",
          "(0.0141, 0.0662]",
          "(-0.0381, 0.0141]",
          "(-0.0381, 0.0141]",
          "(0.0141, 0.0662]",
          "(0.118, 0.171]",
          "(0.0141, 0.0662]",
          "(0.0662, 0.118]",
          "(0.0141, 0.0662]",
          "(-0.0381, 0.0141]",
          "(0.0662, 0.118]",
          "(-0.0381, 0.0141]",
          "(-0.0381, 0.0141]",
          "(-0.0905, -0.0381]",
          "(0.0141, 0.0662]",
          "(0.0141, 0.0662]",
          "(-0.0381, 0.0141]",
          "(-0.0381, 0.0141]",
          "(-0.0905, -0.0381]",
          "(0.0141, 0.0662]",
          "(-0.0905, -0.0381]",
          "(0.0141, 0.0662]",
          "(0.0141, 0.0662]",
          "(0.0662, 0.118]",
          "(-0.0381, 0.0141]",
          "(-0.0905, -0.0381]",
          "(-0.0905, -0.0381]",
          "(0.0662, 0.118]",
          "(0.0141, 0.0662]",
          "(-0.0381, 0.0141]",
          "(-0.0381, 0.0141]",
          "(-0.0905, -0.0381]",
          "(0.0662, 0.118]",
          "(-0.0905, -0.0381]",
          "(-0.0381, 0.0141]",
          "(-0.0905, -0.0381]",
          "(0.0141, 0.0662]",
          "(0.0141, 0.0662]",
          "(-0.0381, 0.0141]",
          "(-0.0381, 0.0141]",
          "(-0.0381, 0.0141]",
          "(-0.0905, -0.0381]",
          "(-0.0381, 0.0141]",
          "(-0.0381, 0.0141]",
          "(0.0141, 0.0662]",
          "(-0.0381, 0.0141]",
          "(0.0141, 0.0662]",
          "(-0.0905, -0.0381]",
          "(-0.0381, 0.0141]",
          "(-0.0905, -0.0381]",
          "(-0.0381, 0.0141]",
          "(-0.0905, -0.0381]",
          "(-0.0381, 0.0141]",
          "(-0.0381, 0.0141]",
          "(-0.0905, -0.0381]",
          "(0.0141, 0.0662]",
          "(-0.0905, -0.0381]",
          "(-0.0381, 0.0141]",
          "(0.0141, 0.0662]",
          "(-0.0905, -0.0381]",
          "(-0.0905, -0.0381]",
          "(-0.0905, -0.0381]",
          "(-0.0381, 0.0141]",
          "(0.0141, 0.0662]",
          "(-0.0381, 0.0141]",
          "(0.0141, 0.0662]",
          "(0.0141, 0.0662]",
          "(0.0141, 0.0662]",
          "(0.0141, 0.0662]",
          "(-0.0381, 0.0141]",
          "(0.0141, 0.0662]",
          "(0.0141, 0.0662]",
          "(-0.0381, 0.0141]",
          "(-0.0905, -0.0381]",
          "(-0.0381, 0.0141]",
          "(0.0662, 0.118]",
          "(0.0141, 0.0662]",
          "(0.0141, 0.0662]",
          "(-0.0905, -0.0381]",
          "(-0.0905, -0.0381]",
          "(-0.0905, -0.0381]",
          "(-0.0905, -0.0381]",
          "(-0.0381, 0.0141]",
          "(-0.0381, 0.0141]",
          "(-0.0905, -0.0381]",
          "(0.0141, 0.0662]",
          "(-0.0905, -0.0381]",
          "(-0.0381, 0.0141]",
          "(-0.0381, 0.0141]",
          "(-0.0381, 0.0141]",
          "(0.0662, 0.118]",
          "(-0.0381, 0.0141]",
          "(-0.0381, 0.0141]",
          "(0.0141, 0.0662]",
          "(0.0141, 0.0662]",
          "(-0.0381, 0.0141]",
          "(-0.0381, 0.0141]",
          "(-0.0905, -0.0381]",
          "(-0.0381, 0.0141]",
          "(0.0141, 0.0662]",
          "(0.0662, 0.118]",
          "(-0.0381, 0.0141]",
          "(-0.0381, 0.0141]",
          "(-0.0905, -0.0381]",
          "(0.0141, 0.0662]",
          "(-0.0381, 0.0141]",
          "(-0.0381, 0.0141]",
          "(-0.0905, -0.0381]",
          "(0.0141, 0.0662]",
          "(0.0141, 0.0662]",
          "(0.0141, 0.0662]",
          "(0.0662, 0.118]",
          "(0.0141, 0.0662]",
          "(0.0141, 0.0662]",
          "(0.0141, 0.0662]",
          "(-0.0905, -0.0381]",
          "(0.118, 0.171]",
          "(-0.0905, -0.0381]",
          "(-0.0381, 0.0141]",
          "(-0.0381, 0.0141]",
          "(-0.0381, 0.0141]",
          "(-0.0905, -0.0381]",
          "(0.118, 0.171]",
          "(-0.0905, -0.0381]",
          "(0.0141, 0.0662]",
          "(-0.0381, 0.0141]",
          "(-0.0905, -0.0381]",
          "(-0.0381, 0.0141]",
          "(0.0662, 0.118]",
          "(-0.0381, 0.0141]",
          "(0.0141, 0.0662]",
          "(-0.0381, 0.0141]",
          "(-0.0381, 0.0141]",
          "(-0.0381, 0.0141]",
          "(-0.0381, 0.0141]",
          "(-0.0381, 0.0141]",
          "(0.0141, 0.0662]",
          "(-0.0905, -0.0381]",
          "(-0.0381, 0.0141]",
          "(-0.0381, 0.0141]",
          "(0.0141, 0.0662]",
          "(-0.0905, -0.0381]",
          "(-0.0381, 0.0141]",
          "(-0.0905, -0.0381]",
          "(-0.0381, 0.0141]",
          "(-0.0381, 0.0141]",
          "(-0.0905, -0.0381]",
          "(-0.0381, 0.0141]",
          "(-0.0381, 0.0141]",
          "(0.0141, 0.0662]",
          "(0.0662, 0.118]",
          "(0.0141, 0.0662]",
          "(-0.0381, 0.0141]",
          "(0.0662, 0.118]",
          "(-0.0381, 0.0141]",
          "(0.0141, 0.0662]",
          "(-0.0905, -0.0381]",
          "(-0.0381, 0.0141]",
          "(-0.0381, 0.0141]",
          "(-0.0381, 0.0141]",
          "(0.0662, 0.118]",
          "(-0.0381, 0.0141]",
          "(0.0141, 0.0662]",
          "(0.0141, 0.0662]",
          "(-0.0905, -0.0381]",
          "(-0.0905, -0.0381]",
          "(-0.0381, 0.0141]",
          "(-0.0381, 0.0141]",
          "(-0.0905, -0.0381]",
          "(-0.0381, 0.0141]",
          "(0.0141, 0.0662]",
          "(0.0141, 0.0662]",
          "(-0.0381, 0.0141]",
          "(0.0141, 0.0662]",
          "(0.0141, 0.0662]",
          "(-0.0381, 0.0141]",
          "(0.0141, 0.0662]",
          "(-0.0381, 0.0141]",
          "(-0.0381, 0.0141]",
          "(-0.0381, 0.0141]",
          "(0.0141, 0.0662]",
          "(0.0141, 0.0662]",
          "(0.0141, 0.0662]",
          "(-0.0381, 0.0141]",
          "(-0.0381, 0.0141]",
          "(0.0141, 0.0662]",
          "(-0.0381, 0.0141]",
          "(0.0662, 0.118]",
          "(0.0662, 0.118]",
          "(-0.0905, -0.0381]",
          "(0.0141, 0.0662]",
          "(-0.0381, 0.0141]",
          "(0.0662, 0.118]",
          "(-0.0381, 0.0141]",
          "(-0.0905, -0.0381]",
          "(-0.0905, -0.0381]",
          "(0.0662, 0.118]",
          "(-0.0381, 0.0141]",
          "(-0.0381, 0.0141]",
          "(-0.0381, 0.0141]",
          "(-0.0381, 0.0141]",
          "(0.0141, 0.0662]",
          "(0.0141, 0.0662]",
          "(0.0141, 0.0662]",
          "(-0.0381, 0.0141]",
          "(-0.0381, 0.0141]",
          "(0.0141, 0.0662]",
          "(-0.0381, 0.0141]",
          "(-0.0381, 0.0141]",
          "(-0.0905, -0.0381]",
          "(0.0141, 0.0662]",
          "(-0.0905, -0.0381]",
          "(-0.0905, -0.0381]",
          "(-0.0905, -0.0381]",
          "(0.0141, 0.0662]",
          "(-0.0381, 0.0141]",
          "(-0.0381, 0.0141]",
          "(0.0141, 0.0662]",
          "(-0.0905, -0.0381]",
          "(-0.0381, 0.0141]",
          "(0.0141, 0.0662]",
          "(-0.0381, 0.0141]",
          "(0.0662, 0.118]",
          "(-0.0381, 0.0141]",
          "(-0.0381, 0.0141]",
          "(-0.0905, -0.0381]",
          "(0.118, 0.171]",
          "(0.118, 0.171]",
          "(-0.0381, 0.0141]",
          "(0.0141, 0.0662]",
          "(-0.0905, -0.0381]",
          "(-0.0381, 0.0141]",
          "(-0.0381, 0.0141]",
          "(-0.0381, 0.0141]",
          "(-0.0381, 0.0141]",
          "(-0.0381, 0.0141]",
          "(0.0662, 0.118]",
          "(-0.0381, 0.0141]",
          "(-0.0381, 0.0141]",
          "(-0.0905, -0.0381]",
          "(0.0141, 0.0662]",
          "(-0.0905, -0.0381]",
          "(0.0141, 0.0662]",
          "(-0.0381, 0.0141]",
          "(-0.0381, 0.0141]",
          "(-0.0381, 0.0141]",
          "(-0.0905, -0.0381]",
          "(0.0141, 0.0662]",
          "(-0.0381, 0.0141]",
          "(-0.0381, 0.0141]",
          "(0.0662, 0.118]",
          "(-0.0905, -0.0381]",
          "(-0.0381, 0.0141]",
          "(-0.0905, -0.0381]",
          "(0.0141, 0.0662]",
          "(-0.0381, 0.0141]",
          "(-0.0381, 0.0141]",
          "(-0.0381, 0.0141]",
          "(0.0141, 0.0662]",
          "(0.0141, 0.0662]",
          "(0.0141, 0.0662]",
          "(-0.0905, -0.0381]",
          "(-0.0381, 0.0141]",
          "(0.0662, 0.118]",
          "(0.0141, 0.0662]",
          "(0.118, 0.171]",
          "(-0.0905, -0.0381]",
          "(0.0662, 0.118]",
          "(-0.0905, -0.0381]",
          "(-0.0381, 0.0141]",
          "(-0.0381, 0.0141]",
          "(0.0141, 0.0662]",
          "(0.0662, 0.118]",
          "(-0.0381, 0.0141]",
          "(-0.0381, 0.0141]",
          "(-0.0381, 0.0141]",
          "(0.0662, 0.118]",
          "(0.0662, 0.118]",
          "(-0.0381, 0.0141]",
          "(-0.0905, -0.0381]",
          "(-0.0381, 0.0141]",
          "(0.0141, 0.0662]",
          "(0.0662, 0.118]",
          "(-0.0905, -0.0381]",
          "(-0.0381, 0.0141]",
          "(-0.0905, -0.0381]",
          "(-0.0381, 0.0141]",
          "(-0.0381, 0.0141]",
          "(0.0662, 0.118]",
          "(-0.0381, 0.0141]",
          "(-0.0905, -0.0381]",
          "(-0.0381, 0.0141]",
          "(0.0141, 0.0662]",
          "(-0.0905, -0.0381]",
          "(-0.0381, 0.0141]",
          "(-0.0381, 0.0141]",
          "(-0.0905, -0.0381]",
          "(0.0141, 0.0662]",
          "(-0.0381, 0.0141]",
          "(-0.0381, 0.0141]",
          "(0.0141, 0.0662]",
          "(-0.0905, -0.0381]"
         ],
         "x0": " ",
         "xaxis": "x",
         "y": {
          "bdata": "AAAAAADgYkAAAAAAAMBSQAAAAAAAoGFAAAAAAADAaUAAAAAAAOBgQAAAAAAAQFhAAAAAAABAYUAAAAAAAIBPQAAAAAAAgFtAAAAAAABgc0AAAAAAAEBZQAAAAAAAQFFAAAAAAABgZkAAAAAAACBnQAAAAAAAgF1AAAAAAABgZUAAAAAAAMBkQAAAAAAAAGJAAAAAAABAWEAAAAAAAABlQAAAAAAAAFFAAAAAAACASEAAAAAAAABRQAAAAAAAoG5AAAAAAAAAZ0AAAAAAAEBpQAAAAAAAIGFAAAAAAABAVUAAAAAAAGBgQAAAAAAAsHFAAAAAAAAgYEAAAAAAAIBNQAAAAAAAUHVAAAAAAADAVUAAAAAAAEBQQAAAAAAAgFlAAAAAAACQcEAAAAAAAEBxQAAAAAAAgG9AAAAAAACAVkAAAAAAAABZQAAAAAAAgEtAAAAAAACATkAAAAAAAABXQAAAAAAAMHBAAAAAAACASkAAAAAAAMBnQAAAAAAAwGFAAAAAAADAUkAAAAAAAMBhQAAAAAAAYGNAAAAAAAAgbEAAAAAAAIBNQAAAAAAAAFpAAAAAAADAZkAAAAAAAABgQAAAAAAAAEpAAAAAAACAQkAAAAAAAEBlQAAAAAAAQGVAAAAAAACATkAAAAAAAABiQAAAAAAAAEpAAAAAAAAAYEAAAAAAAMBRQAAAAAAAYGRAAAAAAADAYkAAAAAAAEBYQAAAAAAAAGRAAAAAAABAZkAAAAAAAABIQAAAAAAA4HBAAAAAAABAaUAAAAAAAMBbQAAAAAAAQFVAAAAAAAAARUAAAAAAAEBlQAAAAAAAAGlAAAAAAACAb0AAAAAAAEBcQAAAAAAA4GFAAAAAAACASUAAAAAAAABKQAAAAAAAQGpAAAAAAABAUEAAAAAAAKBhQAAAAAAAgEtAAAAAAADAYEAAAAAAAABFQAAAAAAAwFtAAAAAAACAWEAAAAAAAIBkQAAAAAAAAEhAAAAAAAAAWEAAAAAAAIBWQAAAAAAAQGRAAAAAAADAYkAAAAAAAHBxQAAAAAAAAFdAAAAAAADAVEAAAAAAAABgQAAAAAAAgFlAAAAAAADgckAAAAAAAMBoQAAAAAAAwFdAAAAAAACASkAAAAAAAMBgQAAAAAAAAGJAAAAAAAAAbUAAAAAAAEBUQAAAAAAAAFpAAAAAAACATUAAAAAAAMBuQAAAAAAAkHJAAAAAAAAgcEAAAAAAAKBsQAAAAAAAMHFAAAAAAACQcUAAAAAAAGBmQAAAAAAAAGlAAAAAAAAAaUAAAAAAAKBlQAAAAAAAgGZAAAAAAAAAVUAAAAAAAEBeQAAAAAAAIGRAAAAAAADAWEAAAAAAAEBbQAAAAAAAwFxAAAAAAADAcEAAAAAAACBxQAAAAAAAwGNAAAAAAADAWkAAAAAAAMBUQAAAAAAAwFlAAAAAAAAAcUAAAAAAAEBVQAAAAAAAgHFAAAAAAAAAdUAAAAAAAJBxQAAAAAAAgF1AAAAAAADQc0AAAAAAAGBtQAAAAAAAAE5AAAAAAADAZUAAAAAAADBwQAAAAAAAQGZAAAAAAAAAYEAAAAAAAABYQAAAAAAAgF9AAAAAAAAAckAAAAAAAABWQAAAAAAAQHJAAAAAAADAUUAAAAAAAKBoQAAAAAAAQGdAAAAAAAAAOUAAAAAAAABVQAAAAAAAAFhAAAAAAABgaEAAAAAAAIBKQAAAAAAAIGtAAAAAAACAZUAAAAAAAGBgQAAAAAAAwGpAAAAAAACATUAAAAAAAIBRQAAAAAAAgGtAAAAAAADAcEAAAAAAAABjQAAAAAAAgEdAAAAAAACAUkAAAAAAAHByQAAAAAAAQFlAAAAAAADgYkAAAAAAAMBfQAAAAAAAoG1AAAAAAAAgbEAAAAAAAEBUQAAAAAAA4GJAAAAAAADAWkAAAAAAAABQQAAAAAAAQGFAAAAAAAAgZ0AAAAAAAJBwQAAAAAAAQFlAAAAAAAAgYUAAAAAAAOBhQAAAAAAAoGFAAAAAAADAU0AAAAAAAEByQAAAAAAAQGZAAAAAAADAVkAAAAAAAABdQAAAAAAAgFVAAAAAAACAXkAAAAAAAABSQAAAAAAAIGBAAAAAAADAYUAAAAAAAIBWQAAAAAAAwGNAAAAAAACAQ0AAAAAAAIBoQAAAAAAAwGtAAAAAAABQcUAAAAAAAMBYQAAAAAAAgGhAAAAAAABAaUAAAAAAAGBjQAAAAAAAQFNAAAAAAADgZ0AAAAAAAIBRQAAAAAAAQFJAAAAAAACASEAAAAAAAEBQQAAAAAAAcHBAAAAAAAAAb0AAAAAAAIByQAAAAAAAwGpAAAAAAAAgZ0AAAAAAAIBTQAAAAAAAQFdAAAAAAACAb0AAAAAAAMBiQAAAAAAAQFNAAAAAAAAAakAAAAAAAEBTQAAAAAAAAFtAAAAAAAAAZEAAAAAAAIBKQAAAAAAAgGtAAAAAAABAY0AAAAAAADBwQAAAAAAAgFZAAAAAAADAbkAAAAAAAABfQAAAAAAAwFBAAAAAAAAAUkAAAAAAABBwQAAAAAAAYHBAAAAAAAAwcUAAAAAAACBmQAAAAAAAwFFAAAAAAACAR0AAAAAAAGBnQAAAAAAAQF9AAAAAAACAU0AAAAAAAIBJQAAAAAAAIHBAAAAAAADgakAAAAAAAPByQAAAAAAAYG5AAAAAAADAVkAAAAAAAMBiQAAAAAAAYHNAAAAAAAAgY0AAAAAAAKB1QAAAAAAAgE9AAAAAAABAVkAAAAAAAABJQAAAAAAAgENAAAAAAADAWUAAAAAAAEBzQAAAAAAAAF1AAAAAAAAgYkAAAAAAAIBSQAAAAAAAgEZAAAAAAADAXEAAAAAAAIBwQAAAAAAAwFVAAAAAAABAaUAAAAAAAMBfQAAAAAAAwGZAAAAAAAAgbkAAAAAAAIBQQAAAAAAAgFdAAAAAAACwcUAAAAAAAABQQAAAAAAAgFlAAAAAAAAAaUAAAAAAAJBwQAAAAAAAgFdAAAAAAADAbEAAAAAAAKBmQAAAAAAAgGNAAAAAAAAgbUAAAAAAAABOQAAAAAAAYGtAAAAAAAAAVEAAAAAAAABRQAAAAAAAwHRAAAAAAAAAb0AAAAAAAABVQAAAAAAAAGlAAAAAAACAS0AAAAAAAEBVQAAAAAAAQFZAAAAAAAAAP0AAAAAAACBgQAAAAAAAwFRAAAAAAAAwcUAAAAAAAEBQQAAAAAAAwGhAAAAAAACAbUAAAAAAAKBvQAAAAAAAAF9AAAAAAAAARkAAAAAAAIBlQAAAAAAAgFxAAAAAAADAYUAAAAAAAEBbQAAAAAAAgGZAAAAAAAAAYkAAAAAAAGBkQAAAAAAAYGJAAAAAAABAWEAAAAAAAIBrQAAAAAAAwGdAAAAAAABAW0AAAAAAAOBnQAAAAAAAgF5AAAAAAADAbEAAAAAAAEBuQAAAAAAAAG9AAAAAAAAgb0AAAAAAAABoQAAAAAAAYGBAAAAAAACgbUAAAAAAAIBTQAAAAAAA4GBAAAAAAACAbkAAAAAAAOBoQAAAAAAA4HBAAAAAAACAZEAAAAAAAABSQAAAAAAAAFhAAAAAAAAgc0AAAAAAAMBWQAAAAAAAwGpAAAAAAADAV0AAAAAAAABrQAAAAAAAcHBAAAAAAABAZkAAAAAAAEBcQAAAAAAAAGlAAAAAAABgYUAAAAAAAGBhQAAAAAAAAFZAAAAAAACAYkAAAAAAAABWQAAAAAAAYG5AAAAAAADAUUAAAAAAAEBTQAAAAAAAQFtAAAAAAAAAcUAAAAAAAABOQAAAAAAAAEtAAAAAAACga0AAAAAAAIBWQAAAAAAAcHNAAAAAAACQcUAAAAAAAMBmQAAAAAAAEHRAAAAAAAAATUAAAAAAAGBwQAAAAAAAwGlAAAAAAAAgbUAAAAAAAEBuQAAAAAAAwF5AAAAAAADgZEAAAAAAAIBPQAAAAAAAoGhAAAAAAADAUUAAAAAAAABlQAAAAAAAgGFAAAAAAAAga0AAAAAAAEBeQAAAAAAAYG1AAAAAAACgbkAAAAAAAABEQAAAAAAAAEpAAAAAAAAAWkAAAAAAAIBgQAAAAAAAAFZAAAAAAABAUUAAAAAAAGBrQAAAAAAAAFJAAAAAAAAgaUAAAAAAAIBbQAAAAAAAgElAAAAAAABQcUAAAAAAAIBPQAAAAAAAgF1AAAAAAABAUUAAAAAAABBxQAAAAAAAIHBAAAAAAACARUAAAAAAAMBoQAAAAAAAQG5AAAAAAAAAbUAAAAAAAOBlQAAAAAAAQFdAAAAAAAAAZUAAAAAAADBxQAAAAAAAUHJAAAAAAACQcUAAAAAAAABSQAAAAAAAgGFAAAAAAACgZ0AAAAAAAKBmQAAAAAAAIGpAAAAAAAAAYUAAAAAAAFBwQAAAAAAAQFxAAAAAAABgYEAAAAAAAMBlQAAAAAAAEHBAAAAAAACAS0AAAAAAAABVQAAAAAAAAEVAAAAAAABAYkAAAAAAAIBqQAAAAAAAIG1AAAAAAADAVkAAAAAAAMBbQAAAAAAAAGNAAAAAAAAAXkAAAAAAAMBQQAAAAAAAYHNAAAAAAACAV0AAAAAAAOBmQAAAAAAAgFBAAAAAAACgZUAAAAAAAABSQAAAAAAAgEhAAAAAAAAAUEAAAAAAAABIQAAAAAAAQGZAAAAAAAAAWkAAAAAAAIBgQAAAAAAAgGtAAAAAAACATEA=",
          "dtype": "f8"
         },
         "y0": " ",
         "yaxis": "y"
        }
       ],
       "layout": {
        "legend": {
         "tracegroupgap": 0
        },
        "template": {
         "data": {
          "bar": [
           {
            "error_x": {
             "color": "#2a3f5f"
            },
            "error_y": {
             "color": "#2a3f5f"
            },
            "marker": {
             "line": {
              "color": "#E5ECF6",
              "width": 0.5
             },
             "pattern": {
              "fillmode": "overlay",
              "size": 10,
              "solidity": 0.2
             }
            },
            "type": "bar"
           }
          ],
          "barpolar": [
           {
            "marker": {
             "line": {
              "color": "#E5ECF6",
              "width": 0.5
             },
             "pattern": {
              "fillmode": "overlay",
              "size": 10,
              "solidity": 0.2
             }
            },
            "type": "barpolar"
           }
          ],
          "carpet": [
           {
            "aaxis": {
             "endlinecolor": "#2a3f5f",
             "gridcolor": "white",
             "linecolor": "white",
             "minorgridcolor": "white",
             "startlinecolor": "#2a3f5f"
            },
            "baxis": {
             "endlinecolor": "#2a3f5f",
             "gridcolor": "white",
             "linecolor": "white",
             "minorgridcolor": "white",
             "startlinecolor": "#2a3f5f"
            },
            "type": "carpet"
           }
          ],
          "choropleth": [
           {
            "colorbar": {
             "outlinewidth": 0,
             "ticks": ""
            },
            "type": "choropleth"
           }
          ],
          "contour": [
           {
            "colorbar": {
             "outlinewidth": 0,
             "ticks": ""
            },
            "colorscale": [
             [
              0,
              "#0d0887"
             ],
             [
              0.1111111111111111,
              "#46039f"
             ],
             [
              0.2222222222222222,
              "#7201a8"
             ],
             [
              0.3333333333333333,
              "#9c179e"
             ],
             [
              0.4444444444444444,
              "#bd3786"
             ],
             [
              0.5555555555555556,
              "#d8576b"
             ],
             [
              0.6666666666666666,
              "#ed7953"
             ],
             [
              0.7777777777777778,
              "#fb9f3a"
             ],
             [
              0.8888888888888888,
              "#fdca26"
             ],
             [
              1,
              "#f0f921"
             ]
            ],
            "type": "contour"
           }
          ],
          "contourcarpet": [
           {
            "colorbar": {
             "outlinewidth": 0,
             "ticks": ""
            },
            "type": "contourcarpet"
           }
          ],
          "heatmap": [
           {
            "colorbar": {
             "outlinewidth": 0,
             "ticks": ""
            },
            "colorscale": [
             [
              0,
              "#0d0887"
             ],
             [
              0.1111111111111111,
              "#46039f"
             ],
             [
              0.2222222222222222,
              "#7201a8"
             ],
             [
              0.3333333333333333,
              "#9c179e"
             ],
             [
              0.4444444444444444,
              "#bd3786"
             ],
             [
              0.5555555555555556,
              "#d8576b"
             ],
             [
              0.6666666666666666,
              "#ed7953"
             ],
             [
              0.7777777777777778,
              "#fb9f3a"
             ],
             [
              0.8888888888888888,
              "#fdca26"
             ],
             [
              1,
              "#f0f921"
             ]
            ],
            "type": "heatmap"
           }
          ],
          "histogram": [
           {
            "marker": {
             "pattern": {
              "fillmode": "overlay",
              "size": 10,
              "solidity": 0.2
             }
            },
            "type": "histogram"
           }
          ],
          "histogram2d": [
           {
            "colorbar": {
             "outlinewidth": 0,
             "ticks": ""
            },
            "colorscale": [
             [
              0,
              "#0d0887"
             ],
             [
              0.1111111111111111,
              "#46039f"
             ],
             [
              0.2222222222222222,
              "#7201a8"
             ],
             [
              0.3333333333333333,
              "#9c179e"
             ],
             [
              0.4444444444444444,
              "#bd3786"
             ],
             [
              0.5555555555555556,
              "#d8576b"
             ],
             [
              0.6666666666666666,
              "#ed7953"
             ],
             [
              0.7777777777777778,
              "#fb9f3a"
             ],
             [
              0.8888888888888888,
              "#fdca26"
             ],
             [
              1,
              "#f0f921"
             ]
            ],
            "type": "histogram2d"
           }
          ],
          "histogram2dcontour": [
           {
            "colorbar": {
             "outlinewidth": 0,
             "ticks": ""
            },
            "colorscale": [
             [
              0,
              "#0d0887"
             ],
             [
              0.1111111111111111,
              "#46039f"
             ],
             [
              0.2222222222222222,
              "#7201a8"
             ],
             [
              0.3333333333333333,
              "#9c179e"
             ],
             [
              0.4444444444444444,
              "#bd3786"
             ],
             [
              0.5555555555555556,
              "#d8576b"
             ],
             [
              0.6666666666666666,
              "#ed7953"
             ],
             [
              0.7777777777777778,
              "#fb9f3a"
             ],
             [
              0.8888888888888888,
              "#fdca26"
             ],
             [
              1,
              "#f0f921"
             ]
            ],
            "type": "histogram2dcontour"
           }
          ],
          "mesh3d": [
           {
            "colorbar": {
             "outlinewidth": 0,
             "ticks": ""
            },
            "type": "mesh3d"
           }
          ],
          "parcoords": [
           {
            "line": {
             "colorbar": {
              "outlinewidth": 0,
              "ticks": ""
             }
            },
            "type": "parcoords"
           }
          ],
          "pie": [
           {
            "automargin": true,
            "type": "pie"
           }
          ],
          "scatter": [
           {
            "fillpattern": {
             "fillmode": "overlay",
             "size": 10,
             "solidity": 0.2
            },
            "type": "scatter"
           }
          ],
          "scatter3d": [
           {
            "line": {
             "colorbar": {
              "outlinewidth": 0,
              "ticks": ""
             }
            },
            "marker": {
             "colorbar": {
              "outlinewidth": 0,
              "ticks": ""
             }
            },
            "type": "scatter3d"
           }
          ],
          "scattercarpet": [
           {
            "marker": {
             "colorbar": {
              "outlinewidth": 0,
              "ticks": ""
             }
            },
            "type": "scattercarpet"
           }
          ],
          "scattergeo": [
           {
            "marker": {
             "colorbar": {
              "outlinewidth": 0,
              "ticks": ""
             }
            },
            "type": "scattergeo"
           }
          ],
          "scattergl": [
           {
            "marker": {
             "colorbar": {
              "outlinewidth": 0,
              "ticks": ""
             }
            },
            "type": "scattergl"
           }
          ],
          "scattermap": [
           {
            "marker": {
             "colorbar": {
              "outlinewidth": 0,
              "ticks": ""
             }
            },
            "type": "scattermap"
           }
          ],
          "scattermapbox": [
           {
            "marker": {
             "colorbar": {
              "outlinewidth": 0,
              "ticks": ""
             }
            },
            "type": "scattermapbox"
           }
          ],
          "scatterpolar": [
           {
            "marker": {
             "colorbar": {
              "outlinewidth": 0,
              "ticks": ""
             }
            },
            "type": "scatterpolar"
           }
          ],
          "scatterpolargl": [
           {
            "marker": {
             "colorbar": {
              "outlinewidth": 0,
              "ticks": ""
             }
            },
            "type": "scatterpolargl"
           }
          ],
          "scatterternary": [
           {
            "marker": {
             "colorbar": {
              "outlinewidth": 0,
              "ticks": ""
             }
            },
            "type": "scatterternary"
           }
          ],
          "surface": [
           {
            "colorbar": {
             "outlinewidth": 0,
             "ticks": ""
            },
            "colorscale": [
             [
              0,
              "#0d0887"
             ],
             [
              0.1111111111111111,
              "#46039f"
             ],
             [
              0.2222222222222222,
              "#7201a8"
             ],
             [
              0.3333333333333333,
              "#9c179e"
             ],
             [
              0.4444444444444444,
              "#bd3786"
             ],
             [
              0.5555555555555556,
              "#d8576b"
             ],
             [
              0.6666666666666666,
              "#ed7953"
             ],
             [
              0.7777777777777778,
              "#fb9f3a"
             ],
             [
              0.8888888888888888,
              "#fdca26"
             ],
             [
              1,
              "#f0f921"
             ]
            ],
            "type": "surface"
           }
          ],
          "table": [
           {
            "cells": {
             "fill": {
              "color": "#EBF0F8"
             },
             "line": {
              "color": "white"
             }
            },
            "header": {
             "fill": {
              "color": "#C8D4E3"
             },
             "line": {
              "color": "white"
             }
            },
            "type": "table"
           }
          ]
         },
         "layout": {
          "annotationdefaults": {
           "arrowcolor": "#2a3f5f",
           "arrowhead": 0,
           "arrowwidth": 1
          },
          "autotypenumbers": "strict",
          "coloraxis": {
           "colorbar": {
            "outlinewidth": 0,
            "ticks": ""
           }
          },
          "colorscale": {
           "diverging": [
            [
             0,
             "#8e0152"
            ],
            [
             0.1,
             "#c51b7d"
            ],
            [
             0.2,
             "#de77ae"
            ],
            [
             0.3,
             "#f1b6da"
            ],
            [
             0.4,
             "#fde0ef"
            ],
            [
             0.5,
             "#f7f7f7"
            ],
            [
             0.6,
             "#e6f5d0"
            ],
            [
             0.7,
             "#b8e186"
            ],
            [
             0.8,
             "#7fbc41"
            ],
            [
             0.9,
             "#4d9221"
            ],
            [
             1,
             "#276419"
            ]
           ],
           "sequential": [
            [
             0,
             "#0d0887"
            ],
            [
             0.1111111111111111,
             "#46039f"
            ],
            [
             0.2222222222222222,
             "#7201a8"
            ],
            [
             0.3333333333333333,
             "#9c179e"
            ],
            [
             0.4444444444444444,
             "#bd3786"
            ],
            [
             0.5555555555555556,
             "#d8576b"
            ],
            [
             0.6666666666666666,
             "#ed7953"
            ],
            [
             0.7777777777777778,
             "#fb9f3a"
            ],
            [
             0.8888888888888888,
             "#fdca26"
            ],
            [
             1,
             "#f0f921"
            ]
           ],
           "sequentialminus": [
            [
             0,
             "#0d0887"
            ],
            [
             0.1111111111111111,
             "#46039f"
            ],
            [
             0.2222222222222222,
             "#7201a8"
            ],
            [
             0.3333333333333333,
             "#9c179e"
            ],
            [
             0.4444444444444444,
             "#bd3786"
            ],
            [
             0.5555555555555556,
             "#d8576b"
            ],
            [
             0.6666666666666666,
             "#ed7953"
            ],
            [
             0.7777777777777778,
             "#fb9f3a"
            ],
            [
             0.8888888888888888,
             "#fdca26"
            ],
            [
             1,
             "#f0f921"
            ]
           ]
          },
          "colorway": [
           "#636efa",
           "#EF553B",
           "#00cc96",
           "#ab63fa",
           "#FFA15A",
           "#19d3f3",
           "#FF6692",
           "#B6E880",
           "#FF97FF",
           "#FECB52"
          ],
          "font": {
           "color": "#2a3f5f"
          },
          "geo": {
           "bgcolor": "white",
           "lakecolor": "white",
           "landcolor": "#E5ECF6",
           "showlakes": true,
           "showland": true,
           "subunitcolor": "white"
          },
          "hoverlabel": {
           "align": "left"
          },
          "hovermode": "closest",
          "mapbox": {
           "style": "light"
          },
          "paper_bgcolor": "white",
          "plot_bgcolor": "#E5ECF6",
          "polar": {
           "angularaxis": {
            "gridcolor": "white",
            "linecolor": "white",
            "ticks": ""
           },
           "bgcolor": "#E5ECF6",
           "radialaxis": {
            "gridcolor": "white",
            "linecolor": "white",
            "ticks": ""
           }
          },
          "scene": {
           "xaxis": {
            "backgroundcolor": "#E5ECF6",
            "gridcolor": "white",
            "gridwidth": 2,
            "linecolor": "white",
            "showbackground": true,
            "ticks": "",
            "zerolinecolor": "white"
           },
           "yaxis": {
            "backgroundcolor": "#E5ECF6",
            "gridcolor": "white",
            "gridwidth": 2,
            "linecolor": "white",
            "showbackground": true,
            "ticks": "",
            "zerolinecolor": "white"
           },
           "zaxis": {
            "backgroundcolor": "#E5ECF6",
            "gridcolor": "white",
            "gridwidth": 2,
            "linecolor": "white",
            "showbackground": true,
            "ticks": "",
            "zerolinecolor": "white"
           }
          },
          "shapedefaults": {
           "line": {
            "color": "#2a3f5f"
           }
          },
          "ternary": {
           "aaxis": {
            "gridcolor": "white",
            "linecolor": "white",
            "ticks": ""
           },
           "baxis": {
            "gridcolor": "white",
            "linecolor": "white",
            "ticks": ""
           },
           "bgcolor": "#E5ECF6",
           "caxis": {
            "gridcolor": "white",
            "linecolor": "white",
            "ticks": ""
           }
          },
          "title": {
           "x": 0.05
          },
          "xaxis": {
           "automargin": true,
           "gridcolor": "white",
           "linecolor": "white",
           "ticks": "",
           "title": {
            "standoff": 15
           },
           "zerolinecolor": "white",
           "zerolinewidth": 2
          },
          "yaxis": {
           "automargin": true,
           "gridcolor": "white",
           "linecolor": "white",
           "ticks": "",
           "title": {
            "standoff": 15
           },
           "zerolinecolor": "white",
           "zerolinewidth": 2
          }
         }
        },
        "title": {
         "text": "Interactive Violin Plot of Binned BMI vs Disease Progression"
        },
        "violinmode": "group",
        "xaxis": {
         "anchor": "y",
         "domain": [
          0,
          1
         ],
         "title": {
          "text": "BMI Binned"
         }
        },
        "yaxis": {
         "anchor": "x",
         "domain": [
          0,
          1
         ],
         "title": {
          "text": "Disease Progression"
         }
        }
       }
      }
     },
     "metadata": {},
     "output_type": "display_data"
    },
    {
     "data": {
      "application/vnd.plotly.v1+json": {
       "config": {
        "plotlyServerURL": "https://plot.ly"
       },
       "data": [
        {
         "alignmentgroup": "True",
         "box": {
          "visible": true
         },
         "hovertemplate": "Blood Pressure Binned=%{x}<br>Disease Progression=%{y}<extra></extra>",
         "legendgroup": "",
         "marker": {
          "color": "#636efa"
         },
         "name": "",
         "offsetgroup": "",
         "orientation": "v",
         "points": "all",
         "scalegroup": "True",
         "showlegend": false,
         "type": "violin",
         "x": [
          "(-0.0146, 0.0343]",
          "(-0.0635, -0.0146]",
          "(-0.0146, 0.0343]",
          "(-0.0635, -0.0146]",
          "(-0.0146, 0.0343]",
          "(-0.0635, -0.0146]",
          "(-0.0635, -0.0146]",
          "(0.0343, 0.0832]",
          "(-0.0635, -0.0146]",
          "(-0.0635, -0.0146]",
          "(-0.0146, 0.0343]",
          "(-0.0635, -0.0146]",
          "(-0.0146, 0.0343]",
          "(-0.0146, 0.0343]",
          "(-0.0146, 0.0343]",
          "(0.0343, 0.0832]",
          "(0.0343, 0.0832]",
          "(0.0343, 0.0832]",
          "(-0.0635, -0.0146]",
          "(-0.0635, -0.0146]",
          "(-0.0635, -0.0146]",
          "(-0.0146, 0.0343]",
          "(-0.0146, 0.0343]",
          "(-0.0146, 0.0343]",
          "(-0.0635, -0.0146]",
          "(-0.0635, -0.0146]",
          "(-0.0635, -0.0146]",
          "(-0.0635, -0.0146]",
          "(-0.113, -0.0635]",
          "(0.0343, 0.0832]",
          "(-0.0635, -0.0146]",
          "(-0.113, -0.0635]",
          "(-0.0146, 0.0343]",
          "(-0.0146, 0.0343]",
          "(-0.0635, -0.0146]",
          "(-0.0635, -0.0146]",
          "(0.0343, 0.0832]",
          "(-0.0635, -0.0146]",
          "(0.0832, 0.132]",
          "(-0.113, -0.0635]",
          "(-0.0146, 0.0343]",
          "(-0.113, -0.0635]",
          "(-0.0635, -0.0146]",
          "(-0.113, -0.0635]",
          "(-0.0146, 0.0343]",
          "(-0.0146, 0.0343]",
          "(-0.0635, -0.0146]",
          "(-0.0635, -0.0146]",
          "(-0.0146, 0.0343]",
          "(-0.0146, 0.0343]",
          "(-0.0146, 0.0343]",
          "(-0.0146, 0.0343]",
          "(-0.0146, 0.0343]",
          "(0.0343, 0.0832]",
          "(-0.0146, 0.0343]",
          "(-0.0635, -0.0146]",
          "(-0.0635, -0.0146]",
          "(-0.0635, -0.0146]",
          "(0.0343, 0.0832]",
          "(-0.0146, 0.0343]",
          "(-0.0635, -0.0146]",
          "(-0.0635, -0.0146]",
          "(-0.0635, -0.0146]",
          "(-0.0635, -0.0146]",
          "(-0.0635, -0.0146]",
          "(0.0343, 0.0832]",
          "(-0.0635, -0.0146]",
          "(-0.0635, -0.0146]",
          "(-0.0635, -0.0146]",
          "(-0.0146, 0.0343]",
          "(-0.0146, 0.0343]",
          "(0.0832, 0.132]",
          "(-0.0146, 0.0343]",
          "(-0.0146, 0.0343]",
          "(0.0343, 0.0832]",
          "(-0.0635, -0.0146]",
          "(0.0343, 0.0832]",
          "(-0.113, -0.0635]",
          "(-0.0635, -0.0146]",
          "(-0.0635, -0.0146]",
          "(0.0343, 0.0832]",
          "(-0.0635, -0.0146]",
          "(-0.0635, -0.0146]",
          "(-0.0635, -0.0146]",
          "(-0.113, -0.0635]",
          "(-0.0146, 0.0343]",
          "(-0.0635, -0.0146]",
          "(-0.0146, 0.0343]",
          "(-0.113, -0.0635]",
          "(-0.0635, -0.0146]",
          "(-0.0635, -0.0146]",
          "(-0.0635, -0.0146]",
          "(0.0832, 0.132]",
          "(-0.113, -0.0635]",
          "(-0.0146, 0.0343]",
          "(-0.113, -0.0635]",
          "(0.0343, 0.0832]",
          "(-0.0635, -0.0146]",
          "(-0.0146, 0.0343]",
          "(-0.0146, 0.0343]",
          "(-0.0635, -0.0146]",
          "(0.0343, 0.0832]",
          "(-0.0635, -0.0146]",
          "(-0.0146, 0.0343]",
          "(-0.0146, 0.0343]",
          "(-0.0635, -0.0146]",
          "(-0.0635, -0.0146]",
          "(-0.0635, -0.0146]",
          "(-0.0146, 0.0343]",
          "(-0.0146, 0.0343]",
          "(-0.0635, -0.0146]",
          "(-0.0635, -0.0146]",
          "(-0.0635, -0.0146]",
          "(0.0343, 0.0832]",
          "(0.0343, 0.0832]",
          "(-0.0146, 0.0343]",
          "(0.0343, 0.0832]",
          "(0.0832, 0.132]",
          "(-0.0146, 0.0343]",
          "(-0.0146, 0.0343]",
          "(-0.0146, 0.0343]",
          "(-0.0146, 0.0343]",
          "(-0.0146, 0.0343]",
          "(-0.0146, 0.0343]",
          "(-0.0146, 0.0343]",
          "(-0.0146, 0.0343]",
          "(-0.0635, -0.0146]",
          "(-0.0146, 0.0343]",
          "(-0.0635, -0.0146]",
          "(-0.0146, 0.0343]",
          "(0.0832, 0.132]",
          "(-0.113, -0.0635]",
          "(-0.0146, 0.0343]",
          "(-0.0635, -0.0146]",
          "(-0.0635, -0.0146]",
          "(-0.0635, -0.0146]",
          "(-0.0635, -0.0146]",
          "(0.0832, 0.132]",
          "(0.0343, 0.0832]",
          "(0.0343, 0.0832]",
          "(0.0343, 0.0832]",
          "(-0.0635, -0.0146]",
          "(0.0343, 0.0832]",
          "(-0.0146, 0.0343]",
          "(-0.0635, -0.0146]",
          "(0.0343, 0.0832]",
          "(-0.0146, 0.0343]",
          "(-0.0635, -0.0146]",
          "(-0.0635, -0.0146]",
          "(-0.0635, -0.0146]",
          "(-0.0146, 0.0343]",
          "(-0.0146, 0.0343]",
          "(0.0343, 0.0832]",
          "(0.0343, 0.0832]",
          "(-0.0146, 0.0343]",
          "(0.0343, 0.0832]",
          "(-0.0146, 0.0343]",
          "(-0.0635, -0.0146]",
          "(-0.113, -0.0635]",
          "(0.0832, 0.132]",
          "(-0.113, -0.0635]",
          "(0.0343, 0.0832]",
          "(-0.113, -0.0635]",
          "(0.0343, 0.0832]",
          "(-0.0146, 0.0343]",
          "(-0.0635, -0.0146]",
          "(-0.0635, -0.0146]",
          "(0.0343, 0.0832]",
          "(-0.0146, 0.0343]",
          "(0.0343, 0.0832]",
          "(-0.0635, -0.0146]",
          "(-0.113, -0.0635]",
          "(-0.0146, 0.0343]",
          "(-0.0146, 0.0343]",
          "(-0.0635, -0.0146]",
          "(-0.0635, -0.0146]",
          "(0.0343, 0.0832]",
          "(-0.0635, -0.0146]",
          "(-0.0635, -0.0146]",
          "(-0.0146, 0.0343]",
          "(0.0343, 0.0832]",
          "(-0.0635, -0.0146]",
          "(0.0343, 0.0832]",
          "(0.0343, 0.0832]",
          "(-0.0635, -0.0146]",
          "(-0.0146, 0.0343]",
          "(-0.0635, -0.0146]",
          "(-0.0635, -0.0146]",
          "(0.0343, 0.0832]",
          "(-0.0146, 0.0343]",
          "(-0.0146, 0.0343]",
          "(-0.0635, -0.0146]",
          "(-0.0146, 0.0343]",
          "(-0.113, -0.0635]",
          "(-0.0146, 0.0343]",
          "(-0.0146, 0.0343]",
          "(-0.0635, -0.0146]",
          "(0.0343, 0.0832]",
          "(-0.0635, -0.0146]",
          "(0.0343, 0.0832]",
          "(-0.0146, 0.0343]",
          "(-0.0635, -0.0146]",
          "(0.0343, 0.0832]",
          "(0.0343, 0.0832]",
          "(-0.0146, 0.0343]",
          "(-0.0146, 0.0343]",
          "(-0.0146, 0.0343]",
          "(-0.0146, 0.0343]",
          "(0.0343, 0.0832]",
          "(0.0343, 0.0832]",
          "(-0.0146, 0.0343]",
          "(-0.0146, 0.0343]",
          "(0.0343, 0.0832]",
          "(-0.0635, -0.0146]",
          "(-0.0635, -0.0146]",
          "(0.0832, 0.132]",
          "(0.0343, 0.0832]",
          "(0.0832, 0.132]",
          "(-0.0635, -0.0146]",
          "(-0.0635, -0.0146]",
          "(-0.0146, 0.0343]",
          "(-0.0635, -0.0146]",
          "(0.0343, 0.0832]",
          "(-0.113, -0.0635]",
          "(-0.113, -0.0635]",
          "(0.0343, 0.0832]",
          "(-0.0635, -0.0146]",
          "(0.0343, 0.0832]",
          "(-0.0635, -0.0146]",
          "(-0.0635, -0.0146]",
          "(-0.0635, -0.0146]",
          "(-0.0146, 0.0343]",
          "(-0.0146, 0.0343]",
          "(-0.0635, -0.0146]",
          "(0.0343, 0.0832]",
          "(0.0343, 0.0832]",
          "(0.0343, 0.0832]",
          "(-0.113, -0.0635]",
          "(0.0343, 0.0832]",
          "(-0.0146, 0.0343]",
          "(0.0343, 0.0832]",
          "(-0.0146, 0.0343]",
          "(-0.0635, -0.0146]",
          "(-0.0146, 0.0343]",
          "(-0.0635, -0.0146]",
          "(-0.0635, -0.0146]",
          "(-0.0635, -0.0146]",
          "(-0.0635, -0.0146]",
          "(0.0343, 0.0832]",
          "(0.0343, 0.0832]",
          "(0.0343, 0.0832]",
          "(0.0832, 0.132]",
          "(-0.0635, -0.0146]",
          "(-0.0146, 0.0343]",
          "(0.0343, 0.0832]",
          "(-0.0146, 0.0343]",
          "(-0.0635, -0.0146]",
          "(-0.0146, 0.0343]",
          "(-0.0635, -0.0146]",
          "(0.0343, 0.0832]",
          "(-0.0635, -0.0146]",
          "(0.0832, 0.132]",
          "(0.0832, 0.132]",
          "(-0.0635, -0.0146]",
          "(-0.0635, -0.0146]",
          "(-0.0635, -0.0146]",
          "(-0.0146, 0.0343]",
          "(-0.113, -0.0635]",
          "(0.0343, 0.0832]",
          "(-0.0635, -0.0146]",
          "(0.0832, 0.132]",
          "(0.0343, 0.0832]",
          "(-0.0635, -0.0146]",
          "(0.0343, 0.0832]",
          "(0.0343, 0.0832]",
          "(-0.0146, 0.0343]",
          "(0.0343, 0.0832]",
          "(-0.0146, 0.0343]",
          "(-0.113, -0.0635]",
          "(-0.0146, 0.0343]",
          "(0.0343, 0.0832]",
          "(-0.0635, -0.0146]",
          "(-0.0146, 0.0343]",
          "(-0.0635, -0.0146]",
          "(-0.0146, 0.0343]",
          "(-0.0635, -0.0146]",
          "(-0.113, -0.0635]",
          "(-0.0635, -0.0146]",
          "(-0.0146, 0.0343]",
          "(-0.0635, -0.0146]",
          "(-0.0146, 0.0343]",
          "(0.0343, 0.0832]",
          "(-0.0635, -0.0146]",
          "(-0.0146, 0.0343]",
          "(-0.0146, 0.0343]",
          "(-0.0635, -0.0146]",
          "(-0.0635, -0.0146]",
          "(-0.113, -0.0635]",
          "(-0.0635, -0.0146]",
          "(-0.0635, -0.0146]",
          "(-0.0635, -0.0146]",
          "(0.0343, 0.0832]",
          "(-0.0146, 0.0343]",
          "(0.0832, 0.132]",
          "(0.0343, 0.0832]",
          "(-0.0635, -0.0146]",
          "(-0.0146, 0.0343]",
          "(-0.0146, 0.0343]",
          "(-0.0635, -0.0146]",
          "(-0.0146, 0.0343]",
          "(0.0343, 0.0832]",
          "(-0.0635, -0.0146]",
          "(-0.0146, 0.0343]",
          "(0.0343, 0.0832]",
          "(-0.0146, 0.0343]",
          "(-0.0635, -0.0146]",
          "(-0.0146, 0.0343]",
          "(0.0343, 0.0832]",
          "(-0.0146, 0.0343]",
          "(0.0343, 0.0832]",
          "(-0.0146, 0.0343]",
          "(0.0343, 0.0832]",
          "(0.0343, 0.0832]",
          "(0.0343, 0.0832]",
          "(-0.0146, 0.0343]",
          "(-0.113, -0.0635]",
          "(-0.0635, -0.0146]",
          "(-0.0146, 0.0343]",
          "(-0.0635, -0.0146]",
          "(-0.0146, 0.0343]",
          "(0.0343, 0.0832]",
          "(-0.0635, -0.0146]",
          "(0.0343, 0.0832]",
          "(-0.0146, 0.0343]",
          "(-0.0635, -0.0146]",
          "(-0.0146, 0.0343]",
          "(-0.0635, -0.0146]",
          "(0.0343, 0.0832]",
          "(-0.0635, -0.0146]",
          "(-0.0635, -0.0146]",
          "(0.0832, 0.132]",
          "(0.0343, 0.0832]",
          "(0.0343, 0.0832]",
          "(0.0832, 0.132]",
          "(-0.0635, -0.0146]",
          "(-0.0635, -0.0146]",
          "(-0.0146, 0.0343]",
          "(-0.113, -0.0635]",
          "(-0.0146, 0.0343]",
          "(-0.0635, -0.0146]",
          "(0.0832, 0.132]",
          "(-0.0635, -0.0146]",
          "(-0.0635, -0.0146]",
          "(-0.0635, -0.0146]",
          "(-0.0146, 0.0343]",
          "(-0.0146, 0.0343]",
          "(-0.0635, -0.0146]",
          "(-0.0146, 0.0343]",
          "(-0.0635, -0.0146]",
          "(-0.0146, 0.0343]",
          "(-0.0146, 0.0343]",
          "(-0.0146, 0.0343]",
          "(0.0343, 0.0832]",
          "(-0.0146, 0.0343]",
          "(-0.0635, -0.0146]",
          "(-0.0146, 0.0343]",
          "(-0.0635, -0.0146]",
          "(-0.0146, 0.0343]",
          "(-0.0146, 0.0343]",
          "(-0.0635, -0.0146]",
          "(-0.0635, -0.0146]",
          "(0.0343, 0.0832]",
          "(-0.0635, -0.0146]",
          "(-0.0146, 0.0343]",
          "(-0.113, -0.0635]",
          "(0.0832, 0.132]",
          "(-0.0146, 0.0343]",
          "(-0.0146, 0.0343]",
          "(-0.0146, 0.0343]",
          "(-0.0146, 0.0343]",
          "(0.0343, 0.0832]",
          "(-0.113, -0.0635]",
          "(-0.0635, -0.0146]",
          "(-0.0146, 0.0343]",
          "(-0.0146, 0.0343]",
          "(0.0343, 0.0832]",
          "(-0.0635, -0.0146]",
          "(-0.113, -0.0635]",
          "(0.0343, 0.0832]",
          "(-0.113, -0.0635]",
          "(0.0343, 0.0832]",
          "(-0.113, -0.0635]",
          "(-0.0146, 0.0343]",
          "(-0.0635, -0.0146]",
          "(0.0343, 0.0832]",
          "(-0.0635, -0.0146]",
          "(-0.0635, -0.0146]",
          "(-0.0635, -0.0146]",
          "(-0.0635, -0.0146]",
          "(0.0343, 0.0832]",
          "(0.0832, 0.132]",
          "(-0.0635, -0.0146]",
          "(-0.0635, -0.0146]",
          "(-0.0146, 0.0343]",
          "(0.0343, 0.0832]",
          "(0.0832, 0.132]",
          "(-0.113, -0.0635]",
          "(-0.0635, -0.0146]",
          "(0.0832, 0.132]",
          "(0.0343, 0.0832]",
          "(-0.0146, 0.0343]",
          "(-0.0635, -0.0146]",
          "(0.0343, 0.0832]",
          "(-0.0635, -0.0146]",
          "(-0.0146, 0.0343]",
          "(-0.0635, -0.0146]",
          "(0.0832, 0.132]",
          "(-0.113, -0.0635]",
          "(-0.0635, -0.0146]",
          "(-0.0635, -0.0146]",
          "(-0.0146, 0.0343]",
          "(-0.0146, 0.0343]",
          "(0.0343, 0.0832]",
          "(-0.0146, 0.0343]",
          "(-0.0635, -0.0146]",
          "(-0.113, -0.0635]",
          "(0.0343, 0.0832]",
          "(-0.0146, 0.0343]",
          "(0.0832, 0.132]",
          "(-0.0635, -0.0146]",
          "(-0.0635, -0.0146]",
          "(-0.0146, 0.0343]",
          "(-0.0146, 0.0343]",
          "(-0.0635, -0.0146]",
          "(-0.0146, 0.0343]",
          "(-0.0635, -0.0146]",
          "(-0.0635, -0.0146]",
          "(0.0343, 0.0832]",
          "(-0.113, -0.0635]",
          "(-0.0146, 0.0343]",
          "(-0.0146, 0.0343]",
          "(-0.113, -0.0635]"
         ],
         "x0": " ",
         "xaxis": "x",
         "y": {
          "bdata": "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",
          "dtype": "f8"
         },
         "y0": " ",
         "yaxis": "y"
        }
       ],
       "layout": {
        "legend": {
         "tracegroupgap": 0
        },
        "template": {
         "data": {
          "bar": [
           {
            "error_x": {
             "color": "#2a3f5f"
            },
            "error_y": {
             "color": "#2a3f5f"
            },
            "marker": {
             "line": {
              "color": "#E5ECF6",
              "width": 0.5
             },
             "pattern": {
              "fillmode": "overlay",
              "size": 10,
              "solidity": 0.2
             }
            },
            "type": "bar"
           }
          ],
          "barpolar": [
           {
            "marker": {
             "line": {
              "color": "#E5ECF6",
              "width": 0.5
             },
             "pattern": {
              "fillmode": "overlay",
              "size": 10,
              "solidity": 0.2
             }
            },
            "type": "barpolar"
           }
          ],
          "carpet": [
           {
            "aaxis": {
             "endlinecolor": "#2a3f5f",
             "gridcolor": "white",
             "linecolor": "white",
             "minorgridcolor": "white",
             "startlinecolor": "#2a3f5f"
            },
            "baxis": {
             "endlinecolor": "#2a3f5f",
             "gridcolor": "white",
             "linecolor": "white",
             "minorgridcolor": "white",
             "startlinecolor": "#2a3f5f"
            },
            "type": "carpet"
           }
          ],
          "choropleth": [
           {
            "colorbar": {
             "outlinewidth": 0,
             "ticks": ""
            },
            "type": "choropleth"
           }
          ],
          "contour": [
           {
            "colorbar": {
             "outlinewidth": 0,
             "ticks": ""
            },
            "colorscale": [
             [
              0,
              "#0d0887"
             ],
             [
              0.1111111111111111,
              "#46039f"
             ],
             [
              0.2222222222222222,
              "#7201a8"
             ],
             [
              0.3333333333333333,
              "#9c179e"
             ],
             [
              0.4444444444444444,
              "#bd3786"
             ],
             [
              0.5555555555555556,
              "#d8576b"
             ],
             [
              0.6666666666666666,
              "#ed7953"
             ],
             [
              0.7777777777777778,
              "#fb9f3a"
             ],
             [
              0.8888888888888888,
              "#fdca26"
             ],
             [
              1,
              "#f0f921"
             ]
            ],
            "type": "contour"
           }
          ],
          "contourcarpet": [
           {
            "colorbar": {
             "outlinewidth": 0,
             "ticks": ""
            },
            "type": "contourcarpet"
           }
          ],
          "heatmap": [
           {
            "colorbar": {
             "outlinewidth": 0,
             "ticks": ""
            },
            "colorscale": [
             [
              0,
              "#0d0887"
             ],
             [
              0.1111111111111111,
              "#46039f"
             ],
             [
              0.2222222222222222,
              "#7201a8"
             ],
             [
              0.3333333333333333,
              "#9c179e"
             ],
             [
              0.4444444444444444,
              "#bd3786"
             ],
             [
              0.5555555555555556,
              "#d8576b"
             ],
             [
              0.6666666666666666,
              "#ed7953"
             ],
             [
              0.7777777777777778,
              "#fb9f3a"
             ],
             [
              0.8888888888888888,
              "#fdca26"
             ],
             [
              1,
              "#f0f921"
             ]
            ],
            "type": "heatmap"
           }
          ],
          "histogram": [
           {
            "marker": {
             "pattern": {
              "fillmode": "overlay",
              "size": 10,
              "solidity": 0.2
             }
            },
            "type": "histogram"
           }
          ],
          "histogram2d": [
           {
            "colorbar": {
             "outlinewidth": 0,
             "ticks": ""
            },
            "colorscale": [
             [
              0,
              "#0d0887"
             ],
             [
              0.1111111111111111,
              "#46039f"
             ],
             [
              0.2222222222222222,
              "#7201a8"
             ],
             [
              0.3333333333333333,
              "#9c179e"
             ],
             [
              0.4444444444444444,
              "#bd3786"
             ],
             [
              0.5555555555555556,
              "#d8576b"
             ],
             [
              0.6666666666666666,
              "#ed7953"
             ],
             [
              0.7777777777777778,
              "#fb9f3a"
             ],
             [
              0.8888888888888888,
              "#fdca26"
             ],
             [
              1,
              "#f0f921"
             ]
            ],
            "type": "histogram2d"
           }
          ],
          "histogram2dcontour": [
           {
            "colorbar": {
             "outlinewidth": 0,
             "ticks": ""
            },
            "colorscale": [
             [
              0,
              "#0d0887"
             ],
             [
              0.1111111111111111,
              "#46039f"
             ],
             [
              0.2222222222222222,
              "#7201a8"
             ],
             [
              0.3333333333333333,
              "#9c179e"
             ],
             [
              0.4444444444444444,
              "#bd3786"
             ],
             [
              0.5555555555555556,
              "#d8576b"
             ],
             [
              0.6666666666666666,
              "#ed7953"
             ],
             [
              0.7777777777777778,
              "#fb9f3a"
             ],
             [
              0.8888888888888888,
              "#fdca26"
             ],
             [
              1,
              "#f0f921"
             ]
            ],
            "type": "histogram2dcontour"
           }
          ],
          "mesh3d": [
           {
            "colorbar": {
             "outlinewidth": 0,
             "ticks": ""
            },
            "type": "mesh3d"
           }
          ],
          "parcoords": [
           {
            "line": {
             "colorbar": {
              "outlinewidth": 0,
              "ticks": ""
             }
            },
            "type": "parcoords"
           }
          ],
          "pie": [
           {
            "automargin": true,
            "type": "pie"
           }
          ],
          "scatter": [
           {
            "fillpattern": {
             "fillmode": "overlay",
             "size": 10,
             "solidity": 0.2
            },
            "type": "scatter"
           }
          ],
          "scatter3d": [
           {
            "line": {
             "colorbar": {
              "outlinewidth": 0,
              "ticks": ""
             }
            },
            "marker": {
             "colorbar": {
              "outlinewidth": 0,
              "ticks": ""
             }
            },
            "type": "scatter3d"
           }
          ],
          "scattercarpet": [
           {
            "marker": {
             "colorbar": {
              "outlinewidth": 0,
              "ticks": ""
             }
            },
            "type": "scattercarpet"
           }
          ],
          "scattergeo": [
           {
            "marker": {
             "colorbar": {
              "outlinewidth": 0,
              "ticks": ""
             }
            },
            "type": "scattergeo"
           }
          ],
          "scattergl": [
           {
            "marker": {
             "colorbar": {
              "outlinewidth": 0,
              "ticks": ""
             }
            },
            "type": "scattergl"
           }
          ],
          "scattermap": [
           {
            "marker": {
             "colorbar": {
              "outlinewidth": 0,
              "ticks": ""
             }
            },
            "type": "scattermap"
           }
          ],
          "scattermapbox": [
           {
            "marker": {
             "colorbar": {
              "outlinewidth": 0,
              "ticks": ""
             }
            },
            "type": "scattermapbox"
           }
          ],
          "scatterpolar": [
           {
            "marker": {
             "colorbar": {
              "outlinewidth": 0,
              "ticks": ""
             }
            },
            "type": "scatterpolar"
           }
          ],
          "scatterpolargl": [
           {
            "marker": {
             "colorbar": {
              "outlinewidth": 0,
              "ticks": ""
             }
            },
            "type": "scatterpolargl"
           }
          ],
          "scatterternary": [
           {
            "marker": {
             "colorbar": {
              "outlinewidth": 0,
              "ticks": ""
             }
            },
            "type": "scatterternary"
           }
          ],
          "surface": [
           {
            "colorbar": {
             "outlinewidth": 0,
             "ticks": ""
            },
            "colorscale": [
             [
              0,
              "#0d0887"
             ],
             [
              0.1111111111111111,
              "#46039f"
             ],
             [
              0.2222222222222222,
              "#7201a8"
             ],
             [
              0.3333333333333333,
              "#9c179e"
             ],
             [
              0.4444444444444444,
              "#bd3786"
             ],
             [
              0.5555555555555556,
              "#d8576b"
             ],
             [
              0.6666666666666666,
              "#ed7953"
             ],
             [
              0.7777777777777778,
              "#fb9f3a"
             ],
             [
              0.8888888888888888,
              "#fdca26"
             ],
             [
              1,
              "#f0f921"
             ]
            ],
            "type": "surface"
           }
          ],
          "table": [
           {
            "cells": {
             "fill": {
              "color": "#EBF0F8"
             },
             "line": {
              "color": "white"
             }
            },
            "header": {
             "fill": {
              "color": "#C8D4E3"
             },
             "line": {
              "color": "white"
             }
            },
            "type": "table"
           }
          ]
         },
         "layout": {
          "annotationdefaults": {
           "arrowcolor": "#2a3f5f",
           "arrowhead": 0,
           "arrowwidth": 1
          },
          "autotypenumbers": "strict",
          "coloraxis": {
           "colorbar": {
            "outlinewidth": 0,
            "ticks": ""
           }
          },
          "colorscale": {
           "diverging": [
            [
             0,
             "#8e0152"
            ],
            [
             0.1,
             "#c51b7d"
            ],
            [
             0.2,
             "#de77ae"
            ],
            [
             0.3,
             "#f1b6da"
            ],
            [
             0.4,
             "#fde0ef"
            ],
            [
             0.5,
             "#f7f7f7"
            ],
            [
             0.6,
             "#e6f5d0"
            ],
            [
             0.7,
             "#b8e186"
            ],
            [
             0.8,
             "#7fbc41"
            ],
            [
             0.9,
             "#4d9221"
            ],
            [
             1,
             "#276419"
            ]
           ],
           "sequential": [
            [
             0,
             "#0d0887"
            ],
            [
             0.1111111111111111,
             "#46039f"
            ],
            [
             0.2222222222222222,
             "#7201a8"
            ],
            [
             0.3333333333333333,
             "#9c179e"
            ],
            [
             0.4444444444444444,
             "#bd3786"
            ],
            [
             0.5555555555555556,
             "#d8576b"
            ],
            [
             0.6666666666666666,
             "#ed7953"
            ],
            [
             0.7777777777777778,
             "#fb9f3a"
            ],
            [
             0.8888888888888888,
             "#fdca26"
            ],
            [
             1,
             "#f0f921"
            ]
           ],
           "sequentialminus": [
            [
             0,
             "#0d0887"
            ],
            [
             0.1111111111111111,
             "#46039f"
            ],
            [
             0.2222222222222222,
             "#7201a8"
            ],
            [
             0.3333333333333333,
             "#9c179e"
            ],
            [
             0.4444444444444444,
             "#bd3786"
            ],
            [
             0.5555555555555556,
             "#d8576b"
            ],
            [
             0.6666666666666666,
             "#ed7953"
            ],
            [
             0.7777777777777778,
             "#fb9f3a"
            ],
            [
             0.8888888888888888,
             "#fdca26"
            ],
            [
             1,
             "#f0f921"
            ]
           ]
          },
          "colorway": [
           "#636efa",
           "#EF553B",
           "#00cc96",
           "#ab63fa",
           "#FFA15A",
           "#19d3f3",
           "#FF6692",
           "#B6E880",
           "#FF97FF",
           "#FECB52"
          ],
          "font": {
           "color": "#2a3f5f"
          },
          "geo": {
           "bgcolor": "white",
           "lakecolor": "white",
           "landcolor": "#E5ECF6",
           "showlakes": true,
           "showland": true,
           "subunitcolor": "white"
          },
          "hoverlabel": {
           "align": "left"
          },
          "hovermode": "closest",
          "mapbox": {
           "style": "light"
          },
          "paper_bgcolor": "white",
          "plot_bgcolor": "#E5ECF6",
          "polar": {
           "angularaxis": {
            "gridcolor": "white",
            "linecolor": "white",
            "ticks": ""
           },
           "bgcolor": "#E5ECF6",
           "radialaxis": {
            "gridcolor": "white",
            "linecolor": "white",
            "ticks": ""
           }
          },
          "scene": {
           "xaxis": {
            "backgroundcolor": "#E5ECF6",
            "gridcolor": "white",
            "gridwidth": 2,
            "linecolor": "white",
            "showbackground": true,
            "ticks": "",
            "zerolinecolor": "white"
           },
           "yaxis": {
            "backgroundcolor": "#E5ECF6",
            "gridcolor": "white",
            "gridwidth": 2,
            "linecolor": "white",
            "showbackground": true,
            "ticks": "",
            "zerolinecolor": "white"
           },
           "zaxis": {
            "backgroundcolor": "#E5ECF6",
            "gridcolor": "white",
            "gridwidth": 2,
            "linecolor": "white",
            "showbackground": true,
            "ticks": "",
            "zerolinecolor": "white"
           }
          },
          "shapedefaults": {
           "line": {
            "color": "#2a3f5f"
           }
          },
          "ternary": {
           "aaxis": {
            "gridcolor": "white",
            "linecolor": "white",
            "ticks": ""
           },
           "baxis": {
            "gridcolor": "white",
            "linecolor": "white",
            "ticks": ""
           },
           "bgcolor": "#E5ECF6",
           "caxis": {
            "gridcolor": "white",
            "linecolor": "white",
            "ticks": ""
           }
          },
          "title": {
           "x": 0.05
          },
          "xaxis": {
           "automargin": true,
           "gridcolor": "white",
           "linecolor": "white",
           "ticks": "",
           "title": {
            "standoff": 15
           },
           "zerolinecolor": "white",
           "zerolinewidth": 2
          },
          "yaxis": {
           "automargin": true,
           "gridcolor": "white",
           "linecolor": "white",
           "ticks": "",
           "title": {
            "standoff": 15
           },
           "zerolinecolor": "white",
           "zerolinewidth": 2
          }
         }
        },
        "title": {
         "text": "Interactive Violin Plot of Binned Blood Pressure vs Disease Progression"
        },
        "violinmode": "group",
        "xaxis": {
         "anchor": "y",
         "domain": [
          0,
          1
         ],
         "title": {
          "text": "Blood Pressure Binned"
         }
        },
        "yaxis": {
         "anchor": "x",
         "domain": [
          0,
          1
         ],
         "title": {
          "text": "Disease Progression"
         }
        }
       }
      }
     },
     "metadata": {},
     "output_type": "display_data"
    },
    {
     "data": {
      "application/vnd.plotly.v1+json": {
       "config": {
        "plotlyServerURL": "https://plot.ly"
       },
       "data": [
        {
         "diagonal": {
          "visible": false
         },
         "dimensions": [
          {
           "label": "age",
           "values": {
            "bdata": "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",
            "dtype": "f8"
           }
          },
          {
           "label": "bmi",
           "values": {
            "bdata": "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",
            "dtype": "f8"
           }
          },
          {
           "label": "bp",
           "values": {
            "bdata": "4Yff8bZllj81qISBmvWav4mX1GTeOXe/rzTW+pXEor/hh9/xtmWWP8R8v96O6JO/DOdcDQlikL+QSPikoA6xP4t/h+PYh6S/0+kkElMBob//YapYP5eAP9PpJBJTAaG/Nncv1fqpgr//YapYP5eAP6ai9HcGt4m/SN5adiaVtD/TGnq+8kypP4uw3I9406w/rzTW+pXEor+Lf4fj2Iekv2jKOMwbS6a/6lgAmUDpUz82dy/V+qmCvxXVVEdzz58/fRIisBRvl7+Lf4fj2IekvzWohIGa9Zq/i3+H49iHpL8TNjr9OhSzvyGjnzD/LLA/xHy/3o7ok7/vgOvlfde0v1OzpJTCcp0/T4GUPo4/Yr/Z9f1uJ1itvyUmQg63PKm/r2UrpzUQqz/Z9f1uJ1itv28ZFrxN/bg/EzY6/ToUs7/hh9/xtmWWP1+ssIiJ5Lu/LOZU3Wdwjr+kkOGImTKyv/9hqlg/l4A/haQDM6R8oD/T6SQSUwGhv9n1/W4nWK2/cI1v+0qkhz+Jl9Rk3jl3v+C4NJ5WsY4/U7OklMJynT+Jl9Rk3jl3v/7tUBlC8LE//2GqWD+XgD+vNNb6lcSivzWohIGa9Zq/IGCbnaHRqb9i77Qb5z+iP3CNb/tKpIc/i3+H49iHpL/8qkyG5JSrv4t/h+PYh6S/tUCvV2obr7+Lf4fj2Iekv2f7jXi7lq4/0+kkElMBob8CWw8s3ouRv4t/h+PYh6S/iZfUZN45d7+movR3BreJv3Ciba8sBcA/pqL0dwa3ib9PgZQ+jj9iv4uw3I9406w/NaiEgZr1mr/+7VAZQvCxPxM2Ov06FLO/fRIisBRvl781qISBmvWavxqFF+1sxqU/7T3nUiB8nr81qISBmvWav0QV6rReDqi/hsRSWNHWub/qWACZQOlTP4t/h+PYh6S/cI1v+0qkhz8264gU+FCxv8R8v96O6JO/i3+H49iHpL/8qkyG5JSrv28ZFrxN/bg/hGH/n0Yhur+movR3BreJv++A6+V917S/0xp6vvJMqT9ANNJixcuZv6ai9HcGt4m/cI1v+0qkhz99EiKwFG+XvyGjnzD/LLA/DOdcDQlikL9wjW/7SqSHP0+BlD6OP2K/i3+H49iHpL9oyjjMG0umv/fkpRXPKay/SCdXs5ecnj8lzBNCSUNjP30SIrAUb5e/NaiEgZr1mr81qISBmvWavyGjnzD/LLA/IaOfMP8ssD+Jl9Rk3jl3v/7tUBlC8LE/JSkMX2lYtj+ZHULDPOyZP0+BlD6OP2K/cI1v+0qkhz/hh9/xtmWWP+GH3/G2ZZY/PMMBksrhUb//YapYP5eAP0+BlD6OP2K/NaiEgZr1mr+movR3BreJvzWohIGa9Zq/HW3Ka2cUcz9LZMekkMC6PzbriBT4ULG/Nncv1fqpgr+Lf4fj2Iekv9PpJBJTAaG/rzTW+pXEor/Z9f1uJ1itv28ZFrxN/bg/2jgCAoWzsz+vZSunNRCrPxqFF+1sxqU/RBXqtF4OqL8+OmYEKgOkPzZ3L9X6qYK/DOdcDQlikL8ho58w/yywP+pYAJlA6VM/xHy/3o7ok7/EfL/ejuiTv0QV6rReDqi/mR1CwzzsmT+Jl9Rk3jl3v/7tUBlC8LE/IaOfMP8ssD+Jl9Rk3jl3v9Maer7yTKk/6lgAmUDpUz/OCA3Aub6Sv6fzNEEk6LG/JSkMX2lYtj8TNjr9OhSzv/7tUBlC8LE/EzY6/ToUs7/aOAIChbOzP+GH3/G2ZZY/RBXqtF4OqL+vNNb6lcSiv0MADXU/bqM/T4GUPo4/Yr/TGnq+8kypP6801vqVxKK/FrymK6U/ub//YapYP5eAP4mX1GTeOXe/aMo4zBtLpr81qISBmvWavz46ZgQqA6Q/QDTSYsXLmb81qISBmvWav6ai9HcGt4m/Yu+0G+c/oj/8qkyG5JSrv4uw3I9406w/IaOfMP8ssD99EiKwFG+Xv/9hqlg/l4A/xHy/3o7ok781qISBmvWav9Maer7yTKk/6lgAmUDpUz9Ts6SUwnKdP2jKOMwbS6a//2GqWD+XgD/IRTCgVm+wv4WkAzOkfKA/4Lg0nlaxjj/T6SQSUwGhv/7tUBlC8LE/NaiEgZr1mr9mtVuM/KqhP0mPypdQVoC/DOdcDQlikL9i77Qb5z+iP69lK6c1EKs/U7OklMJynT/guDSeVrGOPzZ3L9X6qYK/U7OklMJynT/aOAIChbOzP5BI+KSgDrE/4Lg0nlaxjj/hh9/xtmWWP2LvtBvnP6I/fRIisBRvl799EiKwFG+Xv28ZFrxN/bg/0xp6vvJMqT/dvm4w7965P4t/h+PYh6S/xHy/3o7ok7+Jl9Rk3jl3vzWohIGa9Zq/GoUX7WzGpT/IRTCgVm+wv81RCf0qxry/0xp6vvJMqT81qISBmvWav4fqNR9jaK0/tUCvV2obr7/tPedSIHyev9n1/W4nWK2/4Yff8bZllj+6uo86XGOHvyBgm52h0am/9s/I1a+Jpz9twTTp0AGuP2LvtBvnP6I/NIg1XG2bsb9n+414u5auP6ai9HcGt4m/kEj4pKAOsT8dbcprZxRzP30SIrAUb5e/cI1v+0qkhz/EfL/ejuiTv+0951IgfJ6/r3oI51Swr7+Lf4fj2Iekv2f7jXi7lq4/r2UrpzUQqz9sk6mN49GyPyUpDF9pWLY/3buk3zzDrL//YapYP5eAP9o4AgKFs7M/iZfUZN45d79EFeq0Xg6ov5kdQsM87Jk/bZDfPDG2pb8ahRftbMalP9n1/W4nWK2/S2THpJDAuj9vGRa8Tf24P0QV6rReDqi/0+kkElMBob8CWw8s3ouRv3CNb/tKpIc/XSZEWh+5tb/+7VAZQvCxPzWohIGa9Zq/t4Oz6sd2tT8ahRftbMalP927pN88w6y/9s/I1a+Jpz9i77Qb5z+iP3CNb/tKpIc/IaOfMP8ssD/qWACZQOlTP10mRFofubW/HW3Ka2cUcz8+OmYEKgOkP9n1/W4nWK2/iZfUZN45d7/T6SQSUwGhv1OzpJTCcp0/DOdcDQlikL+B25Jx3PWzvwznXA0JYpC/4Yff8bZllj+Lf4fj2Iekv5kdQsM87Jk/IaOfMP8ssD/Yr8uCaGygv1111Dj194k/iZfUZN45d7+Lf4fj2Iekv4t/h+PYh6S/yEUwoFZvsL9EFeq0Xg6ovwznXA0JYpC/hrngcsMcpb+vZSunNRCrP4DeXMKOEaE/AXS9R6wbuD+vZSunNRCrP4t/h+PYh6S/4Yff8bZllj8dbcprZxRzP9PpJBJTAaG/T4GUPo4/Yr9i77Qb5z+iP9n1/W4nWK2/iZfUZN45d7+vZSunNRCrP6ai9HcGt4m//KpMhuSUq7/qWACZQOlTP492gwCOPqw/mR1CwzzsmT/2z8jVr4mnP4mX1GTeOXe/S0GuLrFKtD9JDObRE8WvP9Maer7yTKk/cI1v+0qkhz85TtzMggaxv9PpJBJTAaG/U7OklMJynT+1QK9Xahuvv0+BlD6OP2K/GoUX7WzGpT+vNNb6lcSiv9o4AgKFs7M/U7OklMJynT99EiKwFG+Xv6ai9HcGt4m/rzTW+pXEor/+7VAZQvCxP9PpJBJTAaG/IGCbnaHRqb/eR8YjzubAP4uw3I9406w/i7Dcj3jTrD+TzmTTCjq3P4t/h+PYh6S/0+kkElMBob+FpAMzpHygPxM2Ov06FLO/iZfUZN45d79oyjjMG0umv7kJIBkyors/0+kkElMBob9EFeq0Xg6ov6801vqVxKK/4Yff8bZllj/guDSeVrGOPwznXA0JYpC/KfJ8IDHfkj81qISBmvWav4WkAzOkfKA/4Yff8bZllj9Ts6SUwnKdP/7tUBlC8LE/lZiR3eq+FD/EfL/ejuiTv6ai9HcGt4m/DOdcDQlikL/guDSeVrGOP+C4NJ5WsY4/i3+H49iHpL/Z9f1uJ1itv9Maer7yTKk/DOdcDQlikL+Jl9Rk3jl3vzbriBT4ULG/uQkgGTKiuz+Jl9Rk3jl3vynyfCAx35I/iZfUZN45d7/hh9/xtmWWP23BNOnQAa4/EzY6/ToUs799EiKwFG+XvzZ3L9X6qYK/HW3Ka2cUcz/TGnq+8kypPwznXA0JYpC/EzY6/ToUs7+LsNyPeNOsP10mRFofubW/Z/uNeLuWrj/IRTCgVm+wv0+BlD6OP2K/aMo4zBtLpr+LsNyPeNOsP+0951IgfJ6/fRIisBRvl7/jsZlx9aWfv9PpJBJTAaG/0xp6vvJMqT+TzmTTCjq3P9n1/W4nWK2/fRIisBRvl7+Jl9Rk3jl3v/7tUBlC8LE/t4Oz6sd2tT9dJkRaH7m1vwFx8/b5/6q/uQkgGTKiuz+LsNyPeNOsP/9hqlg/l4A/aMo4zBtLpr8ho58w/yywPzWohIGa9Zq/sccK6omScr8gYJudodGpv2y2wgPDR7k/EzY6/ToUs781qISBmvWav/yqTIbklKu/lZiR3eq+FD/hh9/xtmWWP69lK6c1EKs/U7OklMJynT/EfL/ejuiTv++A6+V917S/Fb9wfFdbpj+Jl9Rk3jl3vyUpDF9pWLY/fRIisBRvl78gYJudodGpv+GH3/G2ZZY/iZfUZN45d7/tPedSIHyev/9hqlg/l4A/i3+H49iHpL8gYJudodGpv2f7jXi7lq4/NuuIFPhQsb8zfsoBXLWRP+pYAJlA6VM/74Dr5X3XtL8=",
            "dtype": "f8"
           }
          },
          {
           "label": "s1",
           "values": {
            "bdata": "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",
            "dtype": "f8"
           }
          },
          {
           "label": "target",
           "values": {
            "bdata": "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",
            "dtype": "f8"
           }
          }
         ],
         "showupperhalf": false,
         "type": "splom"
        }
       ],
       "layout": {
        "dragmode": "select",
        "height": 800,
        "template": {
         "data": {
          "bar": [
           {
            "error_x": {
             "color": "#2a3f5f"
            },
            "error_y": {
             "color": "#2a3f5f"
            },
            "marker": {
             "line": {
              "color": "#E5ECF6",
              "width": 0.5
             },
             "pattern": {
              "fillmode": "overlay",
              "size": 10,
              "solidity": 0.2
             }
            },
            "type": "bar"
           }
          ],
          "barpolar": [
           {
            "marker": {
             "line": {
              "color": "#E5ECF6",
              "width": 0.5
             },
             "pattern": {
              "fillmode": "overlay",
              "size": 10,
              "solidity": 0.2
             }
            },
            "type": "barpolar"
           }
          ],
          "carpet": [
           {
            "aaxis": {
             "endlinecolor": "#2a3f5f",
             "gridcolor": "white",
             "linecolor": "white",
             "minorgridcolor": "white",
             "startlinecolor": "#2a3f5f"
            },
            "baxis": {
             "endlinecolor": "#2a3f5f",
             "gridcolor": "white",
             "linecolor": "white",
             "minorgridcolor": "white",
             "startlinecolor": "#2a3f5f"
            },
            "type": "carpet"
           }
          ],
          "choropleth": [
           {
            "colorbar": {
             "outlinewidth": 0,
             "ticks": ""
            },
            "type": "choropleth"
           }
          ],
          "contour": [
           {
            "colorbar": {
             "outlinewidth": 0,
             "ticks": ""
            },
            "colorscale": [
             [
              0,
              "#0d0887"
             ],
             [
              0.1111111111111111,
              "#46039f"
             ],
             [
              0.2222222222222222,
              "#7201a8"
             ],
             [
              0.3333333333333333,
              "#9c179e"
             ],
             [
              0.4444444444444444,
              "#bd3786"
             ],
             [
              0.5555555555555556,
              "#d8576b"
             ],
             [
              0.6666666666666666,
              "#ed7953"
             ],
             [
              0.7777777777777778,
              "#fb9f3a"
             ],
             [
              0.8888888888888888,
              "#fdca26"
             ],
             [
              1,
              "#f0f921"
             ]
            ],
            "type": "contour"
           }
          ],
          "contourcarpet": [
           {
            "colorbar": {
             "outlinewidth": 0,
             "ticks": ""
            },
            "type": "contourcarpet"
           }
          ],
          "heatmap": [
           {
            "colorbar": {
             "outlinewidth": 0,
             "ticks": ""
            },
            "colorscale": [
             [
              0,
              "#0d0887"
             ],
             [
              0.1111111111111111,
              "#46039f"
             ],
             [
              0.2222222222222222,
              "#7201a8"
             ],
             [
              0.3333333333333333,
              "#9c179e"
             ],
             [
              0.4444444444444444,
              "#bd3786"
             ],
             [
              0.5555555555555556,
              "#d8576b"
             ],
             [
              0.6666666666666666,
              "#ed7953"
             ],
             [
              0.7777777777777778,
              "#fb9f3a"
             ],
             [
              0.8888888888888888,
              "#fdca26"
             ],
             [
              1,
              "#f0f921"
             ]
            ],
            "type": "heatmap"
           }
          ],
          "histogram": [
           {
            "marker": {
             "pattern": {
              "fillmode": "overlay",
              "size": 10,
              "solidity": 0.2
             }
            },
            "type": "histogram"
           }
          ],
          "histogram2d": [
           {
            "colorbar": {
             "outlinewidth": 0,
             "ticks": ""
            },
            "colorscale": [
             [
              0,
              "#0d0887"
             ],
             [
              0.1111111111111111,
              "#46039f"
             ],
             [
              0.2222222222222222,
              "#7201a8"
             ],
             [
              0.3333333333333333,
              "#9c179e"
             ],
             [
              0.4444444444444444,
              "#bd3786"
             ],
             [
              0.5555555555555556,
              "#d8576b"
             ],
             [
              0.6666666666666666,
              "#ed7953"
             ],
             [
              0.7777777777777778,
              "#fb9f3a"
             ],
             [
              0.8888888888888888,
              "#fdca26"
             ],
             [
              1,
              "#f0f921"
             ]
            ],
            "type": "histogram2d"
           }
          ],
          "histogram2dcontour": [
           {
            "colorbar": {
             "outlinewidth": 0,
             "ticks": ""
            },
            "colorscale": [
             [
              0,
              "#0d0887"
             ],
             [
              0.1111111111111111,
              "#46039f"
             ],
             [
              0.2222222222222222,
              "#7201a8"
             ],
             [
              0.3333333333333333,
              "#9c179e"
             ],
             [
              0.4444444444444444,
              "#bd3786"
             ],
             [
              0.5555555555555556,
              "#d8576b"
             ],
             [
              0.6666666666666666,
              "#ed7953"
             ],
             [
              0.7777777777777778,
              "#fb9f3a"
             ],
             [
              0.8888888888888888,
              "#fdca26"
             ],
             [
              1,
              "#f0f921"
             ]
            ],
            "type": "histogram2dcontour"
           }
          ],
          "mesh3d": [
           {
            "colorbar": {
             "outlinewidth": 0,
             "ticks": ""
            },
            "type": "mesh3d"
           }
          ],
          "parcoords": [
           {
            "line": {
             "colorbar": {
              "outlinewidth": 0,
              "ticks": ""
             }
            },
            "type": "parcoords"
           }
          ],
          "pie": [
           {
            "automargin": true,
            "type": "pie"
           }
          ],
          "scatter": [
           {
            "fillpattern": {
             "fillmode": "overlay",
             "size": 10,
             "solidity": 0.2
            },
            "type": "scatter"
           }
          ],
          "scatter3d": [
           {
            "line": {
             "colorbar": {
              "outlinewidth": 0,
              "ticks": ""
             }
            },
            "marker": {
             "colorbar": {
              "outlinewidth": 0,
              "ticks": ""
             }
            },
            "type": "scatter3d"
           }
          ],
          "scattercarpet": [
           {
            "marker": {
             "colorbar": {
              "outlinewidth": 0,
              "ticks": ""
             }
            },
            "type": "scattercarpet"
           }
          ],
          "scattergeo": [
           {
            "marker": {
             "colorbar": {
              "outlinewidth": 0,
              "ticks": ""
             }
            },
            "type": "scattergeo"
           }
          ],
          "scattergl": [
           {
            "marker": {
             "colorbar": {
              "outlinewidth": 0,
              "ticks": ""
             }
            },
            "type": "scattergl"
           }
          ],
          "scattermap": [
           {
            "marker": {
             "colorbar": {
              "outlinewidth": 0,
              "ticks": ""
             }
            },
            "type": "scattermap"
           }
          ],
          "scattermapbox": [
           {
            "marker": {
             "colorbar": {
              "outlinewidth": 0,
              "ticks": ""
             }
            },
            "type": "scattermapbox"
           }
          ],
          "scatterpolar": [
           {
            "marker": {
             "colorbar": {
              "outlinewidth": 0,
              "ticks": ""
             }
            },
            "type": "scatterpolar"
           }
          ],
          "scatterpolargl": [
           {
            "marker": {
             "colorbar": {
              "outlinewidth": 0,
              "ticks": ""
             }
            },
            "type": "scatterpolargl"
           }
          ],
          "scatterternary": [
           {
            "marker": {
             "colorbar": {
              "outlinewidth": 0,
              "ticks": ""
             }
            },
            "type": "scatterternary"
           }
          ],
          "surface": [
           {
            "colorbar": {
             "outlinewidth": 0,
             "ticks": ""
            },
            "colorscale": [
             [
              0,
              "#0d0887"
             ],
             [
              0.1111111111111111,
              "#46039f"
             ],
             [
              0.2222222222222222,
              "#7201a8"
             ],
             [
              0.3333333333333333,
              "#9c179e"
             ],
             [
              0.4444444444444444,
              "#bd3786"
             ],
             [
              0.5555555555555556,
              "#d8576b"
             ],
             [
              0.6666666666666666,
              "#ed7953"
             ],
             [
              0.7777777777777778,
              "#fb9f3a"
             ],
             [
              0.8888888888888888,
              "#fdca26"
             ],
             [
              1,
              "#f0f921"
             ]
            ],
            "type": "surface"
           }
          ],
          "table": [
           {
            "cells": {
             "fill": {
              "color": "#EBF0F8"
             },
             "line": {
              "color": "white"
             }
            },
            "header": {
             "fill": {
              "color": "#C8D4E3"
             },
             "line": {
              "color": "white"
             }
            },
            "type": "table"
           }
          ]
         },
         "layout": {
          "annotationdefaults": {
           "arrowcolor": "#2a3f5f",
           "arrowhead": 0,
           "arrowwidth": 1
          },
          "autotypenumbers": "strict",
          "coloraxis": {
           "colorbar": {
            "outlinewidth": 0,
            "ticks": ""
           }
          },
          "colorscale": {
           "diverging": [
            [
             0,
             "#8e0152"
            ],
            [
             0.1,
             "#c51b7d"
            ],
            [
             0.2,
             "#de77ae"
            ],
            [
             0.3,
             "#f1b6da"
            ],
            [
             0.4,
             "#fde0ef"
            ],
            [
             0.5,
             "#f7f7f7"
            ],
            [
             0.6,
             "#e6f5d0"
            ],
            [
             0.7,
             "#b8e186"
            ],
            [
             0.8,
             "#7fbc41"
            ],
            [
             0.9,
             "#4d9221"
            ],
            [
             1,
             "#276419"
            ]
           ],
           "sequential": [
            [
             0,
             "#0d0887"
            ],
            [
             0.1111111111111111,
             "#46039f"
            ],
            [
             0.2222222222222222,
             "#7201a8"
            ],
            [
             0.3333333333333333,
             "#9c179e"
            ],
            [
             0.4444444444444444,
             "#bd3786"
            ],
            [
             0.5555555555555556,
             "#d8576b"
            ],
            [
             0.6666666666666666,
             "#ed7953"
            ],
            [
             0.7777777777777778,
             "#fb9f3a"
            ],
            [
             0.8888888888888888,
             "#fdca26"
            ],
            [
             1,
             "#f0f921"
            ]
           ],
           "sequentialminus": [
            [
             0,
             "#0d0887"
            ],
            [
             0.1111111111111111,
             "#46039f"
            ],
            [
             0.2222222222222222,
             "#7201a8"
            ],
            [
             0.3333333333333333,
             "#9c179e"
            ],
            [
             0.4444444444444444,
             "#bd3786"
            ],
            [
             0.5555555555555556,
             "#d8576b"
            ],
            [
             0.6666666666666666,
             "#ed7953"
            ],
            [
             0.7777777777777778,
             "#fb9f3a"
            ],
            [
             0.8888888888888888,
             "#fdca26"
            ],
            [
             1,
             "#f0f921"
            ]
           ]
          },
          "colorway": [
           "#636efa",
           "#EF553B",
           "#00cc96",
           "#ab63fa",
           "#FFA15A",
           "#19d3f3",
           "#FF6692",
           "#B6E880",
           "#FF97FF",
           "#FECB52"
          ],
          "font": {
           "color": "#2a3f5f"
          },
          "geo": {
           "bgcolor": "white",
           "lakecolor": "white",
           "landcolor": "#E5ECF6",
           "showlakes": true,
           "showland": true,
           "subunitcolor": "white"
          },
          "hoverlabel": {
           "align": "left"
          },
          "hovermode": "closest",
          "mapbox": {
           "style": "light"
          },
          "paper_bgcolor": "white",
          "plot_bgcolor": "#E5ECF6",
          "polar": {
           "angularaxis": {
            "gridcolor": "white",
            "linecolor": "white",
            "ticks": ""
           },
           "bgcolor": "#E5ECF6",
           "radialaxis": {
            "gridcolor": "white",
            "linecolor": "white",
            "ticks": ""
           }
          },
          "scene": {
           "xaxis": {
            "backgroundcolor": "#E5ECF6",
            "gridcolor": "white",
            "gridwidth": 2,
            "linecolor": "white",
            "showbackground": true,
            "ticks": "",
            "zerolinecolor": "white"
           },
           "yaxis": {
            "backgroundcolor": "#E5ECF6",
            "gridcolor": "white",
            "gridwidth": 2,
            "linecolor": "white",
            "showbackground": true,
            "ticks": "",
            "zerolinecolor": "white"
           },
           "zaxis": {
            "backgroundcolor": "#E5ECF6",
            "gridcolor": "white",
            "gridwidth": 2,
            "linecolor": "white",
            "showbackground": true,
            "ticks": "",
            "zerolinecolor": "white"
           }
          },
          "shapedefaults": {
           "line": {
            "color": "#2a3f5f"
           }
          },
          "ternary": {
           "aaxis": {
            "gridcolor": "white",
            "linecolor": "white",
            "ticks": ""
           },
           "baxis": {
            "gridcolor": "white",
            "linecolor": "white",
            "ticks": ""
           },
           "bgcolor": "#E5ECF6",
           "caxis": {
            "gridcolor": "white",
            "linecolor": "white",
            "ticks": ""
           }
          },
          "title": {
           "x": 0.05
          },
          "xaxis": {
           "automargin": true,
           "gridcolor": "white",
           "linecolor": "white",
           "ticks": "",
           "title": {
            "standoff": 15
           },
           "zerolinecolor": "white",
           "zerolinewidth": 2
          },
          "yaxis": {
           "automargin": true,
           "gridcolor": "white",
           "linecolor": "white",
           "ticks": "",
           "title": {
            "standoff": 15
           },
           "zerolinecolor": "white",
           "zerolinewidth": 2
          }
         }
        },
        "title": {
         "text": "Scatter Plot Matrix of Selected Numeric Features"
        },
        "width": 800
       }
      }
     },
     "metadata": {},
     "output_type": "display_data"
    }
   ],
   "source": [
    "# Import necessary libraries\n",
    "import pandas as pd\n",
    "import plotly.express as px\n",
    "import plotly.figure_factory as ff\n",
    "import numpy as np\n",
    "from sklearn.datasets import load_diabetes\n",
    "import plotly.graph_objs as go\n",
    "\n",
    "# Load the diabetes dataset and convert to a DataFrame\n",
    "diabetes = load_diabetes()\n",
    "diabetes_df = pd.DataFrame(data=diabetes.data, columns=diabetes.feature_names)\n",
    "diabetes_df['target'] = diabetes.target\n",
    "\n",
    "# Reduce the number of features for pair plot and focus on key variables\n",
    "selected_features = ['age', 'bmi', 'bp', 's1', 'target']  # Focus on these variables\n",
    "\n",
    "# 1. Correlation Heatmap (Interactive)\n",
    "correlation_matrix = diabetes_df[selected_features].corr().values\n",
    "fig_heatmap = ff.create_annotated_heatmap(\n",
    "    z=correlation_matrix,\n",
    "    x=selected_features,\n",
    "    y=selected_features,\n",
    "    colorscale='Viridis'\n",
    ")\n",
    "fig_heatmap.update_layout(\n",
    "    title=\"Correlation Heatmap (Interactive)\",\n",
    "    xaxis_title=\"Features\",\n",
    "    yaxis_title=\"Features\"\n",
    ")\n",
    "fig_heatmap.show()\n",
    "\n",
    "# 2. Interactive Scatterplot of BMI vs Target with Regression Line\n",
    "fig_scatter_bmi = px.scatter(diabetes_df, x='bmi', y='target', trendline='ols',\n",
    "                             labels={'bmi':'BMI', 'target':'Disease Progression'},\n",
    "                             title=\"Interactive Scatterplot of BMI vs Disease Progression\")\n",
    "fig_scatter_bmi.show()\n",
    "\n",
    "# 3. Interactive Scatterplot of Blood Pressure vs Target with Regression Line\n",
    "fig_scatter_bp = px.scatter(diabetes_df, x='bp', y='target', trendline='ols',\n",
    "                            labels={'bp':'Blood Pressure', 'target':'Disease Progression'},\n",
    "                            title=\"Interactive Scatterplot of Blood Pressure vs Disease Progression\")\n",
    "fig_scatter_bp.show()\n",
    "\n",
    "# 4. Bin BMI and Blood Pressure for better categorical comparison in violin plots\n",
    "diabetes_df['bmi_binned'] = pd.cut(diabetes_df['bmi'], bins=5)\n",
    "diabetes_df['bp_binned'] = pd.cut(diabetes_df['bp'], bins=5)\n",
    "\n",
    "# Convert the binned intervals to strings for compatibility with Plotly\n",
    "diabetes_df['bmi_binned'] = diabetes_df['bmi_binned'].astype(str)\n",
    "diabetes_df['bp_binned'] = diabetes_df['bp_binned'].astype(str)\n",
    "\n",
    "# 5. Interactive Violin Plot for Binned BMI vs Target\n",
    "fig_violin_bmi = px.violin(diabetes_df, x='bmi_binned', y='target', box=True, points='all',\n",
    "                           labels={'bmi_binned':'BMI Binned', 'target':'Disease Progression'},\n",
    "                           title=\"Interactive Violin Plot of Binned BMI vs Disease Progression\")\n",
    "fig_violin_bmi.show()\n",
    "\n",
    "# 6. Interactive Violin Plot for Binned Blood Pressure vs Target\n",
    "fig_violin_bp = px.violin(diabetes_df, x='bp_binned', y='target', box=True, points='all',\n",
    "                          labels={'bp_binned':'Blood Pressure Binned', 'target':'Disease Progression'},\n",
    "                          title=\"Interactive Violin Plot of Binned Blood Pressure vs Disease Progression\")\n",
    "fig_violin_bp.show()\n",
    "\n",
    "\n",
    "# Pair Plot with Reduced Features (Ensure only numeric features are used)\n",
    "numeric_features = ['age', 'bmi', 'bp', 's1', 'target']  # Focus on numeric features only\n",
    "\n",
    "fig_splom = go.Figure(data=go.Splom(\n",
    "    dimensions=[dict(label=col, values=diabetes_df[col]) for col in numeric_features],\n",
    "    showupperhalf=False,  # Only show the lower half of the matrix\n",
    "    diagonal_visible=False  # Hide diagonal subplots\n",
    "))\n",
    "\n",
    "fig_splom.update_layout(\n",
    "    title=\"Scatter Plot Matrix of Selected Numeric Features\",\n",
    "    dragmode='select',\n",
    "    width=800,\n",
    "    height=800\n",
    ")\n",
    "\n",
    "fig_splom.show()"
   ]
  },
  {
   "cell_type": "markdown",
   "metadata": {},
   "source": [
    "Next, read carefully the instructions for the ICA for Thursday. Invent some scenarios so that you can quickly work with your subgroup on a scenario you all agree to. \n"
   ]
  },
  {
   "cell_type": "markdown",
   "metadata": {},
   "source": [
    "Here are some hints, but you and your subgroup should be creative!\n",
    "\n",
    "### Subgroup Scenarios for Data Storytelling\n",
    "\n",
    "Below are five distinct scenarios that you will consider in your subgroup. Each scenario presents a unique audience and setting, requiring you to adapt your data narrative, tone, and visualizations accordingly. Your goal is to tailor your presentation to fit the needs and expectations of the audience described in your assigned scenario.\n",
    "\n",
    "##### Scenario 1: **Insulin Production Company – Presenting to New Employees**\n",
    "- **Audience**: New employees at an insulin production company who are mainly curious about diabetes data but have limited knowledge.\n",
    "- **Objective**: Explain the relationship between health factors (BMI, glucose, etc.) and diabetes progression in a simple and informative way.\n",
    "- **Tone**: Educational and accessible, focusing on the basics.\n",
    "- **Challenge**: Keeping it engaging for a less technical audience while delivering key insights about the product (insulin) and its impact on health.\n",
    "\n",
    "##### Scenario 2: **Soft Drink Company – Presenting to a Traditional CEO**\n",
    "- **Audience**: The CEO of a major soft drink company, who is resistant to change and prefers things the way they’ve always been.\n",
    "- **Objective**: Persuade the CEO to consider the impact of sugary drinks on health and how it might relate to diabetes, potentially advocating for product reformulation or marketing shifts.\n",
    "- **Tone**: Convincing but respectful, using hard-hitting data to support your case.\n",
    "- **Challenge**: Overcoming resistance and biases, especially when the data suggests a negative impact of sugary drinks on diabetes progression.\n",
    "\n",
    "##### Scenario 3: **Health Education Nonprofit – Presenting to a Diverse Audience**\n",
    "- **Audience**: A mixed group at a health education seminar, including young adults, parents, and senior citizens.\n",
    "- **Objective**: Raise awareness about the risk factors for diabetes and the importance of lifestyle changes (diet, exercise) to prevent or manage the condition.\n",
    "- **Tone**: Clear, engaging, and actionable, with an emphasis on how each demographic can take steps to improve their health.\n",
    "- **Challenge**: Addressing a diverse audience with varying levels of health literacy and interest in the topic.\n",
    "\n",
    "##### Scenario 4: **Medical Research Conference – Presenting to Experts**\n",
    "- **Audience**: Doctors, researchers, and healthcare professionals attending a medical research conference.\n",
    "- **Objective**: Present the data on diabetes progression in relation to key health metrics like BMI and glucose, aiming to spark discussion on new treatment approaches or clinical trials.\n",
    "- **Tone**: Technical and data-driven, with a focus on cutting-edge research and clinical applications.\n",
    "- **Challenge**: Providing enough depth to keep experts engaged while ensuring clarity and focus.\n",
    "\n",
    "##### Scenario 5: **Fitness Company – Presenting to a Group of Fitness Trainers**\n",
    "- **Audience**: Fitness trainers and health coaches at a company focused on fitness and wellness.\n",
    "- **Objective**: Highlight the role of exercise, diet, and physical fitness in managing and preventing diabetes. Connect diabetes data to fitness practices.\n",
    "- **Tone**: Motivational and informative, focusing on how trainers can use this information to support their clients.\n",
    "- **Challenge**: Translating medical data into practical, fitness-related advice that trainers can apply in their day-to-day work.\n"
   ]
  },
  {
   "cell_type": "code",
   "execution_count": null,
   "metadata": {},
   "outputs": [],
   "source": []
  }
 ],
 "metadata": {
  "kernelspec": {
   "display_name": "cmse492",
   "language": "python",
   "name": "python3"
  },
  "language_info": {
   "codemirror_mode": {
    "name": "ipython",
    "version": 3
   },
   "file_extension": ".py",
   "mimetype": "text/x-python",
   "name": "python",
   "nbconvert_exporter": "python",
   "pygments_lexer": "ipython3",
   "version": "3.12.11"
  }
 },
 "nbformat": 4,
 "nbformat_minor": 2
}
