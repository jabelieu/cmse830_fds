{
 "cells": [
  {
   "cell_type": "markdown",
   "metadata": {},
   "source": [
    "# <font color=#EEAA11> HW 03: Visualization, IDA and EDA </font>\n",
    "\n",
    "\n",
    "![missing](https://jenslaufer.com/figure/source/2019-02-05-visualize_missing_values_with_ggplot/unnamed-chunk-13-1.png)\n"
   ]
  },
  {
   "cell_type": "markdown",
   "metadata": {},
   "source": [
    "### Instructions for Submitting Names in Notebooks\n",
    "\n",
    "Please follow the format below when typing your names in the notebook. \n",
    "\n",
    "- Each member's name must be written in the format:  \n",
    "  **Last Name, First Name, Second Name**\n",
    "\n",
    "#### Example:\n",
    "    Poe, Edgar Allan\n",
    "\n",
    "> ⚠️ **Failure to follow this format will result in a reduction of your grade.**\n"
   ]
  },
  {
   "cell_type": "markdown",
   "metadata": {},
   "source": [
    "Belieu, Joshua Alan"
   ]
  },
  {
   "cell_type": "markdown",
   "metadata": {},
   "source": [
    "\n",
    "## <font color=#00BBFF> Problem #1 - IDA (10 pts) </font>\n",
    "\n",
    "In this problem you are going to explore IDA: Initial Data Analysis, which is can be defined many ways, but we will assume it contains these steps:\n",
    "* Data collection and importation\n",
    "* Data cleaning and preprocessing\n",
    "* Variable identification and classification\n",
    "* Basic descriptive statistics\n",
    "* Data quality assessment\n",
    "* Missing data analysis\n",
    "* Outlier detection\n",
    "\n",
    "🤓 Follow these steps:\n",
    "* import the planets dataset, which is in Seaborn\n",
    "    - in this case, the data has been collected for us and you simply need to import it into a Pandas dataframe\n",
    "* based on your initial assessment of this dataset, how should it be cleaned and processed? discuss your observations in a markdown cell and write the code to complete this task\n",
    "* what types of variables are there? ordinal? categorical? cardinal? add this to your discussion in the markdown cell\n",
    "* find the statistics of the different features of the data; what simple methods are in Pandas are there for this? are there variables for which this doesn't make sense? do any of them need to be encoded? \n",
    "* based on what you see so far, what is the quality of this data? basic IDA for this might include using `.describe` and `.info` \n",
    "* did you note any missing data? make a heat map of this dataset that shows missing values (I have given an example code for this in the past, but feel free to write your own); \n",
    "* for each feature/column for which it makes sense, scale the column using the z-score and print the number of outliers for that column (that is, how many rows in the column have values $<-3$ or $>3$ after scaling?)\n",
    "\n",
    "\n",
    "\n",
    "These IDA steps have already revealed important properties of this dataset. You will want to follow these steps for your project and document what you found. A nice feature of a web app is to have a tab, perhaps called \"Dataset(s)\", that describes the dataset(s) used for the app. \n",
    "____\n",
    "\n",
    "Next, let's examine EDA, which follows the IDA steps. Let's summarize IDA in a table and compare to EDA:"
   ]
  },
  {
   "cell_type": "code",
   "execution_count": 1,
   "metadata": {},
   "outputs": [],
   "source": [
    "import seaborn as sns\n",
    "import numpy as np\n",
    "import matplotlib.pyplot as plt\n",
    "import plotly.express as px"
   ]
  },
  {
   "cell_type": "code",
   "execution_count": 2,
   "metadata": {},
   "outputs": [
    {
     "data": {
      "text/html": [
       "<div>\n",
       "<style scoped>\n",
       "    .dataframe tbody tr th:only-of-type {\n",
       "        vertical-align: middle;\n",
       "    }\n",
       "\n",
       "    .dataframe tbody tr th {\n",
       "        vertical-align: top;\n",
       "    }\n",
       "\n",
       "    .dataframe thead th {\n",
       "        text-align: right;\n",
       "    }\n",
       "</style>\n",
       "<table border=\"1\" class=\"dataframe\">\n",
       "  <thead>\n",
       "    <tr style=\"text-align: right;\">\n",
       "      <th></th>\n",
       "      <th>method</th>\n",
       "      <th>number</th>\n",
       "      <th>orbital_period</th>\n",
       "      <th>mass</th>\n",
       "      <th>distance</th>\n",
       "      <th>year</th>\n",
       "    </tr>\n",
       "  </thead>\n",
       "  <tbody>\n",
       "    <tr>\n",
       "      <th>0</th>\n",
       "      <td>Radial Velocity</td>\n",
       "      <td>1</td>\n",
       "      <td>269.300000</td>\n",
       "      <td>7.10</td>\n",
       "      <td>77.40</td>\n",
       "      <td>2006</td>\n",
       "    </tr>\n",
       "    <tr>\n",
       "      <th>1</th>\n",
       "      <td>Radial Velocity</td>\n",
       "      <td>1</td>\n",
       "      <td>874.774000</td>\n",
       "      <td>2.21</td>\n",
       "      <td>56.95</td>\n",
       "      <td>2008</td>\n",
       "    </tr>\n",
       "    <tr>\n",
       "      <th>2</th>\n",
       "      <td>Radial Velocity</td>\n",
       "      <td>1</td>\n",
       "      <td>763.000000</td>\n",
       "      <td>2.60</td>\n",
       "      <td>19.84</td>\n",
       "      <td>2011</td>\n",
       "    </tr>\n",
       "    <tr>\n",
       "      <th>3</th>\n",
       "      <td>Radial Velocity</td>\n",
       "      <td>1</td>\n",
       "      <td>326.030000</td>\n",
       "      <td>19.40</td>\n",
       "      <td>110.62</td>\n",
       "      <td>2007</td>\n",
       "    </tr>\n",
       "    <tr>\n",
       "      <th>4</th>\n",
       "      <td>Radial Velocity</td>\n",
       "      <td>1</td>\n",
       "      <td>516.220000</td>\n",
       "      <td>10.50</td>\n",
       "      <td>119.47</td>\n",
       "      <td>2009</td>\n",
       "    </tr>\n",
       "    <tr>\n",
       "      <th>...</th>\n",
       "      <td>...</td>\n",
       "      <td>...</td>\n",
       "      <td>...</td>\n",
       "      <td>...</td>\n",
       "      <td>...</td>\n",
       "      <td>...</td>\n",
       "    </tr>\n",
       "    <tr>\n",
       "      <th>1030</th>\n",
       "      <td>Transit</td>\n",
       "      <td>1</td>\n",
       "      <td>3.941507</td>\n",
       "      <td>NaN</td>\n",
       "      <td>172.00</td>\n",
       "      <td>2006</td>\n",
       "    </tr>\n",
       "    <tr>\n",
       "      <th>1031</th>\n",
       "      <td>Transit</td>\n",
       "      <td>1</td>\n",
       "      <td>2.615864</td>\n",
       "      <td>NaN</td>\n",
       "      <td>148.00</td>\n",
       "      <td>2007</td>\n",
       "    </tr>\n",
       "    <tr>\n",
       "      <th>1032</th>\n",
       "      <td>Transit</td>\n",
       "      <td>1</td>\n",
       "      <td>3.191524</td>\n",
       "      <td>NaN</td>\n",
       "      <td>174.00</td>\n",
       "      <td>2007</td>\n",
       "    </tr>\n",
       "    <tr>\n",
       "      <th>1033</th>\n",
       "      <td>Transit</td>\n",
       "      <td>1</td>\n",
       "      <td>4.125083</td>\n",
       "      <td>NaN</td>\n",
       "      <td>293.00</td>\n",
       "      <td>2008</td>\n",
       "    </tr>\n",
       "    <tr>\n",
       "      <th>1034</th>\n",
       "      <td>Transit</td>\n",
       "      <td>1</td>\n",
       "      <td>4.187757</td>\n",
       "      <td>NaN</td>\n",
       "      <td>260.00</td>\n",
       "      <td>2008</td>\n",
       "    </tr>\n",
       "  </tbody>\n",
       "</table>\n",
       "<p>1035 rows × 6 columns</p>\n",
       "</div>"
      ],
      "text/plain": [
       "               method  number  orbital_period   mass  distance  year\n",
       "0     Radial Velocity       1      269.300000   7.10     77.40  2006\n",
       "1     Radial Velocity       1      874.774000   2.21     56.95  2008\n",
       "2     Radial Velocity       1      763.000000   2.60     19.84  2011\n",
       "3     Radial Velocity       1      326.030000  19.40    110.62  2007\n",
       "4     Radial Velocity       1      516.220000  10.50    119.47  2009\n",
       "...               ...     ...             ...    ...       ...   ...\n",
       "1030          Transit       1        3.941507    NaN    172.00  2006\n",
       "1031          Transit       1        2.615864    NaN    148.00  2007\n",
       "1032          Transit       1        3.191524    NaN    174.00  2007\n",
       "1033          Transit       1        4.125083    NaN    293.00  2008\n",
       "1034          Transit       1        4.187757    NaN    260.00  2008\n",
       "\n",
       "[1035 rows x 6 columns]"
      ]
     },
     "metadata": {},
     "output_type": "display_data"
    }
   ],
   "source": [
    "df_planets = sns.load_dataset(\"planets\")\n",
    "display(df_planets)"
   ]
  },
  {
   "cell_type": "code",
   "execution_count": 3,
   "metadata": {},
   "outputs": [
    {
     "data": {
      "text/html": [
       "<div>\n",
       "<style scoped>\n",
       "    .dataframe tbody tr th:only-of-type {\n",
       "        vertical-align: middle;\n",
       "    }\n",
       "\n",
       "    .dataframe tbody tr th {\n",
       "        vertical-align: top;\n",
       "    }\n",
       "\n",
       "    .dataframe thead th {\n",
       "        text-align: right;\n",
       "    }\n",
       "</style>\n",
       "<table border=\"1\" class=\"dataframe\">\n",
       "  <thead>\n",
       "    <tr style=\"text-align: right;\">\n",
       "      <th></th>\n",
       "      <th>number</th>\n",
       "      <th>orbital_period</th>\n",
       "      <th>mass</th>\n",
       "      <th>distance</th>\n",
       "      <th>year</th>\n",
       "    </tr>\n",
       "  </thead>\n",
       "  <tbody>\n",
       "    <tr>\n",
       "      <th>count</th>\n",
       "      <td>1035.000000</td>\n",
       "      <td>992.000000</td>\n",
       "      <td>513.000000</td>\n",
       "      <td>808.000000</td>\n",
       "      <td>1035.000000</td>\n",
       "    </tr>\n",
       "    <tr>\n",
       "      <th>mean</th>\n",
       "      <td>1.785507</td>\n",
       "      <td>2002.917596</td>\n",
       "      <td>2.638161</td>\n",
       "      <td>264.069282</td>\n",
       "      <td>2009.070531</td>\n",
       "    </tr>\n",
       "    <tr>\n",
       "      <th>std</th>\n",
       "      <td>1.240976</td>\n",
       "      <td>26014.728304</td>\n",
       "      <td>3.818617</td>\n",
       "      <td>733.116493</td>\n",
       "      <td>3.972567</td>\n",
       "    </tr>\n",
       "    <tr>\n",
       "      <th>min</th>\n",
       "      <td>1.000000</td>\n",
       "      <td>0.090706</td>\n",
       "      <td>0.003600</td>\n",
       "      <td>1.350000</td>\n",
       "      <td>1989.000000</td>\n",
       "    </tr>\n",
       "    <tr>\n",
       "      <th>25%</th>\n",
       "      <td>1.000000</td>\n",
       "      <td>5.442540</td>\n",
       "      <td>0.229000</td>\n",
       "      <td>32.560000</td>\n",
       "      <td>2007.000000</td>\n",
       "    </tr>\n",
       "    <tr>\n",
       "      <th>50%</th>\n",
       "      <td>1.000000</td>\n",
       "      <td>39.979500</td>\n",
       "      <td>1.260000</td>\n",
       "      <td>55.250000</td>\n",
       "      <td>2010.000000</td>\n",
       "    </tr>\n",
       "    <tr>\n",
       "      <th>75%</th>\n",
       "      <td>2.000000</td>\n",
       "      <td>526.005000</td>\n",
       "      <td>3.040000</td>\n",
       "      <td>178.500000</td>\n",
       "      <td>2012.000000</td>\n",
       "    </tr>\n",
       "    <tr>\n",
       "      <th>max</th>\n",
       "      <td>7.000000</td>\n",
       "      <td>730000.000000</td>\n",
       "      <td>25.000000</td>\n",
       "      <td>8500.000000</td>\n",
       "      <td>2014.000000</td>\n",
       "    </tr>\n",
       "  </tbody>\n",
       "</table>\n",
       "</div>"
      ],
      "text/plain": [
       "            number  orbital_period        mass     distance         year\n",
       "count  1035.000000      992.000000  513.000000   808.000000  1035.000000\n",
       "mean      1.785507     2002.917596    2.638161   264.069282  2009.070531\n",
       "std       1.240976    26014.728304    3.818617   733.116493     3.972567\n",
       "min       1.000000        0.090706    0.003600     1.350000  1989.000000\n",
       "25%       1.000000        5.442540    0.229000    32.560000  2007.000000\n",
       "50%       1.000000       39.979500    1.260000    55.250000  2010.000000\n",
       "75%       2.000000      526.005000    3.040000   178.500000  2012.000000\n",
       "max       7.000000   730000.000000   25.000000  8500.000000  2014.000000"
      ]
     },
     "execution_count": 3,
     "metadata": {},
     "output_type": "execute_result"
    }
   ],
   "source": [
    "df_planets.describe()"
   ]
  },
  {
   "cell_type": "code",
   "execution_count": 4,
   "metadata": {},
   "outputs": [
    {
     "name": "stdout",
     "output_type": "stream",
     "text": [
      "<class 'pandas.core.frame.DataFrame'>\n",
      "RangeIndex: 1035 entries, 0 to 1034\n",
      "Data columns (total 6 columns):\n",
      " #   Column          Non-Null Count  Dtype  \n",
      "---  ------          --------------  -----  \n",
      " 0   method          1035 non-null   object \n",
      " 1   number          1035 non-null   int64  \n",
      " 2   orbital_period  992 non-null    float64\n",
      " 3   mass            513 non-null    float64\n",
      " 4   distance        808 non-null    float64\n",
      " 5   year            1035 non-null   int64  \n",
      "dtypes: float64(3), int64(2), object(1)\n",
      "memory usage: 48.6+ KB\n"
     ]
    }
   ],
   "source": [
    "df_planets.info()"
   ]
  },
  {
   "cell_type": "markdown",
   "metadata": {},
   "source": [
    "✏️ **Answer**\n",
    "\n",
    "1] based on your initial assessment of this dataset, how should it be cleaned and processed? discuss your observations in a markdown cell and write the code to complete this task\n",
    "\n",
    "The largest things I saw was:\n",
    "\n",
    "1) Some missing values in the aspects of the objects, which means we could impute them once we learn how to. For now, I will remove the NaNs\n",
    "2) It would probably be a good idea to scale the orbital period, mass, and distance features.\n",
    "3) We could encode the method column for ease of plotting.\n",
    "\n",
    "\n",
    "2] what types of variables are there? ordinal? categorical? cardinal? add this to your discussion in the markdown cell\n",
    "\n",
    "Categorical -> method, year\n",
    "\n",
    "Discrete numerical -> number, year\n",
    "\n",
    "Continuous numerical -> orbital period, mass, and distance\n",
    "\n",
    "3] find the statistics of the different features of the data; what simple methods are in Pandas are there for this? are there variables for which this doesn't make sense? do any of them need to be encoded?\n",
    "\n",
    "I would use df.describe(). I would argue this doesn't make sense for method (these are not numbers) and year (I feel like you should blend where the telescope was pointed in addition to the date to extract more meaningful data).\n",
    "\n",
    "\n",
    "4] based on what you see so far, what is the quality of this data? basic IDA for this might include using `.describe` and `.info` \n",
    "\n",
    "The data looks alright. Mass is missing ~50% of its entries, and distance is ~80%.\n",
    "\n",
    "5] did you note any missing data? make a heat map of this dataset that shows missing values (I have given an example code for this in the past, but feel free to write your own);\n",
    "\n",
    "Yes, there was missing data (see below)."
   ]
  },
  {
   "cell_type": "code",
   "execution_count": 5,
   "metadata": {},
   "outputs": [
    {
     "data": {
      "image/png": "[encoded data removed]",
      "text/plain": [
       "<Figure size 1600x800 with 2 Axes>"
      ]
     },
     "metadata": {},
     "output_type": "display_data"
    }
   ],
   "source": [
    "plt.figure(figsize=(16,8))\n",
    "sns.heatmap(df_planets.isna().transpose(),cmap='viridis');"
   ]
  },
  {
   "cell_type": "code",
   "execution_count": 6,
   "metadata": {},
   "outputs": [
    {
     "data": {
      "text/html": [
       "<div>\n",
       "<style scoped>\n",
       "    .dataframe tbody tr th:only-of-type {\n",
       "        vertical-align: middle;\n",
       "    }\n",
       "\n",
       "    .dataframe tbody tr th {\n",
       "        vertical-align: top;\n",
       "    }\n",
       "\n",
       "    .dataframe thead th {\n",
       "        text-align: right;\n",
       "    }\n",
       "</style>\n",
       "<table border=\"1\" class=\"dataframe\">\n",
       "  <thead>\n",
       "    <tr style=\"text-align: right;\">\n",
       "      <th></th>\n",
       "      <th>number</th>\n",
       "      <th>orbital_period</th>\n",
       "      <th>mass</th>\n",
       "      <th>distance</th>\n",
       "      <th>year</th>\n",
       "    </tr>\n",
       "  </thead>\n",
       "  <tbody>\n",
       "    <tr>\n",
       "      <th>count</th>\n",
       "      <td>498.00000</td>\n",
       "      <td>4.980000e+02</td>\n",
       "      <td>4.980000e+02</td>\n",
       "      <td>4.980000e+02</td>\n",
       "      <td>498.000000</td>\n",
       "    </tr>\n",
       "    <tr>\n",
       "      <th>mean</th>\n",
       "      <td>1.73494</td>\n",
       "      <td>-2.853585e-17</td>\n",
       "      <td>1.783491e-18</td>\n",
       "      <td>-8.560756e-17</td>\n",
       "      <td>2007.377510</td>\n",
       "    </tr>\n",
       "    <tr>\n",
       "      <th>std</th>\n",
       "      <td>1.17572</td>\n",
       "      <td>1.001006e+00</td>\n",
       "      <td>1.001006e+00</td>\n",
       "      <td>1.001006e+00</td>\n",
       "      <td>4.167284</td>\n",
       "    </tr>\n",
       "    <tr>\n",
       "      <th>min</th>\n",
       "      <td>1.00000</td>\n",
       "      <td>-5.685613e-01</td>\n",
       "      <td>-6.897828e-01</td>\n",
       "      <td>-1.089561e+00</td>\n",
       "      <td>1989.000000</td>\n",
       "    </tr>\n",
       "    <tr>\n",
       "      <th>25%</th>\n",
       "      <td>1.00000</td>\n",
       "      <td>-5.433891e-01</td>\n",
       "      <td>-6.322762e-01</td>\n",
       "      <td>-5.922914e-01</td>\n",
       "      <td>2005.000000</td>\n",
       "    </tr>\n",
       "    <tr>\n",
       "      <th>50%</th>\n",
       "      <td>1.00000</td>\n",
       "      <td>-3.262207e-01</td>\n",
       "      <td>-3.480462e-01</td>\n",
       "      <td>-2.605459e-01</td>\n",
       "      <td>2009.000000</td>\n",
       "    </tr>\n",
       "    <tr>\n",
       "      <th>75%</th>\n",
       "      <td>2.00000</td>\n",
       "      <td>1.116213e-01</td>\n",
       "      <td>9.860095e-02</td>\n",
       "      <td>1.560560e-01</td>\n",
       "      <td>2011.000000</td>\n",
       "    </tr>\n",
       "    <tr>\n",
       "      <th>max</th>\n",
       "      <td>6.00000</td>\n",
       "      <td>1.124362e+01</td>\n",
       "      <td>6.191308e+00</td>\n",
       "      <td>6.486289e+00</td>\n",
       "      <td>2014.000000</td>\n",
       "    </tr>\n",
       "  </tbody>\n",
       "</table>\n",
       "</div>"
      ],
      "text/plain": [
       "          number  orbital_period          mass      distance         year\n",
       "count  498.00000    4.980000e+02  4.980000e+02  4.980000e+02   498.000000\n",
       "mean     1.73494   -2.853585e-17  1.783491e-18 -8.560756e-17  2007.377510\n",
       "std      1.17572    1.001006e+00  1.001006e+00  1.001006e+00     4.167284\n",
       "min      1.00000   -5.685613e-01 -6.897828e-01 -1.089561e+00  1989.000000\n",
       "25%      1.00000   -5.433891e-01 -6.322762e-01 -5.922914e-01  2005.000000\n",
       "50%      1.00000   -3.262207e-01 -3.480462e-01 -2.605459e-01  2009.000000\n",
       "75%      2.00000    1.116213e-01  9.860095e-02  1.560560e-01  2011.000000\n",
       "max      6.00000    1.124362e+01  6.191308e+00  6.486289e+00  2014.000000"
      ]
     },
     "execution_count": 6,
     "metadata": {},
     "output_type": "execute_result"
    }
   ],
   "source": [
    "from sklearn.preprocessing import StandardScaler\n",
    "\n",
    "cleaned_planets = df_planets.dropna()\n",
    "\n",
    "scaler = StandardScaler()\n",
    "df_planets_scaled = cleaned_planets.copy()\n",
    "df_planets_scaled[['mass', 'distance','orbital_period']] = scaler.fit_transform(df_planets_scaled[['mass', 'distance','orbital_period']])\n",
    "df_planets_scaled.describe()"
   ]
  },
  {
   "cell_type": "code",
   "execution_count": 7,
   "metadata": {},
   "outputs": [
    {
     "data": {
      "text/html": [
       "<div>\n",
       "<style scoped>\n",
       "    .dataframe tbody tr th:only-of-type {\n",
       "        vertical-align: middle;\n",
       "    }\n",
       "\n",
       "    .dataframe tbody tr th {\n",
       "        vertical-align: top;\n",
       "    }\n",
       "\n",
       "    .dataframe thead th {\n",
       "        text-align: right;\n",
       "    }\n",
       "</style>\n",
       "<table border=\"1\" class=\"dataframe\">\n",
       "  <thead>\n",
       "    <tr style=\"text-align: right;\">\n",
       "      <th></th>\n",
       "      <th>method</th>\n",
       "      <th>number</th>\n",
       "      <th>orbital_period</th>\n",
       "      <th>mass</th>\n",
       "      <th>distance</th>\n",
       "      <th>year</th>\n",
       "    </tr>\n",
       "  </thead>\n",
       "  <tbody>\n",
       "    <tr>\n",
       "      <th>0</th>\n",
       "      <td>Radial Velocity</td>\n",
       "      <td>1</td>\n",
       "      <td>-0.385976</td>\n",
       "      <td>1.263737</td>\n",
       "      <td>0.544193</td>\n",
       "      <td>2006</td>\n",
       "    </tr>\n",
       "    <tr>\n",
       "      <th>1</th>\n",
       "      <td>Radial Velocity</td>\n",
       "      <td>1</td>\n",
       "      <td>0.026570</td>\n",
       "      <td>-0.082398</td>\n",
       "      <td>0.104874</td>\n",
       "      <td>2008</td>\n",
       "    </tr>\n",
       "    <tr>\n",
       "      <th>2</th>\n",
       "      <td>Radial Velocity</td>\n",
       "      <td>1</td>\n",
       "      <td>-0.049588</td>\n",
       "      <td>0.024963</td>\n",
       "      <td>-0.692347</td>\n",
       "      <td>2011</td>\n",
       "    </tr>\n",
       "    <tr>\n",
       "      <th>3</th>\n",
       "      <td>Radial Velocity</td>\n",
       "      <td>1</td>\n",
       "      <td>-0.347322</td>\n",
       "      <td>4.649722</td>\n",
       "      <td>1.257846</td>\n",
       "      <td>2007</td>\n",
       "    </tr>\n",
       "    <tr>\n",
       "      <th>4</th>\n",
       "      <td>Radial Velocity</td>\n",
       "      <td>1</td>\n",
       "      <td>-0.217735</td>\n",
       "      <td>2.199701</td>\n",
       "      <td>1.447968</td>\n",
       "      <td>2009</td>\n",
       "    </tr>\n",
       "    <tr>\n",
       "      <th>...</th>\n",
       "      <td>...</td>\n",
       "      <td>...</td>\n",
       "      <td>...</td>\n",
       "      <td>...</td>\n",
       "      <td>...</td>\n",
       "      <td>...</td>\n",
       "    </tr>\n",
       "    <tr>\n",
       "      <th>640</th>\n",
       "      <td>Radial Velocity</td>\n",
       "      <td>1</td>\n",
       "      <td>-0.493358</td>\n",
       "      <td>-0.112679</td>\n",
       "      <td>-0.798471</td>\n",
       "      <td>2009</td>\n",
       "    </tr>\n",
       "    <tr>\n",
       "      <th>641</th>\n",
       "      <td>Radial Velocity</td>\n",
       "      <td>1</td>\n",
       "      <td>-0.566025</td>\n",
       "      <td>-0.396771</td>\n",
       "      <td>-0.163444</td>\n",
       "      <td>2013</td>\n",
       "    </tr>\n",
       "    <tr>\n",
       "      <th>642</th>\n",
       "      <td>Radial Velocity</td>\n",
       "      <td>1</td>\n",
       "      <td>-0.357367</td>\n",
       "      <td>-0.156724</td>\n",
       "      <td>-0.748202</td>\n",
       "      <td>1999</td>\n",
       "    </tr>\n",
       "    <tr>\n",
       "      <th>649</th>\n",
       "      <td>Transit</td>\n",
       "      <td>1</td>\n",
       "      <td>-0.567624</td>\n",
       "      <td>-0.286107</td>\n",
       "      <td>2.705346</td>\n",
       "      <td>2013</td>\n",
       "    </tr>\n",
       "    <tr>\n",
       "      <th>784</th>\n",
       "      <td>Radial Velocity</td>\n",
       "      <td>3</td>\n",
       "      <td>-0.174277</td>\n",
       "      <td>-0.430081</td>\n",
       "      <td>1.781593</td>\n",
       "      <td>2012</td>\n",
       "    </tr>\n",
       "  </tbody>\n",
       "</table>\n",
       "<p>498 rows × 6 columns</p>\n",
       "</div>"
      ],
      "text/plain": [
       "              method  number  orbital_period      mass  distance  year\n",
       "0    Radial Velocity       1       -0.385976  1.263737  0.544193  2006\n",
       "1    Radial Velocity       1        0.026570 -0.082398  0.104874  2008\n",
       "2    Radial Velocity       1       -0.049588  0.024963 -0.692347  2011\n",
       "3    Radial Velocity       1       -0.347322  4.649722  1.257846  2007\n",
       "4    Radial Velocity       1       -0.217735  2.199701  1.447968  2009\n",
       "..               ...     ...             ...       ...       ...   ...\n",
       "640  Radial Velocity       1       -0.493358 -0.112679 -0.798471  2009\n",
       "641  Radial Velocity       1       -0.566025 -0.396771 -0.163444  2013\n",
       "642  Radial Velocity       1       -0.357367 -0.156724 -0.748202  1999\n",
       "649          Transit       1       -0.567624 -0.286107  2.705346  2013\n",
       "784  Radial Velocity       3       -0.174277 -0.430081  1.781593  2012\n",
       "\n",
       "[498 rows x 6 columns]"
      ]
     },
     "metadata": {},
     "output_type": "display_data"
    }
   ],
   "source": [
    "display(df_planets_scaled)"
   ]
  },
  {
   "cell_type": "code",
   "execution_count": 8,
   "metadata": {},
   "outputs": [
    {
     "data": {
      "image/png": "[encoded data removed]",
      "text/plain": [
       "<Figure size 1600x800 with 2 Axes>"
      ]
     },
     "metadata": {},
     "output_type": "display_data"
    }
   ],
   "source": [
    "plt.figure(figsize=(16,8))\n",
    "sns.heatmap(df_planets_scaled.isna().transpose(),cmap='viridis');"
   ]
  },
  {
   "cell_type": "code",
   "execution_count": 9,
   "metadata": {},
   "outputs": [
    {
     "name": "stdout",
     "output_type": "stream",
     "text": [
      "\n",
      "--- mass (14 outliers) ---\n",
      "         mass\n",
      "3    4.649722\n",
      "63   4.980062\n",
      "161  3.493532\n",
      "227  3.218249\n",
      "245  3.163192\n",
      "\n",
      "--- distance (8 outliers) ---\n",
      "     distance\n",
      "161  3.478721\n",
      "181  6.486289\n",
      "245  5.332672\n",
      "396  3.634255\n",
      "587  6.445687\n",
      "\n",
      "--- orbital_period (6 outliers) ---\n",
      "     orbital_period\n",
      "15         8.970939\n",
      "120        4.268191\n",
      "166        3.235249\n",
      "199        3.522102\n",
      "607        3.178696\n"
     ]
    }
   ],
   "source": [
    "'''\n",
    "this bit below was written with assistance from chatGPT 5.0 on 20.09.2025. I am\n",
    "still getting used to masks. I know it is just a boolean array that can be used\n",
    "to index a df but I still muck up the implementation sometimes.\n",
    "'''\n",
    "\n",
    "for col in ['mass', 'distance','orbital_period']:\n",
    "    mask_outliers = (df_planets_scaled[col] < -3) | (df_planets_scaled[col] > 3)\n",
    "    outliers = df_planets_scaled.loc[mask_outliers, [col]]\n",
    "    print(f\"\\n--- {col} ({mask_outliers.sum()} outliers) ---\")\n",
    "    print(outliers.head())  # just show first few rows"
   ]
  },
  {
   "cell_type": "markdown",
   "metadata": {},
   "source": [
    "| Phase | Step | Key Activities |\n",
    "|-------|------|----------------|\n",
    "| IDA | 1. Data collection and importation | - Gather data from various sources<br>- Import data into analysis environment (e.g., Python, R) |\n",
    "| IDA | 2. Data cleaning and preprocessing | - Handle missing values<br>- Remove duplicates<br>- Correct data types<br>- Standardize formats |\n",
    "| IDA | 3. Variable identification and classification | - Identify dependent and independent variables<br>- Classify variables (numeric, categorical, etc.)<br>- Understand the meaning of each variable |\n",
    "| IDA | 4. Basic descriptive statistics | - Calculate mean, median, mode<br>- Determine range, variance, standard deviation<br>- Identify minimum and maximum values |\n",
    "| IDA | 5. Data quality assessment | - Check for inconsistencies<br>- Verify data accuracy<br>- Assess data completeness |\n",
    "| IDA | 6. Missing data analysis | - Quantify missing data<br>- Identify patterns in missing data<br>- Decide on imputation strategy if necessary |\n",
    "| IDA | 7. Outlier detection | - Identify potential outliers<br>- Assess impact of outliers<br>- Decide on treatment of outliers |\n",
    "| EDA | 1. Univariate analysis | - Create histograms, box plots for numeric variables<br>- Generate bar charts for categorical variables<br>- Calculate summary statistics |\n",
    "| EDA | 2. Bivariate analysis | - Create scatter plots<br>- Perform cross-tabulations<br>- Calculate correlations between pairs of variables |\n",
    "| EDA | 3. Multivariate analysis | - Use dimensionality reduction techniques (e.g., PCA)<br>- Create pair plots or correlation matrices<br>- Explore interactions between multiple variables |\n",
    "| EDA | 4. Correlation analysis | - Calculate correlation coefficients<br>- Create correlation heatmaps<br>- Identify strongly correlated variables |\n",
    "| EDA | 5. Dimensionality assessment | - Evaluate number of features vs. observations<br>- Consider feature selection or extraction methods<br>- Assess impact of high dimensionality on analysis |\n",
    "| EDA | 6. Pattern and trend identification | - Look for temporal trends in time series data<br>- Identify seasonal patterns<br>- Detect clusters or groupings in the data |\n",
    "| EDA | 7. Hypothesis generation | - Formulate potential relationships between variables<br>- Develop questions for further investigation<br>- Identify areas for more detailed statistical analysis |\n",
    "\n",
    "Note: The boundary between IDA and EDA can be fluid, and some activities may overlap or be performed iteratively throughout the analysis process."
   ]
  },
  {
   "cell_type": "markdown",
   "metadata": {},
   "source": [
    "____\n",
    "\n",
    "## <font color=#00BBFF> Problem #2 - Exploratory Data Analysis (10 pts) </font>\n",
    "\n",
    "In this problem you are going to explore EDA: Exploratory Data Analysis, which - _like IDA_ - is can be defined many ways, but we will assume it contains these steps:\n",
    "* Univariate analysis\n",
    "* Bivariate analysis\n",
    "* Multivariate analysis\n",
    "* Correlation analysis\n",
    "* Dimensionality assessment\n",
    "* Pattern and trend identification\n",
    "* Hypothesis generation\n",
    "\n",
    "Note that IDA did not involve much in the way of visualization; EDA relies heavily on visualization. An important aspect of EDA is that is, as in the name, exploratory. The goals of EDA might be:\n",
    "* you have a unique dataset and you want to explore whether it contains anything that would be useful or surprising.\n",
    "* you have a very specific goal in mind already and you want to explore whether this dataset can help you achieve your goal. \n",
    "\n",
    "Because this is EDA, with an emphasis on the E, I want you to explore this dataset with little guidance. Use your curiosity, intuition and creativity. \n",
    "\n",
    "🤓 Follow these steps:\n",
    "* only use the Plotly library for this problem, with as many plot types as you can; interactive plots are preferred\n",
    "* make about one plot per category above - if you are not familiar with a concept, skip that item (e.g., you don't know what PCA is, you have no idea how to do clustering, there are temporal trends, or whatever); shoot for about 5 plots\n",
    "* but, complete 7: the EDA must lead to something to do next!! use a markdown cell for this\n",
    " "
   ]
  },
  {
   "cell_type": "code",
   "execution_count": 10,
   "metadata": {},
   "outputs": [
    {
     "data": {
      "application/vnd.plotly.v1+json": {
       "config": {
        "plotlyServerURL": "https://plot.ly"
       },
       "data": [
        {
         "bingroup": "x",
         "hovertemplate": "method=%{x}<br>count=%{y}<extra></extra>",
         "legendgroup": "",
         "marker": {
          "color": "#636efa",
          "pattern": {
           "shape": ""
          }
         },
         "name": "",
         "orientation": "v",
         "showlegend": false,
         "type": "histogram",
         "x": [
          "Radial Velocity",
          "Radial Velocity",
          "Radial Velocity",
          "Radial Velocity",
          "Radial Velocity",
          "Radial Velocity",
          "Radial Velocity",
          "Radial Velocity",
          "Radial Velocity",
          "Radial Velocity",
          "Radial Velocity",
          "Radial Velocity",
          "Radial Velocity",
          "Radial Velocity",
          "Radial Velocity",
          "Radial Velocity",
          "Radial Velocity",
          "Radial Velocity",
          "Radial Velocity",
          "Radial Velocity",
          "Radial Velocity",
          "Radial Velocity",
          "Radial Velocity",
          "Radial Velocity",
          "Radial Velocity",
          "Radial Velocity",
          "Radial Velocity",
          "Radial Velocity",
          "Radial Velocity",
          "Radial Velocity",
          "Radial Velocity",
          "Radial Velocity",
          "Radial Velocity",
          "Radial Velocity",
          "Radial Velocity",
          "Radial Velocity",
          "Radial Velocity",
          "Radial Velocity",
          "Radial Velocity",
          "Radial Velocity",
          "Radial Velocity",
          "Radial Velocity",
          "Radial Velocity",
          "Radial Velocity",
          "Radial Velocity",
          "Radial Velocity",
          "Radial Velocity",
          "Radial Velocity",
          "Radial Velocity",
          "Radial Velocity",
          "Radial Velocity",
          "Radial Velocity",
          "Radial Velocity",
          "Radial Velocity",
          "Radial Velocity",
          "Radial Velocity",
          "Radial Velocity",
          "Radial Velocity",
          "Radial Velocity",
          "Radial Velocity",
          "Radial Velocity",
          "Radial Velocity",
          "Radial Velocity",
          "Radial Velocity",
          "Radial Velocity",
          "Radial Velocity",
          "Radial Velocity",
          "Radial Velocity",
          "Radial Velocity",
          "Radial Velocity",
          "Radial Velocity",
          "Radial Velocity",
          "Radial Velocity",
          "Radial Velocity",
          "Radial Velocity",
          "Radial Velocity",
          "Radial Velocity",
          "Radial Velocity",
          "Radial Velocity",
          "Radial Velocity",
          "Radial Velocity",
          "Radial Velocity",
          "Radial Velocity",
          "Radial Velocity",
          "Radial Velocity",
          "Radial Velocity",
          "Radial Velocity",
          "Radial Velocity",
          "Radial Velocity",
          "Radial Velocity",
          "Radial Velocity",
          "Radial Velocity",
          "Radial Velocity",
          "Radial Velocity",
          "Radial Velocity",
          "Radial Velocity",
          "Radial Velocity",
          "Radial Velocity",
          "Radial Velocity",
          "Radial Velocity",
          "Radial Velocity",
          "Radial Velocity",
          "Radial Velocity",
          "Radial Velocity",
          "Radial Velocity",
          "Radial Velocity",
          "Radial Velocity",
          "Radial Velocity",
          "Radial Velocity",
          "Radial Velocity",
          "Radial Velocity",
          "Radial Velocity",
          "Radial Velocity",
          "Radial Velocity",
          "Radial Velocity",
          "Radial Velocity",
          "Radial Velocity",
          "Radial Velocity",
          "Radial Velocity",
          "Radial Velocity",
          "Radial Velocity",
          "Radial Velocity",
          "Radial Velocity",
          "Radial Velocity",
          "Radial Velocity",
          "Radial Velocity",
          "Radial Velocity",
          "Radial Velocity",
          "Radial Velocity",
          "Radial Velocity",
          "Radial Velocity",
          "Radial Velocity",
          "Radial Velocity",
          "Radial Velocity",
          "Radial Velocity",
          "Radial Velocity",
          "Radial Velocity",
          "Radial Velocity",
          "Radial Velocity",
          "Radial Velocity",
          "Radial Velocity",
          "Radial Velocity",
          "Radial Velocity",
          "Radial Velocity",
          "Radial Velocity",
          "Radial Velocity",
          "Radial Velocity",
          "Radial Velocity",
          "Radial Velocity",
          "Radial Velocity",
          "Radial Velocity",
          "Radial Velocity",
          "Radial Velocity",
          "Radial Velocity",
          "Radial Velocity",
          "Radial Velocity",
          "Radial Velocity",
          "Radial Velocity",
          "Radial Velocity",
          "Radial Velocity",
          "Radial Velocity",
          "Radial Velocity",
          "Radial Velocity",
          "Radial Velocity",
          "Radial Velocity",
          "Radial Velocity",
          "Radial Velocity",
          "Radial Velocity",
          "Radial Velocity",
          "Radial Velocity",
          "Radial Velocity",
          "Radial Velocity",
          "Radial Velocity",
          "Radial Velocity",
          "Radial Velocity",
          "Radial Velocity",
          "Radial Velocity",
          "Radial Velocity",
          "Radial Velocity",
          "Radial Velocity",
          "Radial Velocity",
          "Radial Velocity",
          "Radial Velocity",
          "Radial Velocity",
          "Radial Velocity",
          "Radial Velocity",
          "Radial Velocity",
          "Radial Velocity",
          "Radial Velocity",
          "Radial Velocity",
          "Radial Velocity",
          "Radial Velocity",
          "Radial Velocity",
          "Radial Velocity",
          "Radial Velocity",
          "Radial Velocity",
          "Radial Velocity",
          "Radial Velocity",
          "Radial Velocity",
          "Radial Velocity",
          "Radial Velocity",
          "Radial Velocity",
          "Radial Velocity",
          "Radial Velocity",
          "Radial Velocity",
          "Radial Velocity",
          "Radial Velocity",
          "Radial Velocity",
          "Radial Velocity",
          "Radial Velocity",
          "Radial Velocity",
          "Radial Velocity",
          "Radial Velocity",
          "Radial Velocity",
          "Radial Velocity",
          "Radial Velocity",
          "Radial Velocity",
          "Radial Velocity",
          "Radial Velocity",
          "Radial Velocity",
          "Radial Velocity",
          "Radial Velocity",
          "Radial Velocity",
          "Radial Velocity",
          "Radial Velocity",
          "Radial Velocity",
          "Radial Velocity",
          "Radial Velocity",
          "Radial Velocity",
          "Radial Velocity",
          "Radial Velocity",
          "Radial Velocity",
          "Radial Velocity",
          "Radial Velocity",
          "Radial Velocity",
          "Radial Velocity",
          "Radial Velocity",
          "Radial Velocity",
          "Radial Velocity",
          "Radial Velocity",
          "Radial Velocity",
          "Radial Velocity",
          "Radial Velocity",
          "Radial Velocity",
          "Radial Velocity",
          "Radial Velocity",
          "Radial Velocity",
          "Radial Velocity",
          "Radial Velocity",
          "Radial Velocity",
          "Radial Velocity",
          "Radial Velocity",
          "Radial Velocity",
          "Radial Velocity",
          "Radial Velocity",
          "Radial Velocity",
          "Radial Velocity",
          "Radial Velocity",
          "Radial Velocity",
          "Radial Velocity",
          "Radial Velocity",
          "Radial Velocity",
          "Radial Velocity",
          "Radial Velocity",
          "Radial Velocity",
          "Radial Velocity",
          "Radial Velocity",
          "Radial Velocity",
          "Radial Velocity",
          "Radial Velocity",
          "Radial Velocity",
          "Radial Velocity",
          "Radial Velocity",
          "Radial Velocity",
          "Radial Velocity",
          "Radial Velocity",
          "Radial Velocity",
          "Radial Velocity",
          "Radial Velocity",
          "Radial Velocity",
          "Radial Velocity",
          "Radial Velocity",
          "Radial Velocity",
          "Radial Velocity",
          "Radial Velocity",
          "Radial Velocity",
          "Radial Velocity",
          "Radial Velocity",
          "Radial Velocity",
          "Radial Velocity",
          "Radial Velocity",
          "Radial Velocity",
          "Radial Velocity",
          "Radial Velocity",
          "Radial Velocity",
          "Radial Velocity",
          "Radial Velocity",
          "Radial Velocity",
          "Radial Velocity",
          "Radial Velocity",
          "Radial Velocity",
          "Radial Velocity",
          "Radial Velocity",
          "Radial Velocity",
          "Radial Velocity",
          "Radial Velocity",
          "Radial Velocity",
          "Radial Velocity",
          "Radial Velocity",
          "Radial Velocity",
          "Radial Velocity",
          "Radial Velocity",
          "Radial Velocity",
          "Radial Velocity",
          "Radial Velocity",
          "Radial Velocity",
          "Radial Velocity",
          "Radial Velocity",
          "Radial Velocity",
          "Radial Velocity",
          "Radial Velocity",
          "Radial Velocity",
          "Radial Velocity",
          "Radial Velocity",
          "Radial Velocity",
          "Radial Velocity",
          "Radial Velocity",
          "Radial Velocity",
          "Radial Velocity",
          "Radial Velocity",
          "Radial Velocity",
          "Radial Velocity",
          "Radial Velocity",
          "Radial Velocity",
          "Radial Velocity",
          "Radial Velocity",
          "Radial Velocity",
          "Radial Velocity",
          "Radial Velocity",
          "Radial Velocity",
          "Radial Velocity",
          "Radial Velocity",
          "Radial Velocity",
          "Radial Velocity",
          "Radial Velocity",
          "Radial Velocity",
          "Radial Velocity",
          "Radial Velocity",
          "Radial Velocity",
          "Radial Velocity",
          "Radial Velocity",
          "Radial Velocity",
          "Radial Velocity",
          "Radial Velocity",
          "Radial Velocity",
          "Radial Velocity",
          "Radial Velocity",
          "Radial Velocity",
          "Radial Velocity",
          "Radial Velocity",
          "Radial Velocity",
          "Radial Velocity",
          "Radial Velocity",
          "Radial Velocity",
          "Radial Velocity",
          "Radial Velocity",
          "Radial Velocity",
          "Radial Velocity",
          "Radial Velocity",
          "Radial Velocity",
          "Radial Velocity",
          "Radial Velocity",
          "Radial Velocity",
          "Radial Velocity",
          "Radial Velocity",
          "Radial Velocity",
          "Radial Velocity",
          "Radial Velocity",
          "Radial Velocity",
          "Radial Velocity",
          "Radial Velocity",
          "Radial Velocity",
          "Radial Velocity",
          "Radial Velocity",
          "Radial Velocity",
          "Radial Velocity",
          "Radial Velocity",
          "Radial Velocity",
          "Radial Velocity",
          "Radial Velocity",
          "Radial Velocity",
          "Radial Velocity",
          "Radial Velocity",
          "Radial Velocity",
          "Radial Velocity",
          "Radial Velocity",
          "Radial Velocity",
          "Radial Velocity",
          "Radial Velocity",
          "Radial Velocity",
          "Radial Velocity",
          "Radial Velocity",
          "Radial Velocity",
          "Radial Velocity",
          "Radial Velocity",
          "Radial Velocity",
          "Radial Velocity",
          "Radial Velocity",
          "Radial Velocity",
          "Radial Velocity",
          "Radial Velocity",
          "Radial Velocity",
          "Radial Velocity",
          "Radial Velocity",
          "Radial Velocity",
          "Radial Velocity",
          "Radial Velocity",
          "Radial Velocity",
          "Radial Velocity",
          "Radial Velocity",
          "Radial Velocity",
          "Radial Velocity",
          "Radial Velocity",
          "Radial Velocity",
          "Radial Velocity",
          "Radial Velocity",
          "Radial Velocity",
          "Radial Velocity",
          "Radial Velocity",
          "Radial Velocity",
          "Radial Velocity",
          "Radial Velocity",
          "Radial Velocity",
          "Radial Velocity",
          "Radial Velocity",
          "Radial Velocity",
          "Radial Velocity",
          "Radial Velocity",
          "Radial Velocity",
          "Radial Velocity",
          "Radial Velocity",
          "Radial Velocity",
          "Radial Velocity",
          "Radial Velocity",
          "Radial Velocity",
          "Radial Velocity",
          "Radial Velocity",
          "Radial Velocity",
          "Radial Velocity",
          "Radial Velocity",
          "Radial Velocity",
          "Radial Velocity",
          "Radial Velocity",
          "Radial Velocity",
          "Radial Velocity",
          "Radial Velocity",
          "Radial Velocity",
          "Radial Velocity",
          "Radial Velocity",
          "Radial Velocity",
          "Radial Velocity",
          "Radial Velocity",
          "Radial Velocity",
          "Radial Velocity",
          "Radial Velocity",
          "Radial Velocity",
          "Radial Velocity",
          "Radial Velocity",
          "Radial Velocity",
          "Radial Velocity",
          "Radial Velocity",
          "Radial Velocity",
          "Radial Velocity",
          "Radial Velocity",
          "Radial Velocity",
          "Radial Velocity",
          "Radial Velocity",
          "Radial Velocity",
          "Radial Velocity",
          "Radial Velocity",
          "Radial Velocity",
          "Radial Velocity",
          "Radial Velocity",
          "Radial Velocity",
          "Radial Velocity",
          "Radial Velocity",
          "Radial Velocity",
          "Radial Velocity",
          "Radial Velocity",
          "Radial Velocity",
          "Radial Velocity",
          "Radial Velocity",
          "Radial Velocity",
          "Radial Velocity",
          "Radial Velocity",
          "Radial Velocity",
          "Transit",
          "Radial Velocity"
         ],
         "xaxis": "x",
         "yaxis": "y"
        }
       ],
       "layout": {
        "barmode": "relative",
        "legend": {
         "tracegroupgap": 0
        },
        "template": {
         "data": {
          "bar": [
           {
            "error_x": {
             "color": "#2a3f5f"
            },
            "error_y": {
             "color": "#2a3f5f"
            },
            "marker": {
             "line": {
              "color": "#E5ECF6",
              "width": 0.5
             },
             "pattern": {
              "fillmode": "overlay",
              "size": 10,
              "solidity": 0.2
             }
            },
            "type": "bar"
           }
          ],
          "barpolar": [
           {
            "marker": {
             "line": {
              "color": "#E5ECF6",
              "width": 0.5
             },
             "pattern": {
              "fillmode": "overlay",
              "size": 10,
              "solidity": 0.2
             }
            },
            "type": "barpolar"
           }
          ],
          "carpet": [
           {
            "aaxis": {
             "endlinecolor": "#2a3f5f",
             "gridcolor": "white",
             "linecolor": "white",
             "minorgridcolor": "white",
             "startlinecolor": "#2a3f5f"
            },
            "baxis": {
             "endlinecolor": "#2a3f5f",
             "gridcolor": "white",
             "linecolor": "white",
             "minorgridcolor": "white",
             "startlinecolor": "#2a3f5f"
            },
            "type": "carpet"
           }
          ],
          "choropleth": [
           {
            "colorbar": {
             "outlinewidth": 0,
             "ticks": ""
            },
            "type": "choropleth"
           }
          ],
          "contour": [
           {
            "colorbar": {
             "outlinewidth": 0,
             "ticks": ""
            },
            "colorscale": [
             [
              0,
              "#0d0887"
             ],
             [
              0.1111111111111111,
              "#46039f"
             ],
             [
              0.2222222222222222,
              "#7201a8"
             ],
             [
              0.3333333333333333,
              "#9c179e"
             ],
             [
              0.4444444444444444,
              "#bd3786"
             ],
             [
              0.5555555555555556,
              "#d8576b"
             ],
             [
              0.6666666666666666,
              "#ed7953"
             ],
             [
              0.7777777777777778,
              "#fb9f3a"
             ],
             [
              0.8888888888888888,
              "#fdca26"
             ],
             [
              1,
              "#f0f921"
             ]
            ],
            "type": "contour"
           }
          ],
          "contourcarpet": [
           {
            "colorbar": {
             "outlinewidth": 0,
             "ticks": ""
            },
            "type": "contourcarpet"
           }
          ],
          "heatmap": [
           {
            "colorbar": {
             "outlinewidth": 0,
             "ticks": ""
            },
            "colorscale": [
             [
              0,
              "#0d0887"
             ],
             [
              0.1111111111111111,
              "#46039f"
             ],
             [
              0.2222222222222222,
              "#7201a8"
             ],
             [
              0.3333333333333333,
              "#9c179e"
             ],
             [
              0.4444444444444444,
              "#bd3786"
             ],
             [
              0.5555555555555556,
              "#d8576b"
             ],
             [
              0.6666666666666666,
              "#ed7953"
             ],
             [
              0.7777777777777778,
              "#fb9f3a"
             ],
             [
              0.8888888888888888,
              "#fdca26"
             ],
             [
              1,
              "#f0f921"
             ]
            ],
            "type": "heatmap"
           }
          ],
          "histogram": [
           {
            "marker": {
             "pattern": {
              "fillmode": "overlay",
              "size": 10,
              "solidity": 0.2
             }
            },
            "type": "histogram"
           }
          ],
          "histogram2d": [
           {
            "colorbar": {
             "outlinewidth": 0,
             "ticks": ""
            },
            "colorscale": [
             [
              0,
              "#0d0887"
             ],
             [
              0.1111111111111111,
              "#46039f"
             ],
             [
              0.2222222222222222,
              "#7201a8"
             ],
             [
              0.3333333333333333,
              "#9c179e"
             ],
             [
              0.4444444444444444,
              "#bd3786"
             ],
             [
              0.5555555555555556,
              "#d8576b"
             ],
             [
              0.6666666666666666,
              "#ed7953"
             ],
             [
              0.7777777777777778,
              "#fb9f3a"
             ],
             [
              0.8888888888888888,
              "#fdca26"
             ],
             [
              1,
              "#f0f921"
             ]
            ],
            "type": "histogram2d"
           }
          ],
          "histogram2dcontour": [
           {
            "colorbar": {
             "outlinewidth": 0,
             "ticks": ""
            },
            "colorscale": [
             [
              0,
              "#0d0887"
             ],
             [
              0.1111111111111111,
              "#46039f"
             ],
             [
              0.2222222222222222,
              "#7201a8"
             ],
             [
              0.3333333333333333,
              "#9c179e"
             ],
             [
              0.4444444444444444,
              "#bd3786"
             ],
             [
              0.5555555555555556,
              "#d8576b"
             ],
             [
              0.6666666666666666,
              "#ed7953"
             ],
             [
              0.7777777777777778,
              "#fb9f3a"
             ],
             [
              0.8888888888888888,
              "#fdca26"
             ],
             [
              1,
              "#f0f921"
             ]
            ],
            "type": "histogram2dcontour"
           }
          ],
          "mesh3d": [
           {
            "colorbar": {
             "outlinewidth": 0,
             "ticks": ""
            },
            "type": "mesh3d"
           }
          ],
          "parcoords": [
           {
            "line": {
             "colorbar": {
              "outlinewidth": 0,
              "ticks": ""
             }
            },
            "type": "parcoords"
           }
          ],
          "pie": [
           {
            "automargin": true,
            "type": "pie"
           }
          ],
          "scatter": [
           {
            "fillpattern": {
             "fillmode": "overlay",
             "size": 10,
             "solidity": 0.2
            },
            "type": "scatter"
           }
          ],
          "scatter3d": [
           {
            "line": {
             "colorbar": {
              "outlinewidth": 0,
              "ticks": ""
             }
            },
            "marker": {
             "colorbar": {
              "outlinewidth": 0,
              "ticks": ""
             }
            },
            "type": "scatter3d"
           }
          ],
          "scattercarpet": [
           {
            "marker": {
             "colorbar": {
              "outlinewidth": 0,
              "ticks": ""
             }
            },
            "type": "scattercarpet"
           }
          ],
          "scattergeo": [
           {
            "marker": {
             "colorbar": {
              "outlinewidth": 0,
              "ticks": ""
             }
            },
            "type": "scattergeo"
           }
          ],
          "scattergl": [
           {
            "marker": {
             "colorbar": {
              "outlinewidth": 0,
              "ticks": ""
             }
            },
            "type": "scattergl"
           }
          ],
          "scattermap": [
           {
            "marker": {
             "colorbar": {
              "outlinewidth": 0,
              "ticks": ""
             }
            },
            "type": "scattermap"
           }
          ],
          "scattermapbox": [
           {
            "marker": {
             "colorbar": {
              "outlinewidth": 0,
              "ticks": ""
             }
            },
            "type": "scattermapbox"
           }
          ],
          "scatterpolar": [
           {
            "marker": {
             "colorbar": {
              "outlinewidth": 0,
              "ticks": ""
             }
            },
            "type": "scatterpolar"
           }
          ],
          "scatterpolargl": [
           {
            "marker": {
             "colorbar": {
              "outlinewidth": 0,
              "ticks": ""
             }
            },
            "type": "scatterpolargl"
           }
          ],
          "scatterternary": [
           {
            "marker": {
             "colorbar": {
              "outlinewidth": 0,
              "ticks": ""
             }
            },
            "type": "scatterternary"
           }
          ],
          "surface": [
           {
            "colorbar": {
             "outlinewidth": 0,
             "ticks": ""
            },
            "colorscale": [
             [
              0,
              "#0d0887"
             ],
             [
              0.1111111111111111,
              "#46039f"
             ],
             [
              0.2222222222222222,
              "#7201a8"
             ],
             [
              0.3333333333333333,
              "#9c179e"
             ],
             [
              0.4444444444444444,
              "#bd3786"
             ],
             [
              0.5555555555555556,
              "#d8576b"
             ],
             [
              0.6666666666666666,
              "#ed7953"
             ],
             [
              0.7777777777777778,
              "#fb9f3a"
             ],
             [
              0.8888888888888888,
              "#fdca26"
             ],
             [
              1,
              "#f0f921"
             ]
            ],
            "type": "surface"
           }
          ],
          "table": [
           {
            "cells": {
             "fill": {
              "color": "#EBF0F8"
             },
             "line": {
              "color": "white"
             }
            },
            "header": {
             "fill": {
              "color": "#C8D4E3"
             },
             "line": {
              "color": "white"
             }
            },
            "type": "table"
           }
          ]
         },
         "layout": {
          "annotationdefaults": {
           "arrowcolor": "#2a3f5f",
           "arrowhead": 0,
           "arrowwidth": 1
          },
          "autotypenumbers": "strict",
          "coloraxis": {
           "colorbar": {
            "outlinewidth": 0,
            "ticks": ""
           }
          },
          "colorscale": {
           "diverging": [
            [
             0,
             "#8e0152"
            ],
            [
             0.1,
             "#c51b7d"
            ],
            [
             0.2,
             "#de77ae"
            ],
            [
             0.3,
             "#f1b6da"
            ],
            [
             0.4,
             "#fde0ef"
            ],
            [
             0.5,
             "#f7f7f7"
            ],
            [
             0.6,
             "#e6f5d0"
            ],
            [
             0.7,
             "#b8e186"
            ],
            [
             0.8,
             "#7fbc41"
            ],
            [
             0.9,
             "#4d9221"
            ],
            [
             1,
             "#276419"
            ]
           ],
           "sequential": [
            [
             0,
             "#0d0887"
            ],
            [
             0.1111111111111111,
             "#46039f"
            ],
            [
             0.2222222222222222,
             "#7201a8"
            ],
            [
             0.3333333333333333,
             "#9c179e"
            ],
            [
             0.4444444444444444,
             "#bd3786"
            ],
            [
             0.5555555555555556,
             "#d8576b"
            ],
            [
             0.6666666666666666,
             "#ed7953"
            ],
            [
             0.7777777777777778,
             "#fb9f3a"
            ],
            [
             0.8888888888888888,
             "#fdca26"
            ],
            [
             1,
             "#f0f921"
            ]
           ],
           "sequentialminus": [
            [
             0,
             "#0d0887"
            ],
            [
             0.1111111111111111,
             "#46039f"
            ],
            [
             0.2222222222222222,
             "#7201a8"
            ],
            [
             0.3333333333333333,
             "#9c179e"
            ],
            [
             0.4444444444444444,
             "#bd3786"
            ],
            [
             0.5555555555555556,
             "#d8576b"
            ],
            [
             0.6666666666666666,
             "#ed7953"
            ],
            [
             0.7777777777777778,
             "#fb9f3a"
            ],
            [
             0.8888888888888888,
             "#fdca26"
            ],
            [
             1,
             "#f0f921"
            ]
           ]
          },
          "colorway": [
           "#636efa",
           "#EF553B",
           "#00cc96",
           "#ab63fa",
           "#FFA15A",
           "#19d3f3",
           "#FF6692",
           "#B6E880",
           "#FF97FF",
           "#FECB52"
          ],
          "font": {
           "color": "#2a3f5f"
          },
          "geo": {
           "bgcolor": "white",
           "lakecolor": "white",
           "landcolor": "#E5ECF6",
           "showlakes": true,
           "showland": true,
           "subunitcolor": "white"
          },
          "hoverlabel": {
           "align": "left"
          },
          "hovermode": "closest",
          "mapbox": {
           "style": "light"
          },
          "paper_bgcolor": "white",
          "plot_bgcolor": "#E5ECF6",
          "polar": {
           "angularaxis": {
            "gridcolor": "white",
            "linecolor": "white",
            "ticks": ""
           },
           "bgcolor": "#E5ECF6",
           "radialaxis": {
            "gridcolor": "white",
            "linecolor": "white",
            "ticks": ""
           }
          },
          "scene": {
           "xaxis": {
            "backgroundcolor": "#E5ECF6",
            "gridcolor": "white",
            "gridwidth": 2,
            "linecolor": "white",
            "showbackground": true,
            "ticks": "",
            "zerolinecolor": "white"
           },
           "yaxis": {
            "backgroundcolor": "#E5ECF6",
            "gridcolor": "white",
            "gridwidth": 2,
            "linecolor": "white",
            "showbackground": true,
            "ticks": "",
            "zerolinecolor": "white"
           },
           "zaxis": {
            "backgroundcolor": "#E5ECF6",
            "gridcolor": "white",
            "gridwidth": 2,
            "linecolor": "white",
            "showbackground": true,
            "ticks": "",
            "zerolinecolor": "white"
           }
          },
          "shapedefaults": {
           "line": {
            "color": "#2a3f5f"
           }
          },
          "ternary": {
           "aaxis": {
            "gridcolor": "white",
            "linecolor": "white",
            "ticks": ""
           },
           "baxis": {
            "gridcolor": "white",
            "linecolor": "white",
            "ticks": ""
           },
           "bgcolor": "#E5ECF6",
           "caxis": {
            "gridcolor": "white",
            "linecolor": "white",
            "ticks": ""
           }
          },
          "title": {
           "x": 0.05
          },
          "xaxis": {
           "automargin": true,
           "gridcolor": "white",
           "linecolor": "white",
           "ticks": "",
           "title": {
            "standoff": 15
           },
           "zerolinecolor": "white",
           "zerolinewidth": 2
          },
          "yaxis": {
           "automargin": true,
           "gridcolor": "white",
           "linecolor": "white",
           "ticks": "",
           "title": {
            "standoff": 15
           },
           "zerolinecolor": "white",
           "zerolinewidth": 2
          }
         }
        },
        "title": {
         "text": "Distribution of method of discovery"
        },
        "xaxis": {
         "anchor": "y",
         "domain": [
          0,
          1
         ],
         "title": {
          "text": "method"
         }
        },
        "yaxis": {
         "anchor": "x",
         "domain": [
          0,
          1
         ],
         "title": {
          "text": "count"
         }
        }
       }
      }
     },
     "metadata": {},
     "output_type": "display_data"
    }
   ],
   "source": [
    "'''\n",
    "univariate plot\n",
    "'''\n",
    "\n",
    "fig = px.histogram(df_planets_scaled, x='method', title='Distribution of method of discovery')\n",
    "fig.show()"
   ]
  },
  {
   "cell_type": "code",
   "execution_count": 11,
   "metadata": {},
   "outputs": [
    {
     "data": {
      "application/vnd.plotly.v1+json": {
       "config": {
        "plotlyServerURL": "https://plot.ly"
       },
       "data": [
        {
         "hovertemplate": "year=%{x}<br>method=%{y}<extra></extra>",
         "legendgroup": "",
         "marker": {
          "color": "#636efa",
          "symbol": "circle"
         },
         "mode": "markers",
         "name": "",
         "orientation": "h",
         "showlegend": false,
         "type": "scatter",
         "x": {
          "bdata": "1gfYB9sH1wfZB9gH0gfYB9oH2gfZB9gHzAfRB9kHywfMB9QH0gfXB9kH2QfZB9gH3QfaB9wH0AfWB9kH0wfXB90HzQfMB90HzAfPB88H2gfYB9kH2QfdB90H2QfdB88H3QfdB90H2QfXB9sH3QfbB9UH1QfVB9UH2QfbB9sH3QfdB90H3QfXB9oH3AfcB9gH1gfOB9AH1QfaB9AH2gfZB9oH2wfRB9wH2QfbB9sH2gfSB9UH3QfTB9cH0QfVB9EH2QfcB9wH1wfZB9sH0wfZB9sH2wfbB9gH2gfSB9kH2QfZB9oH2gfaB9oH2gfaB9YHzwfXB9gH1QfVB9gH0AfSB9UH2wfbB90H3QfZB9AH2AfZB9kH2wfTB9sH2wfSB9sH2wfbB9sH2wfWB9gH2wfbB9YH0QfbB9MH1gfaB9AH3AfVB9oH0QfbB9IH2QfbB9oH2wfbB9sH2wfWB9kH2QfVB9IH0gfVB9EH1AfcB9sH2wfbB9AH0AfZB9sH2AfYB9gH3AfcB9wH0gfUB9MH3QfdB9oH2AfXB9oH2wfYB9gH1AfYB9AH2AfYB9IH2AfYB9IH1QfSB9sH2wfQB9MH2AfYB9UH1gfZB9MH2wfcB9UH0QfWB9YH1gfTB9IH2AfTB9IH1QfYB9MH0wfXB88H1wfSB9sH1QfXB9sH0gfZB9sH1gfZB9kH2QfUB9kHzwfZB9AH1QfbB9sH2QfbB9kH2wfbB9sH2gfbB9wH1QfUB9oH2wfbB9cH1QfVB9YH2AfYB9oH2wfaB9kH3QfZB9MH0gfbB9wH1QfSB9sH0gfVB9oH3QfdB9UH2QfTB90H2gfaB9MH3gfFB9EH0gfbB9QH1AfVB90H0wfTB9cH2QfZB9kH2QfbB9IH1QfZB88H2wfYB9cH2wfbB9sHzwfZB9sH2wfbB9kH2wfbB9sH2wfYB9IH1QfbB9MH2AfaB9gH2QfZB9MH2QfZB9UH2QfbB9kH2wfYB9sH1gfYB9QH3gfXB9cH2wfZB9oH1wfbB9sH3QfdB9YH3AfUB9IH2gfaB9oH2QfVB9wH1wfOB9AH0gfQB9MH1wfZB9gH2QfXB88H2gfRB9gH0AfZB9kH2AfYB9gH2QfUB9gH1gfWB84HzwfUB9sH0gfTB9UH1wfZB88H2wfbB9cHzwfSB9wH1wfbB9oH2gfSB9QH2QfbB9wH2wfYB9kH1AfcB84H1QfZB9EH2wfbB9sH2wfZB9kH0gfSB9MHzgfVB9oH2gfcB9cH3AfcB9sH1wfbB88H1gfXB9sH2QfYB9QH2QfaB9oH1QfWB9kH2gfbB9sH2wfdB9kH0gfZB90HzwfdB9wH",
          "dtype": "i2"
         },
         "xaxis": "x",
         "y": [
          "Radial Velocity",
          "Radial Velocity",
          "Radial Velocity",
          "Radial Velocity",
          "Radial Velocity",
          "Radial Velocity",
          "Radial Velocity",
          "Radial Velocity",
          "Radial Velocity",
          "Radial Velocity",
          "Radial Velocity",
          "Radial Velocity",
          "Radial Velocity",
          "Radial Velocity",
          "Radial Velocity",
          "Radial Velocity",
          "Radial Velocity",
          "Radial Velocity",
          "Radial Velocity",
          "Radial Velocity",
          "Radial Velocity",
          "Radial Velocity",
          "Radial Velocity",
          "Radial Velocity",
          "Radial Velocity",
          "Radial Velocity",
          "Radial Velocity",
          "Radial Velocity",
          "Radial Velocity",
          "Radial Velocity",
          "Radial Velocity",
          "Radial Velocity",
          "Radial Velocity",
          "Radial Velocity",
          "Radial Velocity",
          "Radial Velocity",
          "Radial Velocity",
          "Radial Velocity",
          "Radial Velocity",
          "Radial Velocity",
          "Radial Velocity",
          "Radial Velocity",
          "Radial Velocity",
          "Radial Velocity",
          "Radial Velocity",
          "Radial Velocity",
          "Radial Velocity",
          "Radial Velocity",
          "Radial Velocity",
          "Radial Velocity",
          "Radial Velocity",
          "Radial Velocity",
          "Radial Velocity",
          "Radial Velocity",
          "Radial Velocity",
          "Radial Velocity",
          "Radial Velocity",
          "Radial Velocity",
          "Radial Velocity",
          "Radial Velocity",
          "Radial Velocity",
          "Radial Velocity",
          "Radial Velocity",
          "Radial Velocity",
          "Radial Velocity",
          "Radial Velocity",
          "Radial Velocity",
          "Radial Velocity",
          "Radial Velocity",
          "Radial Velocity",
          "Radial Velocity",
          "Radial Velocity",
          "Radial Velocity",
          "Radial Velocity",
          "Radial Velocity",
          "Radial Velocity",
          "Radial Velocity",
          "Radial Velocity",
          "Radial Velocity",
          "Radial Velocity",
          "Radial Velocity",
          "Radial Velocity",
          "Radial Velocity",
          "Radial Velocity",
          "Radial Velocity",
          "Radial Velocity",
          "Radial Velocity",
          "Radial Velocity",
          "Radial Velocity",
          "Radial Velocity",
          "Radial Velocity",
          "Radial Velocity",
          "Radial Velocity",
          "Radial Velocity",
          "Radial Velocity",
          "Radial Velocity",
          "Radial Velocity",
          "Radial Velocity",
          "Radial Velocity",
          "Radial Velocity",
          "Radial Velocity",
          "Radial Velocity",
          "Radial Velocity",
          "Radial Velocity",
          "Radial Velocity",
          "Radial Velocity",
          "Radial Velocity",
          "Radial Velocity",
          "Radial Velocity",
          "Radial Velocity",
          "Radial Velocity",
          "Radial Velocity",
          "Radial Velocity",
          "Radial Velocity",
          "Radial Velocity",
          "Radial Velocity",
          "Radial Velocity",
          "Radial Velocity",
          "Radial Velocity",
          "Radial Velocity",
          "Radial Velocity",
          "Radial Velocity",
          "Radial Velocity",
          "Radial Velocity",
          "Radial Velocity",
          "Radial Velocity",
          "Radial Velocity",
          "Radial Velocity",
          "Radial Velocity",
          "Radial Velocity",
          "Radial Velocity",
          "Radial Velocity",
          "Radial Velocity",
          "Radial Velocity",
          "Radial Velocity",
          "Radial Velocity",
          "Radial Velocity",
          "Radial Velocity",
          "Radial Velocity",
          "Radial Velocity",
          "Radial Velocity",
          "Radial Velocity",
          "Radial Velocity",
          "Radial Velocity",
          "Radial Velocity",
          "Radial Velocity",
          "Radial Velocity",
          "Radial Velocity",
          "Radial Velocity",
          "Radial Velocity",
          "Radial Velocity",
          "Radial Velocity",
          "Radial Velocity",
          "Radial Velocity",
          "Radial Velocity",
          "Radial Velocity",
          "Radial Velocity",
          "Radial Velocity",
          "Radial Velocity",
          "Radial Velocity",
          "Radial Velocity",
          "Radial Velocity",
          "Radial Velocity",
          "Radial Velocity",
          "Radial Velocity",
          "Radial Velocity",
          "Radial Velocity",
          "Radial Velocity",
          "Radial Velocity",
          "Radial Velocity",
          "Radial Velocity",
          "Radial Velocity",
          "Radial Velocity",
          "Radial Velocity",
          "Radial Velocity",
          "Radial Velocity",
          "Radial Velocity",
          "Radial Velocity",
          "Radial Velocity",
          "Radial Velocity",
          "Radial Velocity",
          "Radial Velocity",
          "Radial Velocity",
          "Radial Velocity",
          "Radial Velocity",
          "Radial Velocity",
          "Radial Velocity",
          "Radial Velocity",
          "Radial Velocity",
          "Radial Velocity",
          "Radial Velocity",
          "Radial Velocity",
          "Radial Velocity",
          "Radial Velocity",
          "Radial Velocity",
          "Radial Velocity",
          "Radial Velocity",
          "Radial Velocity",
          "Radial Velocity",
          "Radial Velocity",
          "Radial Velocity",
          "Radial Velocity",
          "Radial Velocity",
          "Radial Velocity",
          "Radial Velocity",
          "Radial Velocity",
          "Radial Velocity",
          "Radial Velocity",
          "Radial Velocity",
          "Radial Velocity",
          "Radial Velocity",
          "Radial Velocity",
          "Radial Velocity",
          "Radial Velocity",
          "Radial Velocity",
          "Radial Velocity",
          "Radial Velocity",
          "Radial Velocity",
          "Radial Velocity",
          "Radial Velocity",
          "Radial Velocity",
          "Radial Velocity",
          "Radial Velocity",
          "Radial Velocity",
          "Radial Velocity",
          "Radial Velocity",
          "Radial Velocity",
          "Radial Velocity",
          "Radial Velocity",
          "Radial Velocity",
          "Radial Velocity",
          "Radial Velocity",
          "Radial Velocity",
          "Radial Velocity",
          "Radial Velocity",
          "Radial Velocity",
          "Radial Velocity",
          "Radial Velocity",
          "Radial Velocity",
          "Radial Velocity",
          "Radial Velocity",
          "Radial Velocity",
          "Radial Velocity",
          "Radial Velocity",
          "Radial Velocity",
          "Radial Velocity",
          "Radial Velocity",
          "Radial Velocity",
          "Radial Velocity",
          "Radial Velocity",
          "Radial Velocity",
          "Radial Velocity",
          "Radial Velocity",
          "Radial Velocity",
          "Radial Velocity",
          "Radial Velocity",
          "Radial Velocity",
          "Radial Velocity",
          "Radial Velocity",
          "Radial Velocity",
          "Radial Velocity",
          "Radial Velocity",
          "Radial Velocity",
          "Radial Velocity",
          "Radial Velocity",
          "Radial Velocity",
          "Radial Velocity",
          "Radial Velocity",
          "Radial Velocity",
          "Radial Velocity",
          "Radial Velocity",
          "Radial Velocity",
          "Radial Velocity",
          "Radial Velocity",
          "Radial Velocity",
          "Radial Velocity",
          "Radial Velocity",
          "Radial Velocity",
          "Radial Velocity",
          "Radial Velocity",
          "Radial Velocity",
          "Radial Velocity",
          "Radial Velocity",
          "Radial Velocity",
          "Radial Velocity",
          "Radial Velocity",
          "Radial Velocity",
          "Radial Velocity",
          "Radial Velocity",
          "Radial Velocity",
          "Radial Velocity",
          "Radial Velocity",
          "Radial Velocity",
          "Radial Velocity",
          "Radial Velocity",
          "Radial Velocity",
          "Radial Velocity",
          "Radial Velocity",
          "Radial Velocity",
          "Radial Velocity",
          "Radial Velocity",
          "Radial Velocity",
          "Radial Velocity",
          "Radial Velocity",
          "Radial Velocity",
          "Radial Velocity",
          "Radial Velocity",
          "Radial Velocity",
          "Radial Velocity",
          "Radial Velocity",
          "Radial Velocity",
          "Radial Velocity",
          "Radial Velocity",
          "Radial Velocity",
          "Radial Velocity",
          "Radial Velocity",
          "Radial Velocity",
          "Radial Velocity",
          "Radial Velocity",
          "Radial Velocity",
          "Radial Velocity",
          "Radial Velocity",
          "Radial Velocity",
          "Radial Velocity",
          "Radial Velocity",
          "Radial Velocity",
          "Radial Velocity",
          "Radial Velocity",
          "Radial Velocity",
          "Radial Velocity",
          "Radial Velocity",
          "Radial Velocity",
          "Radial Velocity",
          "Radial Velocity",
          "Radial Velocity",
          "Radial Velocity",
          "Radial Velocity",
          "Radial Velocity",
          "Radial Velocity",
          "Radial Velocity",
          "Radial Velocity",
          "Radial Velocity",
          "Radial Velocity",
          "Radial Velocity",
          "Radial Velocity",
          "Radial Velocity",
          "Radial Velocity",
          "Radial Velocity",
          "Radial Velocity",
          "Radial Velocity",
          "Radial Velocity",
          "Radial Velocity",
          "Radial Velocity",
          "Radial Velocity",
          "Radial Velocity",
          "Radial Velocity",
          "Radial Velocity",
          "Radial Velocity",
          "Radial Velocity",
          "Radial Velocity",
          "Radial Velocity",
          "Radial Velocity",
          "Radial Velocity",
          "Radial Velocity",
          "Radial Velocity",
          "Radial Velocity",
          "Radial Velocity",
          "Radial Velocity",
          "Radial Velocity",
          "Radial Velocity",
          "Radial Velocity",
          "Radial Velocity",
          "Radial Velocity",
          "Radial Velocity",
          "Radial Velocity",
          "Radial Velocity",
          "Radial Velocity",
          "Radial Velocity",
          "Radial Velocity",
          "Radial Velocity",
          "Radial Velocity",
          "Radial Velocity",
          "Radial Velocity",
          "Radial Velocity",
          "Radial Velocity",
          "Radial Velocity",
          "Radial Velocity",
          "Radial Velocity",
          "Radial Velocity",
          "Radial Velocity",
          "Radial Velocity",
          "Radial Velocity",
          "Radial Velocity",
          "Radial Velocity",
          "Radial Velocity",
          "Radial Velocity",
          "Radial Velocity",
          "Radial Velocity",
          "Radial Velocity",
          "Radial Velocity",
          "Radial Velocity",
          "Radial Velocity",
          "Radial Velocity",
          "Radial Velocity",
          "Radial Velocity",
          "Radial Velocity",
          "Radial Velocity",
          "Radial Velocity",
          "Radial Velocity",
          "Radial Velocity",
          "Radial Velocity",
          "Radial Velocity",
          "Radial Velocity",
          "Radial Velocity",
          "Radial Velocity",
          "Radial Velocity",
          "Radial Velocity",
          "Radial Velocity",
          "Radial Velocity",
          "Radial Velocity",
          "Radial Velocity",
          "Radial Velocity",
          "Radial Velocity",
          "Radial Velocity",
          "Radial Velocity",
          "Radial Velocity",
          "Radial Velocity",
          "Radial Velocity",
          "Radial Velocity",
          "Radial Velocity",
          "Radial Velocity",
          "Radial Velocity",
          "Radial Velocity",
          "Radial Velocity",
          "Radial Velocity",
          "Radial Velocity",
          "Radial Velocity",
          "Radial Velocity",
          "Radial Velocity",
          "Radial Velocity",
          "Radial Velocity",
          "Radial Velocity",
          "Radial Velocity",
          "Radial Velocity",
          "Radial Velocity",
          "Radial Velocity",
          "Radial Velocity",
          "Radial Velocity",
          "Radial Velocity",
          "Radial Velocity",
          "Radial Velocity",
          "Radial Velocity",
          "Radial Velocity",
          "Radial Velocity",
          "Radial Velocity",
          "Radial Velocity",
          "Radial Velocity",
          "Radial Velocity",
          "Radial Velocity",
          "Radial Velocity",
          "Radial Velocity",
          "Radial Velocity",
          "Radial Velocity",
          "Radial Velocity",
          "Radial Velocity",
          "Radial Velocity",
          "Radial Velocity",
          "Radial Velocity",
          "Radial Velocity",
          "Radial Velocity",
          "Radial Velocity",
          "Radial Velocity",
          "Radial Velocity",
          "Radial Velocity",
          "Radial Velocity",
          "Radial Velocity",
          "Radial Velocity",
          "Radial Velocity",
          "Radial Velocity",
          "Radial Velocity",
          "Radial Velocity",
          "Radial Velocity",
          "Radial Velocity",
          "Radial Velocity",
          "Radial Velocity",
          "Radial Velocity",
          "Radial Velocity",
          "Radial Velocity",
          "Radial Velocity",
          "Radial Velocity",
          "Radial Velocity",
          "Radial Velocity",
          "Radial Velocity",
          "Radial Velocity",
          "Radial Velocity",
          "Radial Velocity",
          "Transit",
          "Radial Velocity"
         ],
         "yaxis": "y"
        }
       ],
       "layout": {
        "legend": {
         "tracegroupgap": 0
        },
        "margin": {
         "t": 60
        },
        "template": {
         "data": {
          "bar": [
           {
            "error_x": {
             "color": "#2a3f5f"
            },
            "error_y": {
             "color": "#2a3f5f"
            },
            "marker": {
             "line": {
              "color": "#E5ECF6",
              "width": 0.5
             },
             "pattern": {
              "fillmode": "overlay",
              "size": 10,
              "solidity": 0.2
             }
            },
            "type": "bar"
           }
          ],
          "barpolar": [
           {
            "marker": {
             "line": {
              "color": "#E5ECF6",
              "width": 0.5
             },
             "pattern": {
              "fillmode": "overlay",
              "size": 10,
              "solidity": 0.2
             }
            },
            "type": "barpolar"
           }
          ],
          "carpet": [
           {
            "aaxis": {
             "endlinecolor": "#2a3f5f",
             "gridcolor": "white",
             "linecolor": "white",
             "minorgridcolor": "white",
             "startlinecolor": "#2a3f5f"
            },
            "baxis": {
             "endlinecolor": "#2a3f5f",
             "gridcolor": "white",
             "linecolor": "white",
             "minorgridcolor": "white",
             "startlinecolor": "#2a3f5f"
            },
            "type": "carpet"
           }
          ],
          "choropleth": [
           {
            "colorbar": {
             "outlinewidth": 0,
             "ticks": ""
            },
            "type": "choropleth"
           }
          ],
          "contour": [
           {
            "colorbar": {
             "outlinewidth": 0,
             "ticks": ""
            },
            "colorscale": [
             [
              0,
              "#0d0887"
             ],
             [
              0.1111111111111111,
              "#46039f"
             ],
             [
              0.2222222222222222,
              "#7201a8"
             ],
             [
              0.3333333333333333,
              "#9c179e"
             ],
             [
              0.4444444444444444,
              "#bd3786"
             ],
             [
              0.5555555555555556,
              "#d8576b"
             ],
             [
              0.6666666666666666,
              "#ed7953"
             ],
             [
              0.7777777777777778,
              "#fb9f3a"
             ],
             [
              0.8888888888888888,
              "#fdca26"
             ],
             [
              1,
              "#f0f921"
             ]
            ],
            "type": "contour"
           }
          ],
          "contourcarpet": [
           {
            "colorbar": {
             "outlinewidth": 0,
             "ticks": ""
            },
            "type": "contourcarpet"
           }
          ],
          "heatmap": [
           {
            "colorbar": {
             "outlinewidth": 0,
             "ticks": ""
            },
            "colorscale": [
             [
              0,
              "#0d0887"
             ],
             [
              0.1111111111111111,
              "#46039f"
             ],
             [
              0.2222222222222222,
              "#7201a8"
             ],
             [
              0.3333333333333333,
              "#9c179e"
             ],
             [
              0.4444444444444444,
              "#bd3786"
             ],
             [
              0.5555555555555556,
              "#d8576b"
             ],
             [
              0.6666666666666666,
              "#ed7953"
             ],
             [
              0.7777777777777778,
              "#fb9f3a"
             ],
             [
              0.8888888888888888,
              "#fdca26"
             ],
             [
              1,
              "#f0f921"
             ]
            ],
            "type": "heatmap"
           }
          ],
          "histogram": [
           {
            "marker": {
             "pattern": {
              "fillmode": "overlay",
              "size": 10,
              "solidity": 0.2
             }
            },
            "type": "histogram"
           }
          ],
          "histogram2d": [
           {
            "colorbar": {
             "outlinewidth": 0,
             "ticks": ""
            },
            "colorscale": [
             [
              0,
              "#0d0887"
             ],
             [
              0.1111111111111111,
              "#46039f"
             ],
             [
              0.2222222222222222,
              "#7201a8"
             ],
             [
              0.3333333333333333,
              "#9c179e"
             ],
             [
              0.4444444444444444,
              "#bd3786"
             ],
             [
              0.5555555555555556,
              "#d8576b"
             ],
             [
              0.6666666666666666,
              "#ed7953"
             ],
             [
              0.7777777777777778,
              "#fb9f3a"
             ],
             [
              0.8888888888888888,
              "#fdca26"
             ],
             [
              1,
              "#f0f921"
             ]
            ],
            "type": "histogram2d"
           }
          ],
          "histogram2dcontour": [
           {
            "colorbar": {
             "outlinewidth": 0,
             "ticks": ""
            },
            "colorscale": [
             [
              0,
              "#0d0887"
             ],
             [
              0.1111111111111111,
              "#46039f"
             ],
             [
              0.2222222222222222,
              "#7201a8"
             ],
             [
              0.3333333333333333,
              "#9c179e"
             ],
             [
              0.4444444444444444,
              "#bd3786"
             ],
             [
              0.5555555555555556,
              "#d8576b"
             ],
             [
              0.6666666666666666,
              "#ed7953"
             ],
             [
              0.7777777777777778,
              "#fb9f3a"
             ],
             [
              0.8888888888888888,
              "#fdca26"
             ],
             [
              1,
              "#f0f921"
             ]
            ],
            "type": "histogram2dcontour"
           }
          ],
          "mesh3d": [
           {
            "colorbar": {
             "outlinewidth": 0,
             "ticks": ""
            },
            "type": "mesh3d"
           }
          ],
          "parcoords": [
           {
            "line": {
             "colorbar": {
              "outlinewidth": 0,
              "ticks": ""
             }
            },
            "type": "parcoords"
           }
          ],
          "pie": [
           {
            "automargin": true,
            "type": "pie"
           }
          ],
          "scatter": [
           {
            "fillpattern": {
             "fillmode": "overlay",
             "size": 10,
             "solidity": 0.2
            },
            "type": "scatter"
           }
          ],
          "scatter3d": [
           {
            "line": {
             "colorbar": {
              "outlinewidth": 0,
              "ticks": ""
             }
            },
            "marker": {
             "colorbar": {
              "outlinewidth": 0,
              "ticks": ""
             }
            },
            "type": "scatter3d"
           }
          ],
          "scattercarpet": [
           {
            "marker": {
             "colorbar": {
              "outlinewidth": 0,
              "ticks": ""
             }
            },
            "type": "scattercarpet"
           }
          ],
          "scattergeo": [
           {
            "marker": {
             "colorbar": {
              "outlinewidth": 0,
              "ticks": ""
             }
            },
            "type": "scattergeo"
           }
          ],
          "scattergl": [
           {
            "marker": {
             "colorbar": {
              "outlinewidth": 0,
              "ticks": ""
             }
            },
            "type": "scattergl"
           }
          ],
          "scattermap": [
           {
            "marker": {
             "colorbar": {
              "outlinewidth": 0,
              "ticks": ""
             }
            },
            "type": "scattermap"
           }
          ],
          "scattermapbox": [
           {
            "marker": {
             "colorbar": {
              "outlinewidth": 0,
              "ticks": ""
             }
            },
            "type": "scattermapbox"
           }
          ],
          "scatterpolar": [
           {
            "marker": {
             "colorbar": {
              "outlinewidth": 0,
              "ticks": ""
             }
            },
            "type": "scatterpolar"
           }
          ],
          "scatterpolargl": [
           {
            "marker": {
             "colorbar": {
              "outlinewidth": 0,
              "ticks": ""
             }
            },
            "type": "scatterpolargl"
           }
          ],
          "scatterternary": [
           {
            "marker": {
             "colorbar": {
              "outlinewidth": 0,
              "ticks": ""
             }
            },
            "type": "scatterternary"
           }
          ],
          "surface": [
           {
            "colorbar": {
             "outlinewidth": 0,
             "ticks": ""
            },
            "colorscale": [
             [
              0,
              "#0d0887"
             ],
             [
              0.1111111111111111,
              "#46039f"
             ],
             [
              0.2222222222222222,
              "#7201a8"
             ],
             [
              0.3333333333333333,
              "#9c179e"
             ],
             [
              0.4444444444444444,
              "#bd3786"
             ],
             [
              0.5555555555555556,
              "#d8576b"
             ],
             [
              0.6666666666666666,
              "#ed7953"
             ],
             [
              0.7777777777777778,
              "#fb9f3a"
             ],
             [
              0.8888888888888888,
              "#fdca26"
             ],
             [
              1,
              "#f0f921"
             ]
            ],
            "type": "surface"
           }
          ],
          "table": [
           {
            "cells": {
             "fill": {
              "color": "#EBF0F8"
             },
             "line": {
              "color": "white"
             }
            },
            "header": {
             "fill": {
              "color": "#C8D4E3"
             },
             "line": {
              "color": "white"
             }
            },
            "type": "table"
           }
          ]
         },
         "layout": {
          "annotationdefaults": {
           "arrowcolor": "#2a3f5f",
           "arrowhead": 0,
           "arrowwidth": 1
          },
          "autotypenumbers": "strict",
          "coloraxis": {
           "colorbar": {
            "outlinewidth": 0,
            "ticks": ""
           }
          },
          "colorscale": {
           "diverging": [
            [
             0,
             "#8e0152"
            ],
            [
             0.1,
             "#c51b7d"
            ],
            [
             0.2,
             "#de77ae"
            ],
            [
             0.3,
             "#f1b6da"
            ],
            [
             0.4,
             "#fde0ef"
            ],
            [
             0.5,
             "#f7f7f7"
            ],
            [
             0.6,
             "#e6f5d0"
            ],
            [
             0.7,
             "#b8e186"
            ],
            [
             0.8,
             "#7fbc41"
            ],
            [
             0.9,
             "#4d9221"
            ],
            [
             1,
             "#276419"
            ]
           ],
           "sequential": [
            [
             0,
             "#0d0887"
            ],
            [
             0.1111111111111111,
             "#46039f"
            ],
            [
             0.2222222222222222,
             "#7201a8"
            ],
            [
             0.3333333333333333,
             "#9c179e"
            ],
            [
             0.4444444444444444,
             "#bd3786"
            ],
            [
             0.5555555555555556,
             "#d8576b"
            ],
            [
             0.6666666666666666,
             "#ed7953"
            ],
            [
             0.7777777777777778,
             "#fb9f3a"
            ],
            [
             0.8888888888888888,
             "#fdca26"
            ],
            [
             1,
             "#f0f921"
            ]
           ],
           "sequentialminus": [
            [
             0,
             "#0d0887"
            ],
            [
             0.1111111111111111,
             "#46039f"
            ],
            [
             0.2222222222222222,
             "#7201a8"
            ],
            [
             0.3333333333333333,
             "#9c179e"
            ],
            [
             0.4444444444444444,
             "#bd3786"
            ],
            [
             0.5555555555555556,
             "#d8576b"
            ],
            [
             0.6666666666666666,
             "#ed7953"
            ],
            [
             0.7777777777777778,
             "#fb9f3a"
            ],
            [
             0.8888888888888888,
             "#fdca26"
            ],
            [
             1,
             "#f0f921"
            ]
           ]
          },
          "colorway": [
           "#636efa",
           "#EF553B",
           "#00cc96",
           "#ab63fa",
           "#FFA15A",
           "#19d3f3",
           "#FF6692",
           "#B6E880",
           "#FF97FF",
           "#FECB52"
          ],
          "font": {
           "color": "#2a3f5f"
          },
          "geo": {
           "bgcolor": "white",
           "lakecolor": "white",
           "landcolor": "#E5ECF6",
           "showlakes": true,
           "showland": true,
           "subunitcolor": "white"
          },
          "hoverlabel": {
           "align": "left"
          },
          "hovermode": "closest",
          "mapbox": {
           "style": "light"
          },
          "paper_bgcolor": "white",
          "plot_bgcolor": "#E5ECF6",
          "polar": {
           "angularaxis": {
            "gridcolor": "white",
            "linecolor": "white",
            "ticks": ""
           },
           "bgcolor": "#E5ECF6",
           "radialaxis": {
            "gridcolor": "white",
            "linecolor": "white",
            "ticks": ""
           }
          },
          "scene": {
           "xaxis": {
            "backgroundcolor": "#E5ECF6",
            "gridcolor": "white",
            "gridwidth": 2,
            "linecolor": "white",
            "showbackground": true,
            "ticks": "",
            "zerolinecolor": "white"
           },
           "yaxis": {
            "backgroundcolor": "#E5ECF6",
            "gridcolor": "white",
            "gridwidth": 2,
            "linecolor": "white",
            "showbackground": true,
            "ticks": "",
            "zerolinecolor": "white"
           },
           "zaxis": {
            "backgroundcolor": "#E5ECF6",
            "gridcolor": "white",
            "gridwidth": 2,
            "linecolor": "white",
            "showbackground": true,
            "ticks": "",
            "zerolinecolor": "white"
           }
          },
          "shapedefaults": {
           "line": {
            "color": "#2a3f5f"
           }
          },
          "ternary": {
           "aaxis": {
            "gridcolor": "white",
            "linecolor": "white",
            "ticks": ""
           },
           "baxis": {
            "gridcolor": "white",
            "linecolor": "white",
            "ticks": ""
           },
           "bgcolor": "#E5ECF6",
           "caxis": {
            "gridcolor": "white",
            "linecolor": "white",
            "ticks": ""
           }
          },
          "title": {
           "x": 0.05
          },
          "xaxis": {
           "automargin": true,
           "gridcolor": "white",
           "linecolor": "white",
           "ticks": "",
           "title": {
            "standoff": 15
           },
           "zerolinecolor": "white",
           "zerolinewidth": 2
          },
          "yaxis": {
           "automargin": true,
           "gridcolor": "white",
           "linecolor": "white",
           "ticks": "",
           "title": {
            "standoff": 15
           },
           "zerolinecolor": "white",
           "zerolinewidth": 2
          }
         }
        },
        "xaxis": {
         "anchor": "y",
         "domain": [
          0,
          1
         ],
         "title": {
          "text": "year"
         }
        },
        "yaxis": {
         "anchor": "x",
         "domain": [
          0,
          1
         ],
         "title": {
          "text": "method"
         }
        }
       }
      }
     },
     "metadata": {},
     "output_type": "display_data"
    }
   ],
   "source": [
    "'''\n",
    "bivariate plot\n",
    "'''\n",
    "\n",
    "fig = px.scatter(df_planets_scaled, y='method',x='year')\n",
    "\n",
    "fig.show()"
   ]
  },
  {
   "cell_type": "code",
   "execution_count": 12,
   "metadata": {},
   "outputs": [
    {
     "data": {
      "application/vnd.plotly.v1+json": {
       "config": {
        "plotlyServerURL": "https://plot.ly"
       },
       "data": [
        {
         "hovertemplate": "method=Radial Velocity<br>distance=%{x}<br>orbital_period=%{y}<extra></extra>",
         "legendgroup": "Radial Velocity",
         "marker": {
          "color": "#636efa",
          "symbol": "circle"
         },
         "mode": "markers",
         "name": "Radial Velocity",
         "orientation": "v",
         "showlegend": true,
         "type": "scatter",
         "x": {
          "bdata": "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",
          "dtype": "f8"
         },
         "xaxis": "x",
         "y": {
          "bdata": "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",
          "dtype": "f8"
         },
         "yaxis": "y"
        },
        {
         "hovertemplate": "method=Transit<br>distance=%{x}<br>orbital_period=%{y}<extra></extra>",
         "legendgroup": "Transit",
         "marker": {
          "color": "#EF553B",
          "symbol": "circle"
         },
         "mode": "markers",
         "name": "Transit",
         "orientation": "v",
         "showlegend": true,
         "type": "scatter",
         "x": {
          "bdata": "hgNneIykBUA=",
          "dtype": "f8"
         },
         "xaxis": "x",
         "y": {
          "bdata": "ZzHghvop4r8=",
          "dtype": "f8"
         },
         "yaxis": "y"
        }
       ],
       "layout": {
        "legend": {
         "title": {
          "text": "method"
         },
         "tracegroupgap": 0
        },
        "margin": {
         "t": 60
        },
        "template": {
         "data": {
          "bar": [
           {
            "error_x": {
             "color": "#2a3f5f"
            },
            "error_y": {
             "color": "#2a3f5f"
            },
            "marker": {
             "line": {
              "color": "#E5ECF6",
              "width": 0.5
             },
             "pattern": {
              "fillmode": "overlay",
              "size": 10,
              "solidity": 0.2
             }
            },
            "type": "bar"
           }
          ],
          "barpolar": [
           {
            "marker": {
             "line": {
              "color": "#E5ECF6",
              "width": 0.5
             },
             "pattern": {
              "fillmode": "overlay",
              "size": 10,
              "solidity": 0.2
             }
            },
            "type": "barpolar"
           }
          ],
          "carpet": [
           {
            "aaxis": {
             "endlinecolor": "#2a3f5f",
             "gridcolor": "white",
             "linecolor": "white",
             "minorgridcolor": "white",
             "startlinecolor": "#2a3f5f"
            },
            "baxis": {
             "endlinecolor": "#2a3f5f",
             "gridcolor": "white",
             "linecolor": "white",
             "minorgridcolor": "white",
             "startlinecolor": "#2a3f5f"
            },
            "type": "carpet"
           }
          ],
          "choropleth": [
           {
            "colorbar": {
             "outlinewidth": 0,
             "ticks": ""
            },
            "type": "choropleth"
           }
          ],
          "contour": [
           {
            "colorbar": {
             "outlinewidth": 0,
             "ticks": ""
            },
            "colorscale": [
             [
              0,
              "#0d0887"
             ],
             [
              0.1111111111111111,
              "#46039f"
             ],
             [
              0.2222222222222222,
              "#7201a8"
             ],
             [
              0.3333333333333333,
              "#9c179e"
             ],
             [
              0.4444444444444444,
              "#bd3786"
             ],
             [
              0.5555555555555556,
              "#d8576b"
             ],
             [
              0.6666666666666666,
              "#ed7953"
             ],
             [
              0.7777777777777778,
              "#fb9f3a"
             ],
             [
              0.8888888888888888,
              "#fdca26"
             ],
             [
              1,
              "#f0f921"
             ]
            ],
            "type": "contour"
           }
          ],
          "contourcarpet": [
           {
            "colorbar": {
             "outlinewidth": 0,
             "ticks": ""
            },
            "type": "contourcarpet"
           }
          ],
          "heatmap": [
           {
            "colorbar": {
             "outlinewidth": 0,
             "ticks": ""
            },
            "colorscale": [
             [
              0,
              "#0d0887"
             ],
             [
              0.1111111111111111,
              "#46039f"
             ],
             [
              0.2222222222222222,
              "#7201a8"
             ],
             [
              0.3333333333333333,
              "#9c179e"
             ],
             [
              0.4444444444444444,
              "#bd3786"
             ],
             [
              0.5555555555555556,
              "#d8576b"
             ],
             [
              0.6666666666666666,
              "#ed7953"
             ],
             [
              0.7777777777777778,
              "#fb9f3a"
             ],
             [
              0.8888888888888888,
              "#fdca26"
             ],
             [
              1,
              "#f0f921"
             ]
            ],
            "type": "heatmap"
           }
          ],
          "histogram": [
           {
            "marker": {
             "pattern": {
              "fillmode": "overlay",
              "size": 10,
              "solidity": 0.2
             }
            },
            "type": "histogram"
           }
          ],
          "histogram2d": [
           {
            "colorbar": {
             "outlinewidth": 0,
             "ticks": ""
            },
            "colorscale": [
             [
              0,
              "#0d0887"
             ],
             [
              0.1111111111111111,
              "#46039f"
             ],
             [
              0.2222222222222222,
              "#7201a8"
             ],
             [
              0.3333333333333333,
              "#9c179e"
             ],
             [
              0.4444444444444444,
              "#bd3786"
             ],
             [
              0.5555555555555556,
              "#d8576b"
             ],
             [
              0.6666666666666666,
              "#ed7953"
             ],
             [
              0.7777777777777778,
              "#fb9f3a"
             ],
             [
              0.8888888888888888,
              "#fdca26"
             ],
             [
              1,
              "#f0f921"
             ]
            ],
            "type": "histogram2d"
           }
          ],
          "histogram2dcontour": [
           {
            "colorbar": {
             "outlinewidth": 0,
             "ticks": ""
            },
            "colorscale": [
             [
              0,
              "#0d0887"
             ],
             [
              0.1111111111111111,
              "#46039f"
             ],
             [
              0.2222222222222222,
              "#7201a8"
             ],
             [
              0.3333333333333333,
              "#9c179e"
             ],
             [
              0.4444444444444444,
              "#bd3786"
             ],
             [
              0.5555555555555556,
              "#d8576b"
             ],
             [
              0.6666666666666666,
              "#ed7953"
             ],
             [
              0.7777777777777778,
              "#fb9f3a"
             ],
             [
              0.8888888888888888,
              "#fdca26"
             ],
             [
              1,
              "#f0f921"
             ]
            ],
            "type": "histogram2dcontour"
           }
          ],
          "mesh3d": [
           {
            "colorbar": {
             "outlinewidth": 0,
             "ticks": ""
            },
            "type": "mesh3d"
           }
          ],
          "parcoords": [
           {
            "line": {
             "colorbar": {
              "outlinewidth": 0,
              "ticks": ""
             }
            },
            "type": "parcoords"
           }
          ],
          "pie": [
           {
            "automargin": true,
            "type": "pie"
           }
          ],
          "scatter": [
           {
            "fillpattern": {
             "fillmode": "overlay",
             "size": 10,
             "solidity": 0.2
            },
            "type": "scatter"
           }
          ],
          "scatter3d": [
           {
            "line": {
             "colorbar": {
              "outlinewidth": 0,
              "ticks": ""
             }
            },
            "marker": {
             "colorbar": {
              "outlinewidth": 0,
              "ticks": ""
             }
            },
            "type": "scatter3d"
           }
          ],
          "scattercarpet": [
           {
            "marker": {
             "colorbar": {
              "outlinewidth": 0,
              "ticks": ""
             }
            },
            "type": "scattercarpet"
           }
          ],
          "scattergeo": [
           {
            "marker": {
             "colorbar": {
              "outlinewidth": 0,
              "ticks": ""
             }
            },
            "type": "scattergeo"
           }
          ],
          "scattergl": [
           {
            "marker": {
             "colorbar": {
              "outlinewidth": 0,
              "ticks": ""
             }
            },
            "type": "scattergl"
           }
          ],
          "scattermap": [
           {
            "marker": {
             "colorbar": {
              "outlinewidth": 0,
              "ticks": ""
             }
            },
            "type": "scattermap"
           }
          ],
          "scattermapbox": [
           {
            "marker": {
             "colorbar": {
              "outlinewidth": 0,
              "ticks": ""
             }
            },
            "type": "scattermapbox"
           }
          ],
          "scatterpolar": [
           {
            "marker": {
             "colorbar": {
              "outlinewidth": 0,
              "ticks": ""
             }
            },
            "type": "scatterpolar"
           }
          ],
          "scatterpolargl": [
           {
            "marker": {
             "colorbar": {
              "outlinewidth": 0,
              "ticks": ""
             }
            },
            "type": "scatterpolargl"
           }
          ],
          "scatterternary": [
           {
            "marker": {
             "colorbar": {
              "outlinewidth": 0,
              "ticks": ""
             }
            },
            "type": "scatterternary"
           }
          ],
          "surface": [
           {
            "colorbar": {
             "outlinewidth": 0,
             "ticks": ""
            },
            "colorscale": [
             [
              0,
              "#0d0887"
             ],
             [
              0.1111111111111111,
              "#46039f"
             ],
             [
              0.2222222222222222,
              "#7201a8"
             ],
             [
              0.3333333333333333,
              "#9c179e"
             ],
             [
              0.4444444444444444,
              "#bd3786"
             ],
             [
              0.5555555555555556,
              "#d8576b"
             ],
             [
              0.6666666666666666,
              "#ed7953"
             ],
             [
              0.7777777777777778,
              "#fb9f3a"
             ],
             [
              0.8888888888888888,
              "#fdca26"
             ],
             [
              1,
              "#f0f921"
             ]
            ],
            "type": "surface"
           }
          ],
          "table": [
           {
            "cells": {
             "fill": {
              "color": "#EBF0F8"
             },
             "line": {
              "color": "white"
             }
            },
            "header": {
             "fill": {
              "color": "#C8D4E3"
             },
             "line": {
              "color": "white"
             }
            },
            "type": "table"
           }
          ]
         },
         "layout": {
          "annotationdefaults": {
           "arrowcolor": "#2a3f5f",
           "arrowhead": 0,
           "arrowwidth": 1
          },
          "autotypenumbers": "strict",
          "coloraxis": {
           "colorbar": {
            "outlinewidth": 0,
            "ticks": ""
           }
          },
          "colorscale": {
           "diverging": [
            [
             0,
             "#8e0152"
            ],
            [
             0.1,
             "#c51b7d"
            ],
            [
             0.2,
             "#de77ae"
            ],
            [
             0.3,
             "#f1b6da"
            ],
            [
             0.4,
             "#fde0ef"
            ],
            [
             0.5,
             "#f7f7f7"
            ],
            [
             0.6,
             "#e6f5d0"
            ],
            [
             0.7,
             "#b8e186"
            ],
            [
             0.8,
             "#7fbc41"
            ],
            [
             0.9,
             "#4d9221"
            ],
            [
             1,
             "#276419"
            ]
           ],
           "sequential": [
            [
             0,
             "#0d0887"
            ],
            [
             0.1111111111111111,
             "#46039f"
            ],
            [
             0.2222222222222222,
             "#7201a8"
            ],
            [
             0.3333333333333333,
             "#9c179e"
            ],
            [
             0.4444444444444444,
             "#bd3786"
            ],
            [
             0.5555555555555556,
             "#d8576b"
            ],
            [
             0.6666666666666666,
             "#ed7953"
            ],
            [
             0.7777777777777778,
             "#fb9f3a"
            ],
            [
             0.8888888888888888,
             "#fdca26"
            ],
            [
             1,
             "#f0f921"
            ]
           ],
           "sequentialminus": [
            [
             0,
             "#0d0887"
            ],
            [
             0.1111111111111111,
             "#46039f"
            ],
            [
             0.2222222222222222,
             "#7201a8"
            ],
            [
             0.3333333333333333,
             "#9c179e"
            ],
            [
             0.4444444444444444,
             "#bd3786"
            ],
            [
             0.5555555555555556,
             "#d8576b"
            ],
            [
             0.6666666666666666,
             "#ed7953"
            ],
            [
             0.7777777777777778,
             "#fb9f3a"
            ],
            [
             0.8888888888888888,
             "#fdca26"
            ],
            [
             1,
             "#f0f921"
            ]
           ]
          },
          "colorway": [
           "#636efa",
           "#EF553B",
           "#00cc96",
           "#ab63fa",
           "#FFA15A",
           "#19d3f3",
           "#FF6692",
           "#B6E880",
           "#FF97FF",
           "#FECB52"
          ],
          "font": {
           "color": "#2a3f5f"
          },
          "geo": {
           "bgcolor": "white",
           "lakecolor": "white",
           "landcolor": "#E5ECF6",
           "showlakes": true,
           "showland": true,
           "subunitcolor": "white"
          },
          "hoverlabel": {
           "align": "left"
          },
          "hovermode": "closest",
          "mapbox": {
           "style": "light"
          },
          "paper_bgcolor": "white",
          "plot_bgcolor": "#E5ECF6",
          "polar": {
           "angularaxis": {
            "gridcolor": "white",
            "linecolor": "white",
            "ticks": ""
           },
           "bgcolor": "#E5ECF6",
           "radialaxis": {
            "gridcolor": "white",
            "linecolor": "white",
            "ticks": ""
           }
          },
          "scene": {
           "xaxis": {
            "backgroundcolor": "#E5ECF6",
            "gridcolor": "white",
            "gridwidth": 2,
            "linecolor": "white",
            "showbackground": true,
            "ticks": "",
            "zerolinecolor": "white"
           },
           "yaxis": {
            "backgroundcolor": "#E5ECF6",
            "gridcolor": "white",
            "gridwidth": 2,
            "linecolor": "white",
            "showbackground": true,
            "ticks": "",
            "zerolinecolor": "white"
           },
           "zaxis": {
            "backgroundcolor": "#E5ECF6",
            "gridcolor": "white",
            "gridwidth": 2,
            "linecolor": "white",
            "showbackground": true,
            "ticks": "",
            "zerolinecolor": "white"
           }
          },
          "shapedefaults": {
           "line": {
            "color": "#2a3f5f"
           }
          },
          "ternary": {
           "aaxis": {
            "gridcolor": "white",
            "linecolor": "white",
            "ticks": ""
           },
           "baxis": {
            "gridcolor": "white",
            "linecolor": "white",
            "ticks": ""
           },
           "bgcolor": "#E5ECF6",
           "caxis": {
            "gridcolor": "white",
            "linecolor": "white",
            "ticks": ""
           }
          },
          "title": {
           "x": 0.05
          },
          "xaxis": {
           "automargin": true,
           "gridcolor": "white",
           "linecolor": "white",
           "ticks": "",
           "title": {
            "standoff": 15
           },
           "zerolinecolor": "white",
           "zerolinewidth": 2
          },
          "yaxis": {
           "automargin": true,
           "gridcolor": "white",
           "linecolor": "white",
           "ticks": "",
           "title": {
            "standoff": 15
           },
           "zerolinecolor": "white",
           "zerolinewidth": 2
          }
         }
        },
        "xaxis": {
         "anchor": "y",
         "domain": [
          0,
          1
         ],
         "title": {
          "text": "distance"
         }
        },
        "yaxis": {
         "anchor": "x",
         "domain": [
          0,
          1
         ],
         "title": {
          "text": "orbital_period"
         }
        }
       }
      }
     },
     "metadata": {},
     "output_type": "display_data"
    }
   ],
   "source": [
    "'''\n",
    "multivariate plot\n",
    "'''\n",
    "\n",
    "fig = px.scatter(df_planets_scaled, y='orbital_period',x='distance', color='method')\n",
    "\n",
    "fig.show()"
   ]
  },
  {
   "cell_type": "code",
   "execution_count": 13,
   "metadata": {},
   "outputs": [
    {
     "data": {
      "application/vnd.plotly.v1+json": {
       "config": {
        "plotlyServerURL": "https://plot.ly"
       },
       "data": [
        {
         "hovertemplate": "method=Radial Velocity<br>year=%{x}<br>mass=%{y}<extra></extra>",
         "legendgroup": "Radial Velocity",
         "marker": {
          "color": "#636efa",
          "symbol": "circle"
         },
         "mode": "markers",
         "name": "Radial Velocity",
         "orientation": "v",
         "showlegend": true,
         "type": "scatter",
         "x": {
          "bdata": "1gfYB9sH1wfZB9gH0gfYB9oH2gfZB9gHzAfRB9kHywfMB9QH0gfXB9kH2QfZB9gH3QfaB9wH0AfWB9kH0wfXB90HzQfMB90HzAfPB88H2gfYB9kH2QfdB90H2QfdB88H3QfdB90H2QfXB9sH3QfbB9UH1QfVB9UH2QfbB9sH3QfdB90H3QfXB9oH3AfcB9gH1gfOB9AH1QfaB9AH2gfZB9oH2wfRB9wH2QfbB9sH2gfSB9UH3QfTB9cH0QfVB9EH2QfcB9wH1wfZB9sH0wfZB9sH2wfbB9gH2gfSB9kH2QfZB9oH2gfaB9oH2gfaB9YHzwfXB9gH1QfVB9gH0AfSB9UH2wfbB90H3QfZB9AH2AfZB9kH2wfTB9sH2wfSB9sH2wfbB9sH2wfWB9gH2wfbB9YH0QfbB9MH1gfaB9AH3AfVB9oH0QfbB9IH2QfbB9oH2wfbB9sH2wfWB9kH2QfVB9IH0gfVB9EH1AfcB9sH2wfbB9AH0AfZB9sH2AfYB9gH3AfcB9wH0gfUB9MH3QfdB9oH2AfXB9oH2wfYB9gH1AfYB9AH2AfYB9IH2AfYB9IH1QfSB9sH2wfQB9MH2AfYB9UH1gfZB9MH2wfcB9UH0QfWB9YH1gfTB9IH2AfTB9IH1QfYB9MH0wfXB88H1wfSB9sH1QfXB9sH0gfZB9sH1gfZB9kH2QfUB9kHzwfZB9AH1QfbB9sH2QfbB9kH2wfbB9sH2gfbB9wH1QfUB9oH2wfbB9cH1QfVB9YH2AfYB9oH2wfaB9kH3QfZB9MH0gfbB9wH1QfSB9sH0gfVB9oH3QfdB9UH2QfTB90H2gfaB9MH3gfFB9EH0gfbB9QH1AfVB90H0wfTB9cH2QfZB9kH2QfbB9IH1QfZB88H2wfYB9cH2wfbB9sHzwfZB9sH2wfbB9kH2wfbB9sH2wfYB9IH1QfbB9MH2AfaB9gH2QfZB9MH2QfZB9UH2QfbB9kH2wfYB9sH1gfYB9QH3gfXB9cH2wfZB9oH1wfbB9sH3QfdB9YH3AfUB9IH2gfaB9oH2QfVB9wH1wfOB9AH0gfQB9MH1wfZB9gH2QfXB88H2gfRB9gH0AfZB9kH2AfYB9gH2QfUB9gH1gfWB84HzwfUB9sH0gfTB9UH1wfZB88H2wfbB9cHzwfSB9wH1wfbB9oH2gfSB9QH2QfbB9wH2wfYB9kH1AfcB84H1QfZB9EH2wfbB9sH2wfZB9kH0gfSB9MHzgfVB9oH2gfcB9cH3AfcB9sH1wfbB88H1gfXB9sH2QfYB9QH2QfaB9oH1QfWB9kH2gfbB9sH2wfdB9kH0gfZB90HzwfcBw==",
          "dtype": "i2"
         },
         "xaxis": "x",
         "y": {
          "bdata": "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",
          "dtype": "f8"
         },
         "yaxis": "y"
        },
        {
         "hovertemplate": "method=Transit<br>year=%{x}<br>mass=%{y}<extra></extra>",
         "legendgroup": "Transit",
         "marker": {
          "color": "#EF553B",
          "symbol": "circle"
         },
         "mode": "markers",
         "name": "Transit",
         "orientation": "v",
         "showlegend": true,
         "type": "scatter",
         "x": {
          "bdata": "3Qc=",
          "dtype": "i2"
         },
         "xaxis": "x",
         "y": {
          "bdata": "Jdrii5VP0r8=",
          "dtype": "f8"
         },
         "yaxis": "y"
        }
       ],
       "layout": {
        "legend": {
         "title": {
          "text": "method"
         },
         "tracegroupgap": 0
        },
        "margin": {
         "t": 60
        },
        "template": {
         "data": {
          "bar": [
           {
            "error_x": {
             "color": "#2a3f5f"
            },
            "error_y": {
             "color": "#2a3f5f"
            },
            "marker": {
             "line": {
              "color": "#E5ECF6",
              "width": 0.5
             },
             "pattern": {
              "fillmode": "overlay",
              "size": 10,
              "solidity": 0.2
             }
            },
            "type": "bar"
           }
          ],
          "barpolar": [
           {
            "marker": {
             "line": {
              "color": "#E5ECF6",
              "width": 0.5
             },
             "pattern": {
              "fillmode": "overlay",
              "size": 10,
              "solidity": 0.2
             }
            },
            "type": "barpolar"
           }
          ],
          "carpet": [
           {
            "aaxis": {
             "endlinecolor": "#2a3f5f",
             "gridcolor": "white",
             "linecolor": "white",
             "minorgridcolor": "white",
             "startlinecolor": "#2a3f5f"
            },
            "baxis": {
             "endlinecolor": "#2a3f5f",
             "gridcolor": "white",
             "linecolor": "white",
             "minorgridcolor": "white",
             "startlinecolor": "#2a3f5f"
            },
            "type": "carpet"
           }
          ],
          "choropleth": [
           {
            "colorbar": {
             "outlinewidth": 0,
             "ticks": ""
            },
            "type": "choropleth"
           }
          ],
          "contour": [
           {
            "colorbar": {
             "outlinewidth": 0,
             "ticks": ""
            },
            "colorscale": [
             [
              0,
              "#0d0887"
             ],
             [
              0.1111111111111111,
              "#46039f"
             ],
             [
              0.2222222222222222,
              "#7201a8"
             ],
             [
              0.3333333333333333,
              "#9c179e"
             ],
             [
              0.4444444444444444,
              "#bd3786"
             ],
             [
              0.5555555555555556,
              "#d8576b"
             ],
             [
              0.6666666666666666,
              "#ed7953"
             ],
             [
              0.7777777777777778,
              "#fb9f3a"
             ],
             [
              0.8888888888888888,
              "#fdca26"
             ],
             [
              1,
              "#f0f921"
             ]
            ],
            "type": "contour"
           }
          ],
          "contourcarpet": [
           {
            "colorbar": {
             "outlinewidth": 0,
             "ticks": ""
            },
            "type": "contourcarpet"
           }
          ],
          "heatmap": [
           {
            "colorbar": {
             "outlinewidth": 0,
             "ticks": ""
            },
            "colorscale": [
             [
              0,
              "#0d0887"
             ],
             [
              0.1111111111111111,
              "#46039f"
             ],
             [
              0.2222222222222222,
              "#7201a8"
             ],
             [
              0.3333333333333333,
              "#9c179e"
             ],
             [
              0.4444444444444444,
              "#bd3786"
             ],
             [
              0.5555555555555556,
              "#d8576b"
             ],
             [
              0.6666666666666666,
              "#ed7953"
             ],
             [
              0.7777777777777778,
              "#fb9f3a"
             ],
             [
              0.8888888888888888,
              "#fdca26"
             ],
             [
              1,
              "#f0f921"
             ]
            ],
            "type": "heatmap"
           }
          ],
          "histogram": [
           {
            "marker": {
             "pattern": {
              "fillmode": "overlay",
              "size": 10,
              "solidity": 0.2
             }
            },
            "type": "histogram"
           }
          ],
          "histogram2d": [
           {
            "colorbar": {
             "outlinewidth": 0,
             "ticks": ""
            },
            "colorscale": [
             [
              0,
              "#0d0887"
             ],
             [
              0.1111111111111111,
              "#46039f"
             ],
             [
              0.2222222222222222,
              "#7201a8"
             ],
             [
              0.3333333333333333,
              "#9c179e"
             ],
             [
              0.4444444444444444,
              "#bd3786"
             ],
             [
              0.5555555555555556,
              "#d8576b"
             ],
             [
              0.6666666666666666,
              "#ed7953"
             ],
             [
              0.7777777777777778,
              "#fb9f3a"
             ],
             [
              0.8888888888888888,
              "#fdca26"
             ],
             [
              1,
              "#f0f921"
             ]
            ],
            "type": "histogram2d"
           }
          ],
          "histogram2dcontour": [
           {
            "colorbar": {
             "outlinewidth": 0,
             "ticks": ""
            },
            "colorscale": [
             [
              0,
              "#0d0887"
             ],
             [
              0.1111111111111111,
              "#46039f"
             ],
             [
              0.2222222222222222,
              "#7201a8"
             ],
             [
              0.3333333333333333,
              "#9c179e"
             ],
             [
              0.4444444444444444,
              "#bd3786"
             ],
             [
              0.5555555555555556,
              "#d8576b"
             ],
             [
              0.6666666666666666,
              "#ed7953"
             ],
             [
              0.7777777777777778,
              "#fb9f3a"
             ],
             [
              0.8888888888888888,
              "#fdca26"
             ],
             [
              1,
              "#f0f921"
             ]
            ],
            "type": "histogram2dcontour"
           }
          ],
          "mesh3d": [
           {
            "colorbar": {
             "outlinewidth": 0,
             "ticks": ""
            },
            "type": "mesh3d"
           }
          ],
          "parcoords": [
           {
            "line": {
             "colorbar": {
              "outlinewidth": 0,
              "ticks": ""
             }
            },
            "type": "parcoords"
           }
          ],
          "pie": [
           {
            "automargin": true,
            "type": "pie"
           }
          ],
          "scatter": [
           {
            "fillpattern": {
             "fillmode": "overlay",
             "size": 10,
             "solidity": 0.2
            },
            "type": "scatter"
           }
          ],
          "scatter3d": [
           {
            "line": {
             "colorbar": {
              "outlinewidth": 0,
              "ticks": ""
             }
            },
            "marker": {
             "colorbar": {
              "outlinewidth": 0,
              "ticks": ""
             }
            },
            "type": "scatter3d"
           }
          ],
          "scattercarpet": [
           {
            "marker": {
             "colorbar": {
              "outlinewidth": 0,
              "ticks": ""
             }
            },
            "type": "scattercarpet"
           }
          ],
          "scattergeo": [
           {
            "marker": {
             "colorbar": {
              "outlinewidth": 0,
              "ticks": ""
             }
            },
            "type": "scattergeo"
           }
          ],
          "scattergl": [
           {
            "marker": {
             "colorbar": {
              "outlinewidth": 0,
              "ticks": ""
             }
            },
            "type": "scattergl"
           }
          ],
          "scattermap": [
           {
            "marker": {
             "colorbar": {
              "outlinewidth": 0,
              "ticks": ""
             }
            },
            "type": "scattermap"
           }
          ],
          "scattermapbox": [
           {
            "marker": {
             "colorbar": {
              "outlinewidth": 0,
              "ticks": ""
             }
            },
            "type": "scattermapbox"
           }
          ],
          "scatterpolar": [
           {
            "marker": {
             "colorbar": {
              "outlinewidth": 0,
              "ticks": ""
             }
            },
            "type": "scatterpolar"
           }
          ],
          "scatterpolargl": [
           {
            "marker": {
             "colorbar": {
              "outlinewidth": 0,
              "ticks": ""
             }
            },
            "type": "scatterpolargl"
           }
          ],
          "scatterternary": [
           {
            "marker": {
             "colorbar": {
              "outlinewidth": 0,
              "ticks": ""
             }
            },
            "type": "scatterternary"
           }
          ],
          "surface": [
           {
            "colorbar": {
             "outlinewidth": 0,
             "ticks": ""
            },
            "colorscale": [
             [
              0,
              "#0d0887"
             ],
             [
              0.1111111111111111,
              "#46039f"
             ],
             [
              0.2222222222222222,
              "#7201a8"
             ],
             [
              0.3333333333333333,
              "#9c179e"
             ],
             [
              0.4444444444444444,
              "#bd3786"
             ],
             [
              0.5555555555555556,
              "#d8576b"
             ],
             [
              0.6666666666666666,
              "#ed7953"
             ],
             [
              0.7777777777777778,
              "#fb9f3a"
             ],
             [
              0.8888888888888888,
              "#fdca26"
             ],
             [
              1,
              "#f0f921"
             ]
            ],
            "type": "surface"
           }
          ],
          "table": [
           {
            "cells": {
             "fill": {
              "color": "#EBF0F8"
             },
             "line": {
              "color": "white"
             }
            },
            "header": {
             "fill": {
              "color": "#C8D4E3"
             },
             "line": {
              "color": "white"
             }
            },
            "type": "table"
           }
          ]
         },
         "layout": {
          "annotationdefaults": {
           "arrowcolor": "#2a3f5f",
           "arrowhead": 0,
           "arrowwidth": 1
          },
          "autotypenumbers": "strict",
          "coloraxis": {
           "colorbar": {
            "outlinewidth": 0,
            "ticks": ""
           }
          },
          "colorscale": {
           "diverging": [
            [
             0,
             "#8e0152"
            ],
            [
             0.1,
             "#c51b7d"
            ],
            [
             0.2,
             "#de77ae"
            ],
            [
             0.3,
             "#f1b6da"
            ],
            [
             0.4,
             "#fde0ef"
            ],
            [
             0.5,
             "#f7f7f7"
            ],
            [
             0.6,
             "#e6f5d0"
            ],
            [
             0.7,
             "#b8e186"
            ],
            [
             0.8,
             "#7fbc41"
            ],
            [
             0.9,
             "#4d9221"
            ],
            [
             1,
             "#276419"
            ]
           ],
           "sequential": [
            [
             0,
             "#0d0887"
            ],
            [
             0.1111111111111111,
             "#46039f"
            ],
            [
             0.2222222222222222,
             "#7201a8"
            ],
            [
             0.3333333333333333,
             "#9c179e"
            ],
            [
             0.4444444444444444,
             "#bd3786"
            ],
            [
             0.5555555555555556,
             "#d8576b"
            ],
            [
             0.6666666666666666,
             "#ed7953"
            ],
            [
             0.7777777777777778,
             "#fb9f3a"
            ],
            [
             0.8888888888888888,
             "#fdca26"
            ],
            [
             1,
             "#f0f921"
            ]
           ],
           "sequentialminus": [
            [
             0,
             "#0d0887"
            ],
            [
             0.1111111111111111,
             "#46039f"
            ],
            [
             0.2222222222222222,
             "#7201a8"
            ],
            [
             0.3333333333333333,
             "#9c179e"
            ],
            [
             0.4444444444444444,
             "#bd3786"
            ],
            [
             0.5555555555555556,
             "#d8576b"
            ],
            [
             0.6666666666666666,
             "#ed7953"
            ],
            [
             0.7777777777777778,
             "#fb9f3a"
            ],
            [
             0.8888888888888888,
             "#fdca26"
            ],
            [
             1,
             "#f0f921"
            ]
           ]
          },
          "colorway": [
           "#636efa",
           "#EF553B",
           "#00cc96",
           "#ab63fa",
           "#FFA15A",
           "#19d3f3",
           "#FF6692",
           "#B6E880",
           "#FF97FF",
           "#FECB52"
          ],
          "font": {
           "color": "#2a3f5f"
          },
          "geo": {
           "bgcolor": "white",
           "lakecolor": "white",
           "landcolor": "#E5ECF6",
           "showlakes": true,
           "showland": true,
           "subunitcolor": "white"
          },
          "hoverlabel": {
           "align": "left"
          },
          "hovermode": "closest",
          "mapbox": {
           "style": "light"
          },
          "paper_bgcolor": "white",
          "plot_bgcolor": "#E5ECF6",
          "polar": {
           "angularaxis": {
            "gridcolor": "white",
            "linecolor": "white",
            "ticks": ""
           },
           "bgcolor": "#E5ECF6",
           "radialaxis": {
            "gridcolor": "white",
            "linecolor": "white",
            "ticks": ""
           }
          },
          "scene": {
           "xaxis": {
            "backgroundcolor": "#E5ECF6",
            "gridcolor": "white",
            "gridwidth": 2,
            "linecolor": "white",
            "showbackground": true,
            "ticks": "",
            "zerolinecolor": "white"
           },
           "yaxis": {
            "backgroundcolor": "#E5ECF6",
            "gridcolor": "white",
            "gridwidth": 2,
            "linecolor": "white",
            "showbackground": true,
            "ticks": "",
            "zerolinecolor": "white"
           },
           "zaxis": {
            "backgroundcolor": "#E5ECF6",
            "gridcolor": "white",
            "gridwidth": 2,
            "linecolor": "white",
            "showbackground": true,
            "ticks": "",
            "zerolinecolor": "white"
           }
          },
          "shapedefaults": {
           "line": {
            "color": "#2a3f5f"
           }
          },
          "ternary": {
           "aaxis": {
            "gridcolor": "white",
            "linecolor": "white",
            "ticks": ""
           },
           "baxis": {
            "gridcolor": "white",
            "linecolor": "white",
            "ticks": ""
           },
           "bgcolor": "#E5ECF6",
           "caxis": {
            "gridcolor": "white",
            "linecolor": "white",
            "ticks": ""
           }
          },
          "title": {
           "x": 0.05
          },
          "xaxis": {
           "automargin": true,
           "gridcolor": "white",
           "linecolor": "white",
           "ticks": "",
           "title": {
            "standoff": 15
           },
           "zerolinecolor": "white",
           "zerolinewidth": 2
          },
          "yaxis": {
           "automargin": true,
           "gridcolor": "white",
           "linecolor": "white",
           "ticks": "",
           "title": {
            "standoff": 15
           },
           "zerolinecolor": "white",
           "zerolinewidth": 2
          }
         }
        },
        "xaxis": {
         "anchor": "y",
         "domain": [
          0,
          1
         ],
         "title": {
          "text": "year"
         }
        },
        "yaxis": {
         "anchor": "x",
         "domain": [
          0,
          1
         ],
         "title": {
          "text": "mass"
         }
        }
       }
      }
     },
     "metadata": {},
     "output_type": "display_data"
    }
   ],
   "source": [
    "'''\n",
    "multivariate plot x2 because I am not all to familar with PCA and clustering.\n",
    "'''\n",
    "\n",
    "fig = px.scatter(df_planets_scaled, y='mass',x='year', color='method')\n",
    "\n",
    "fig.show()"
   ]
  },
  {
   "cell_type": "code",
   "execution_count": 14,
   "metadata": {},
   "outputs": [
    {
     "data": {
      "application/vnd.plotly.v1+json": {
       "config": {
        "plotlyServerURL": "https://plot.ly"
       },
       "data": [
        {
         "coloraxis": "coloraxis",
         "hovertemplate": "x: %{x}<br>y: %{y}<br>color: %{z}<extra></extra>",
         "name": "0",
         "texttemplate": "%{z}",
         "type": "heatmap",
         "x": [
          "orbital_period",
          "distance",
          "mass"
         ],
         "xaxis": "x",
         "y": [
          "orbital_period",
          "distance",
          "mass"
         ],
         "yaxis": "y",
         "z": {
          "bdata": "AAAAAAAA8D/8pcfJiPShv6Il3IIBq8c//KXHyYj0ob8AAAAAAADwP1Rh0h6RitE/oiXcggGrxz9UYdIekYrRPwAAAAAAAPA/",
          "dtype": "f8",
          "shape": "3, 3"
         }
        }
       ],
       "layout": {
        "coloraxis": {
         "colorscale": [
          [
           0,
           "#440154"
          ],
          [
           0.1111111111111111,
           "#482878"
          ],
          [
           0.2222222222222222,
           "#3e4989"
          ],
          [
           0.3333333333333333,
           "#31688e"
          ],
          [
           0.4444444444444444,
           "#26828e"
          ],
          [
           0.5555555555555556,
           "#1f9e89"
          ],
          [
           0.6666666666666666,
           "#35b779"
          ],
          [
           0.7777777777777778,
           "#6ece58"
          ],
          [
           0.8888888888888888,
           "#b5de2b"
          ],
          [
           1,
           "#fde725"
          ]
         ]
        },
        "margin": {
         "t": 60
        },
        "template": {
         "data": {
          "bar": [
           {
            "error_x": {
             "color": "#2a3f5f"
            },
            "error_y": {
             "color": "#2a3f5f"
            },
            "marker": {
             "line": {
              "color": "#E5ECF6",
              "width": 0.5
             },
             "pattern": {
              "fillmode": "overlay",
              "size": 10,
              "solidity": 0.2
             }
            },
            "type": "bar"
           }
          ],
          "barpolar": [
           {
            "marker": {
             "line": {
              "color": "#E5ECF6",
              "width": 0.5
             },
             "pattern": {
              "fillmode": "overlay",
              "size": 10,
              "solidity": 0.2
             }
            },
            "type": "barpolar"
           }
          ],
          "carpet": [
           {
            "aaxis": {
             "endlinecolor": "#2a3f5f",
             "gridcolor": "white",
             "linecolor": "white",
             "minorgridcolor": "white",
             "startlinecolor": "#2a3f5f"
            },
            "baxis": {
             "endlinecolor": "#2a3f5f",
             "gridcolor": "white",
             "linecolor": "white",
             "minorgridcolor": "white",
             "startlinecolor": "#2a3f5f"
            },
            "type": "carpet"
           }
          ],
          "choropleth": [
           {
            "colorbar": {
             "outlinewidth": 0,
             "ticks": ""
            },
            "type": "choropleth"
           }
          ],
          "contour": [
           {
            "colorbar": {
             "outlinewidth": 0,
             "ticks": ""
            },
            "colorscale": [
             [
              0,
              "#0d0887"
             ],
             [
              0.1111111111111111,
              "#46039f"
             ],
             [
              0.2222222222222222,
              "#7201a8"
             ],
             [
              0.3333333333333333,
              "#9c179e"
             ],
             [
              0.4444444444444444,
              "#bd3786"
             ],
             [
              0.5555555555555556,
              "#d8576b"
             ],
             [
              0.6666666666666666,
              "#ed7953"
             ],
             [
              0.7777777777777778,
              "#fb9f3a"
             ],
             [
              0.8888888888888888,
              "#fdca26"
             ],
             [
              1,
              "#f0f921"
             ]
            ],
            "type": "contour"
           }
          ],
          "contourcarpet": [
           {
            "colorbar": {
             "outlinewidth": 0,
             "ticks": ""
            },
            "type": "contourcarpet"
           }
          ],
          "heatmap": [
           {
            "colorbar": {
             "outlinewidth": 0,
             "ticks": ""
            },
            "colorscale": [
             [
              0,
              "#0d0887"
             ],
             [
              0.1111111111111111,
              "#46039f"
             ],
             [
              0.2222222222222222,
              "#7201a8"
             ],
             [
              0.3333333333333333,
              "#9c179e"
             ],
             [
              0.4444444444444444,
              "#bd3786"
             ],
             [
              0.5555555555555556,
              "#d8576b"
             ],
             [
              0.6666666666666666,
              "#ed7953"
             ],
             [
              0.7777777777777778,
              "#fb9f3a"
             ],
             [
              0.8888888888888888,
              "#fdca26"
             ],
             [
              1,
              "#f0f921"
             ]
            ],
            "type": "heatmap"
           }
          ],
          "histogram": [
           {
            "marker": {
             "pattern": {
              "fillmode": "overlay",
              "size": 10,
              "solidity": 0.2
             }
            },
            "type": "histogram"
           }
          ],
          "histogram2d": [
           {
            "colorbar": {
             "outlinewidth": 0,
             "ticks": ""
            },
            "colorscale": [
             [
              0,
              "#0d0887"
             ],
             [
              0.1111111111111111,
              "#46039f"
             ],
             [
              0.2222222222222222,
              "#7201a8"
             ],
             [
              0.3333333333333333,
              "#9c179e"
             ],
             [
              0.4444444444444444,
              "#bd3786"
             ],
             [
              0.5555555555555556,
              "#d8576b"
             ],
             [
              0.6666666666666666,
              "#ed7953"
             ],
             [
              0.7777777777777778,
              "#fb9f3a"
             ],
             [
              0.8888888888888888,
              "#fdca26"
             ],
             [
              1,
              "#f0f921"
             ]
            ],
            "type": "histogram2d"
           }
          ],
          "histogram2dcontour": [
           {
            "colorbar": {
             "outlinewidth": 0,
             "ticks": ""
            },
            "colorscale": [
             [
              0,
              "#0d0887"
             ],
             [
              0.1111111111111111,
              "#46039f"
             ],
             [
              0.2222222222222222,
              "#7201a8"
             ],
             [
              0.3333333333333333,
              "#9c179e"
             ],
             [
              0.4444444444444444,
              "#bd3786"
             ],
             [
              0.5555555555555556,
              "#d8576b"
             ],
             [
              0.6666666666666666,
              "#ed7953"
             ],
             [
              0.7777777777777778,
              "#fb9f3a"
             ],
             [
              0.8888888888888888,
              "#fdca26"
             ],
             [
              1,
              "#f0f921"
             ]
            ],
            "type": "histogram2dcontour"
           }
          ],
          "mesh3d": [
           {
            "colorbar": {
             "outlinewidth": 0,
             "ticks": ""
            },
            "type": "mesh3d"
           }
          ],
          "parcoords": [
           {
            "line": {
             "colorbar": {
              "outlinewidth": 0,
              "ticks": ""
             }
            },
            "type": "parcoords"
           }
          ],
          "pie": [
           {
            "automargin": true,
            "type": "pie"
           }
          ],
          "scatter": [
           {
            "fillpattern": {
             "fillmode": "overlay",
             "size": 10,
             "solidity": 0.2
            },
            "type": "scatter"
           }
          ],
          "scatter3d": [
           {
            "line": {
             "colorbar": {
              "outlinewidth": 0,
              "ticks": ""
             }
            },
            "marker": {
             "colorbar": {
              "outlinewidth": 0,
              "ticks": ""
             }
            },
            "type": "scatter3d"
           }
          ],
          "scattercarpet": [
           {
            "marker": {
             "colorbar": {
              "outlinewidth": 0,
              "ticks": ""
             }
            },
            "type": "scattercarpet"
           }
          ],
          "scattergeo": [
           {
            "marker": {
             "colorbar": {
              "outlinewidth": 0,
              "ticks": ""
             }
            },
            "type": "scattergeo"
           }
          ],
          "scattergl": [
           {
            "marker": {
             "colorbar": {
              "outlinewidth": 0,
              "ticks": ""
             }
            },
            "type": "scattergl"
           }
          ],
          "scattermap": [
           {
            "marker": {
             "colorbar": {
              "outlinewidth": 0,
              "ticks": ""
             }
            },
            "type": "scattermap"
           }
          ],
          "scattermapbox": [
           {
            "marker": {
             "colorbar": {
              "outlinewidth": 0,
              "ticks": ""
             }
            },
            "type": "scattermapbox"
           }
          ],
          "scatterpolar": [
           {
            "marker": {
             "colorbar": {
              "outlinewidth": 0,
              "ticks": ""
             }
            },
            "type": "scatterpolar"
           }
          ],
          "scatterpolargl": [
           {
            "marker": {
             "colorbar": {
              "outlinewidth": 0,
              "ticks": ""
             }
            },
            "type": "scatterpolargl"
           }
          ],
          "scatterternary": [
           {
            "marker": {
             "colorbar": {
              "outlinewidth": 0,
              "ticks": ""
             }
            },
            "type": "scatterternary"
           }
          ],
          "surface": [
           {
            "colorbar": {
             "outlinewidth": 0,
             "ticks": ""
            },
            "colorscale": [
             [
              0,
              "#0d0887"
             ],
             [
              0.1111111111111111,
              "#46039f"
             ],
             [
              0.2222222222222222,
              "#7201a8"
             ],
             [
              0.3333333333333333,
              "#9c179e"
             ],
             [
              0.4444444444444444,
              "#bd3786"
             ],
             [
              0.5555555555555556,
              "#d8576b"
             ],
             [
              0.6666666666666666,
              "#ed7953"
             ],
             [
              0.7777777777777778,
              "#fb9f3a"
             ],
             [
              0.8888888888888888,
              "#fdca26"
             ],
             [
              1,
              "#f0f921"
             ]
            ],
            "type": "surface"
           }
          ],
          "table": [
           {
            "cells": {
             "fill": {
              "color": "#EBF0F8"
             },
             "line": {
              "color": "white"
             }
            },
            "header": {
             "fill": {
              "color": "#C8D4E3"
             },
             "line": {
              "color": "white"
             }
            },
            "type": "table"
           }
          ]
         },
         "layout": {
          "annotationdefaults": {
           "arrowcolor": "#2a3f5f",
           "arrowhead": 0,
           "arrowwidth": 1
          },
          "autotypenumbers": "strict",
          "coloraxis": {
           "colorbar": {
            "outlinewidth": 0,
            "ticks": ""
           }
          },
          "colorscale": {
           "diverging": [
            [
             0,
             "#8e0152"
            ],
            [
             0.1,
             "#c51b7d"
            ],
            [
             0.2,
             "#de77ae"
            ],
            [
             0.3,
             "#f1b6da"
            ],
            [
             0.4,
             "#fde0ef"
            ],
            [
             0.5,
             "#f7f7f7"
            ],
            [
             0.6,
             "#e6f5d0"
            ],
            [
             0.7,
             "#b8e186"
            ],
            [
             0.8,
             "#7fbc41"
            ],
            [
             0.9,
             "#4d9221"
            ],
            [
             1,
             "#276419"
            ]
           ],
           "sequential": [
            [
             0,
             "#0d0887"
            ],
            [
             0.1111111111111111,
             "#46039f"
            ],
            [
             0.2222222222222222,
             "#7201a8"
            ],
            [
             0.3333333333333333,
             "#9c179e"
            ],
            [
             0.4444444444444444,
             "#bd3786"
            ],
            [
             0.5555555555555556,
             "#d8576b"
            ],
            [
             0.6666666666666666,
             "#ed7953"
            ],
            [
             0.7777777777777778,
             "#fb9f3a"
            ],
            [
             0.8888888888888888,
             "#fdca26"
            ],
            [
             1,
             "#f0f921"
            ]
           ],
           "sequentialminus": [
            [
             0,
             "#0d0887"
            ],
            [
             0.1111111111111111,
             "#46039f"
            ],
            [
             0.2222222222222222,
             "#7201a8"
            ],
            [
             0.3333333333333333,
             "#9c179e"
            ],
            [
             0.4444444444444444,
             "#bd3786"
            ],
            [
             0.5555555555555556,
             "#d8576b"
            ],
            [
             0.6666666666666666,
             "#ed7953"
            ],
            [
             0.7777777777777778,
             "#fb9f3a"
            ],
            [
             0.8888888888888888,
             "#fdca26"
            ],
            [
             1,
             "#f0f921"
            ]
           ]
          },
          "colorway": [
           "#636efa",
           "#EF553B",
           "#00cc96",
           "#ab63fa",
           "#FFA15A",
           "#19d3f3",
           "#FF6692",
           "#B6E880",
           "#FF97FF",
           "#FECB52"
          ],
          "font": {
           "color": "#2a3f5f"
          },
          "geo": {
           "bgcolor": "white",
           "lakecolor": "white",
           "landcolor": "#E5ECF6",
           "showlakes": true,
           "showland": true,
           "subunitcolor": "white"
          },
          "hoverlabel": {
           "align": "left"
          },
          "hovermode": "closest",
          "mapbox": {
           "style": "light"
          },
          "paper_bgcolor": "white",
          "plot_bgcolor": "#E5ECF6",
          "polar": {
           "angularaxis": {
            "gridcolor": "white",
            "linecolor": "white",
            "ticks": ""
           },
           "bgcolor": "#E5ECF6",
           "radialaxis": {
            "gridcolor": "white",
            "linecolor": "white",
            "ticks": ""
           }
          },
          "scene": {
           "xaxis": {
            "backgroundcolor": "#E5ECF6",
            "gridcolor": "white",
            "gridwidth": 2,
            "linecolor": "white",
            "showbackground": true,
            "ticks": "",
            "zerolinecolor": "white"
           },
           "yaxis": {
            "backgroundcolor": "#E5ECF6",
            "gridcolor": "white",
            "gridwidth": 2,
            "linecolor": "white",
            "showbackground": true,
            "ticks": "",
            "zerolinecolor": "white"
           },
           "zaxis": {
            "backgroundcolor": "#E5ECF6",
            "gridcolor": "white",
            "gridwidth": 2,
            "linecolor": "white",
            "showbackground": true,
            "ticks": "",
            "zerolinecolor": "white"
           }
          },
          "shapedefaults": {
           "line": {
            "color": "#2a3f5f"
           }
          },
          "ternary": {
           "aaxis": {
            "gridcolor": "white",
            "linecolor": "white",
            "ticks": ""
           },
           "baxis": {
            "gridcolor": "white",
            "linecolor": "white",
            "ticks": ""
           },
           "bgcolor": "#E5ECF6",
           "caxis": {
            "gridcolor": "white",
            "linecolor": "white",
            "ticks": ""
           }
          },
          "title": {
           "x": 0.05
          },
          "xaxis": {
           "automargin": true,
           "gridcolor": "white",
           "linecolor": "white",
           "ticks": "",
           "title": {
            "standoff": 15
           },
           "zerolinecolor": "white",
           "zerolinewidth": 2
          },
          "yaxis": {
           "automargin": true,
           "gridcolor": "white",
           "linecolor": "white",
           "ticks": "",
           "title": {
            "standoff": 15
           },
           "zerolinecolor": "white",
           "zerolinewidth": 2
          }
         }
        },
        "xaxis": {
         "anchor": "y",
         "constrain": "domain",
         "domain": [
          0,
          1
         ],
         "scaleanchor": "y"
        },
        "yaxis": {
         "anchor": "x",
         "autorange": "reversed",
         "constrain": "domain",
         "domain": [
          0,
          1
         ]
        }
       }
      }
     },
     "metadata": {},
     "output_type": "display_data"
    }
   ],
   "source": [
    "sub_df = df_planets_scaled[['orbital_period','distance','mass']]\n",
    "\n",
    "corr_mat = sub_df.corr()\n",
    "\n",
    "px.imshow(corr_mat, text_auto=True, color_continuous_scale='Viridis').show()"
   ]
  },
  {
   "cell_type": "markdown",
   "metadata": {},
   "source": [
    "✏️ **Answer**\n",
    "\n",
    "So I hope the story I tried to tell is evident. The radial veloctiy method is a reliable method for planet analysis. It accounts for the strongest majority of a complete dataset. It had an approximate 5 year 'retirement' but since then it has been used repeatedly up to 2014. The method seems to be adept at identifying below average orbital period and distance stars. After this exploratory analysis I am left with with the question of \"why do we consider other methods than radial velocity?\""
   ]
  },
  {
   "cell_type": "markdown",
   "metadata": {},
   "source": [
    "____\n",
    "\n",
    "## <font color=#00BBFF>  Problem #3 - Projects (10 points) </font>\n",
    "\n",
    "It is time to start working on your project!\n",
    "\n",
    "Read the instructions on projects given in D2L and Teams so that you are very familiar with the plan. As always, please contact us on Teams with any questions that arise!\n",
    "\n",
    "In a cell below, write your current ideas for your project. I would like this to come from you on a topic what is of interest to you. Answer these questions:\n",
    "* what topics are you interested in?\n",
    "* do you already have a dataset you want to work with?\n",
    "* if not, explore datasets online to see if you can find several that might work\n",
    "    - as we have seen, there are datasets in some of the standard Python libraries (e.g., Seaborn, sklearn, Pandas), but there are also repos like [this one](https://archive.ics.uci.edu)\n",
    "* identify a definite dataset you want to work with for the next few weeks - you will be able to change it; in fact, you might find it can't do what you hope and you will have to change it\n",
    "* discuss the dataset(s) you found and what you think they can do for you: it is important that there is a narrative, a purpose, a story\n",
    "* from what you know today, what visualizations and interactive elements might you use in your app?\n",
    "\n",
    "Give as many details as you can. And, if you have any concerns, discuss those as well. We need to think about risk mitigation because in data science we don't always have the data we wish we did. \n",
    "\n"
   ]
  },
  {
   "cell_type": "markdown",
   "metadata": {},
   "source": [
    "✏️ **Answer**\n",
    "\n",
    "I am interested in physics primarily. For this reason I think astronomy datasets would be the direction to go in. There are a couple of places to look for data, like MUSES, NASA, ICE CUBE, etc.. Unfortunately, I think of two reasons why this might not work.\n",
    "\n",
    "1] Astronomy/physics datasets are more complex and may require additional thinking than other datasets.\n",
    "\n",
    "2] Many datasets are repeats of others. That is, we are typically interested in the same measurable quantities or we are limited in what we can measure. Therefore, we may get stuck with highly similar datasets.\n",
    "\n",
    "With this in mind I am thinking of going down the sports or finance route. There are a number of datasets online that could be interesting. I see from the UC Irvine repos two datasets; online retail, and default of credit card clients. My intuition here is that I could tell a story that links the frequency and extent of online shopping with creditor performance. I'm envisioning the use of many scatter plots to show correlations, a correlation coefficient heat map, maybe a clustering of reduced features that would demonstrate clustering in the reduced features, some form of regression to show the behaviour of online shopping with creditor profile. Of course, these plots could be interactive as well!"
   ]
  },
  {
   "cell_type": "markdown",
   "metadata": {},
   "source": [
    "____\n",
    "\n",
    "## <font color=#00BBFF>  Problem #4 - Chapter 3 (10 points) </font>\n",
    "\n",
    "Read Chapter 3 in your textbook. In a markdown cell, summarize your favorite story told in the chapter and discuss why it clearly illustrates the notion of causality to you. \n",
    "\n",
    "Next, go to [this webpage](https://www.tylervigen.com/spurious-correlations). Find the page **Discover a correlation** and scroll down to find a topic of interest to you; for example, **Google searches**. Click on one and then find something below it to correlate it with. Create the funniest pairing you can and write a short paragraph to make it seem real. There will be a channel on Teams, Spurious Correlation, where you can post your result, if you wish. Put the paragraph first, and then the plot that \"proves\" your hypothesis. \n",
    "\n",
    "Here is an example:"
   ]
  },
  {
   "cell_type": "markdown",
   "metadata": {},
   "source": [
    "✏️ **Answer**\n",
    "\n",
    "I enjoyed most the discussion regarding the firefighters. My personal exposure to the relationship between correlation and causation has been primarily one-sided. That is, I have the addage, 'correlation does not imply causation.' ingrained into me because of how common a pitfall it is to people. However, I had not really considered the inverse, 'causation need not imply correlation.' This was perfectly encapulated by the correlation of firefighters and fire damage to houses. Of course, firefighters go to fires and larger fires require more firefighters but the notion that any one particular fire having more firefighters assisting than on average is not enough evidence to support the prediction that one's house will therefore have more fire damage."
   ]
  },
  {
   "cell_type": "markdown",
   "metadata": {},
   "source": [
    "#### The cooling relief of Saturn's rings\n",
    "\n",
    "The farther we are away from Saturn's rings the less they soothe us from headaches. Saturn is the 6th planet from our Sun and possesses concentric rings which are composed mainly of ice. A common form of relief for headaches involves wetting a rag with cool water and letting the rag rest on one's head. A recent joint research study of medical research and astronomy departments reveal that Saturn's rings provide a 'blanket' of protection from minor headaches worldwide. This effect dwindles as Saturn increases its distance from us. This revelation has prompted some pharmaceutical companies to lobby NASA to bring Saturn into closer proximity to the Earth. These facts are supported via the data,"
   ]
  },
  {
   "cell_type": "markdown",
   "metadata": {},
   "source": [
    "![marg](https://www.tylervigen.com/spurious/correlation/image/37009_the-distance-between-saturn-and-earth_correlates-with_google-searches-for-headache-remedies.png)"
   ]
  },
  {
   "cell_type": "markdown",
   "metadata": {},
   "source": [
    "\n",
    "#### Pychological Effects of Margarine\n",
    "\n",
    "Margarine consumption causes couples to move further apart. We suspect that the slick, oily texture of margarine has a psychological effect, subtly eroding the bonds of marriage over time because meals have drifted away from slow and healthy meals to quick meals alone.\n",
    "\n",
    "Some psychologists even theorize that margarine, being a processed substitute for butter, symbolizes a deeper discontent in the lives of those who consume it—perhaps a reflection of emotional substitutes in relationships. The message is clear: _If you love your spouse, stay away from margarine!_\n",
    "\n",
    "With this discovery, today we are launching a public health campaign: \"**Save Your Marriage, Skip the Margarine**.\" Margarine joins the ranks of other known relationship stressors like long commutes, financial woes, and reality TV shows.\n",
    "\n",
    "You’ve heard the facts:  here's the data: \n",
    "\n",
    "\n",
    "![marg](https://tylervigen.com/spurious/correlation/image/5920_per-capita-consumption-of-margarine_correlates-with_the-divorce-rate-in-maine.svg)\n"
   ]
  },
  {
   "cell_type": "markdown",
   "metadata": {},
   "source": [
    "____\n",
    "\n",
    "![color](https://miro.medium.com/v2/resize:fit:800/0*-t4uEHHRgeJ8w-wx.png))\n",
    "\n",
    "## <font color=#00BBFF> Problem #5 Understanding Color (0 pts) </font>\n",
    "\n",
    "This problem does not have any points. It is for your own personal curiosity. Watch this video. \n",
    "\n"
   ]
  },
  {
   "cell_type": "code",
   "execution_count": 15,
   "metadata": {},
   "outputs": [
    {
     "data": {
      "image/jpeg": "[encoded data removed]",
      "text/html": [
       "\n",
       "        <iframe\n",
       "            width=\"560\"\n",
       "            height=\"315\"\n",
       "            src=\"https://www.youtube.com/embed/xAoljeRJ3lU\"\n",
       "            frameborder=\"0\"\n",
       "            allowfullscreen\n",
       "            \n",
       "        ></iframe>\n",
       "        "
      ],
      "text/plain": [
       "<IPython.lib.display.YouTubeVideo at 0x78804bbccfe0>"
      ]
     },
     "execution_count": 15,
     "metadata": {},
     "output_type": "execute_result"
    }
   ],
   "source": [
    "from IPython.display import YouTubeVideo\n",
    "video_id = \"xAoljeRJ3lU\"\n",
    "YouTubeVideo(video_id, width=560, height=315)"
   ]
  },
  {
   "cell_type": "markdown",
   "metadata": {},
   "source": [
    "---\n",
    "## Congratulations, you're done!\n",
    "\n",
    "### 🛑 IMPORTANT: Before Submission\n",
    "\n",
    "**STOP!** Before submitting your notebook, please follow these steps:\n",
    "\n",
    "### Step 1: Restart Your Kernel\n",
    "\n",
    "**Jupyter Notebook (Classic):**\n",
    "- Go to `Kernel` → `Restart & Clear Output`\n",
    "\n",
    "**JupyterLab:**\n",
    "- Go to `Kernel` → `Restart Kernel and Clear All Outputs...`\n",
    "\n",
    "**VS Code:**\n",
    "- Open Command Palette (`Ctrl+Shift+P` / `Cmd+Shift+P`)\n",
    "- Type \"Jupyter: Restart\" and select `Jupyter: Restart`\n",
    "- Then select `Clear All Output`\n",
    "\n",
    "**PyCharm:**\n",
    "- Go to `Run` → `Restart Kernel` (or click the restart button in the toolbar)\n",
    "- Go to `Cell` → `All Output` → `Clear`\n",
    "\n",
    "### Step 2: Run All Cells\n",
    "\n",
    "**Jupyter Notebook (Classic):**\n",
    "- Go to `Cell` → `Run All`\n",
    "\n",
    "**JupyterLab:**\n",
    "- Go to `Run` → `Run All Cells`\n",
    "\n",
    "**VS Code:**\n",
    "- Open Command Palette (`Ctrl+Shift+P` / `Cmd+Shift+P`)\n",
    "- Type \"Jupyter: Run All\" and select `Jupyter: Run All Cells`\n",
    "\n",
    "**PyCharm:**\n",
    "- Go to `Cell` → `Run All` (or use `Ctrl+Shift+F10` / `Cmd+Shift+R`)\n",
    "\n",
    "### Step 3: Verify Everything Works\n",
    "\n",
    "Check that all cells execute without errors and produce the expected output\n",
    "\n",
    "This ensures that your notebook will run correctly when graded and that you haven't missed any dependencies or variable definitions that might exist only in your current session.\n",
    "\n",
    "*Your submission will be tested in a fresh environment, so this step is crucial for full credit!*\n",
    "\n",
    "\n",
    "### Step 4: Submit \n",
    "Submit this assignment by uploading your notebook to the course Desire2Learn web page.  Go to the \"Homework\" folder, find the appropriate submission link, and upload everything there. Make sure your name is on it!\n"
   ]
  },
  {
   "cell_type": "markdown",
   "metadata": {},
   "source": [
    "&#169; Copyright 2025, Department of Computational Mathematics, Science and Engineering at Michigan State University."
   ]
  }
 ],
 "metadata": {
  "kernelspec": {
   "display_name": ".venv_fds",
   "language": "python",
   "name": "python3"
  },
  "language_info": {
   "codemirror_mode": {
    "name": "ipython",
    "version": 3
   },
   "file_extension": ".py",
   "mimetype": "text/x-python",
   "name": "python",
   "nbconvert_exporter": "python",
   "pygments_lexer": "ipython3",
   "version": "3.12.3"
  }
 },
 "nbformat": 4,
 "nbformat_minor": 2
}
