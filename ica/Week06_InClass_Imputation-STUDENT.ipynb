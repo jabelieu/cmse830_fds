{
 "cells": [
  {
   "cell_type": "markdown",
   "metadata": {},
   "source": [
    "Group Names : "
   ]
  },
  {
   "cell_type": "markdown",
   "metadata": {},
   "source": [
    "Belieu, Joshua, Alan; Nicholson, Joshua, David; Akgun, Batu; Labombard, Ethan, Joseph;\n",
    "\n",
    "Richards, Ethan, Cooper; Ousmanov, Dennis, Phillip;\n"
   ]
  },
  {
   "cell_type": "markdown",
   "metadata": {},
   "source": [
    "\n",
    "<div style=\"width: 100%; max-width: 100%; background-color: #f0f0f0; border: 2px solid #333; border-radius: 10px; padding: 20px; font-family: Arial, sans-serif; box-sizing: border-box;\">\n",
    "  <h2 style=\"color: #18453B; text-align: center;\">Week 06: In Class Assignment<br>Imputation of the Planets Dataset</h2>\n",
    "  \n",
    "  <p style=\"color: #34495e; line-height: 1.6;\">\n",
    "    This ICA is one that requires both careful timing and has a presentation at the end. This would be a good time to read the notebook below entirely and make a plan! Let's try to have all of us out of here by 9:45! \n",
    "  </p>\n",
    "  \n",
    "  <div style=\"background-color: #6FC276; color: white; padding: 10px; margin-top: 20px; text-align: center; border-radius: 5px;\">\n",
    "    <strong>Tip:</strong> Plan carefully!\n",
    "  </div>\n",
    "</div>"
   ]
  },
  {
   "cell_type": "markdown",
   "metadata": {},
   "source": [
    "Your group will impute the planets dataset using one method and you will work together as a team to conclude with a presentation to two other groups. Note that today there are $9$ groups. \n",
    "\n",
    "which imputation method will you use? You will decide on the method for your group using this pattern:\n",
    "\n",
    "<font color=\"#18953B\">\n",
    "\n",
    "{KNN, regression, MICE, KNN, regression, MICE, KNN, regression, MICE} [match method with next pattern]\n",
    "\n",
    "{1, 2, 3, 4, 5, 6, 7, 8, 9} [match group with previous pattern]\n",
    "\n",
    "{{1, 2, 3}, {4, 5, 6}, {7, 8, 9}} [which groups present to each other]\n",
    "</font>\n",
    "\n",
    "The general instructions are:\n",
    "* learn the method assigned to your group very well\n",
    "* apply the method to the planets dataset\n",
    "* study and optimize the method to get the best results you can\n",
    "* write a lecture on everything you did and learned that will take $6-8$ minutes to deliver on your white board\n",
    "    - you might fill out the whiteboard as you work\n",
    "* get some markers and present your lecture to the other two groups in your subset: all groups learn all three methods\n",
    "* rotate through the three groups in your subset\n",
    "* summarize your findings in a markdown cell\n",
    "\n",
    "How much time will this take? We have $80$ minutes and the presentations will take $18-24$ minutes. Where will you put the remaining $50$? About $10$ minutes will be used for reading this and making a plan with your group. Writing the lecture is about $10$ minutes if you save it for the end. That leaves $30$ minutes to learn, run and optimize your method. I have given you helper code to get you started as quickly as possible. "
   ]
  },
  {
   "cell_type": "markdown",
   "metadata": {},
   "source": [
    "\n",
    "<div style=\"width: 100%; max-width: 100%; background-color: #fefefe; border: 1px solid #333; border-radius: 10px; padding: 20px; font-family: Arial, sans-serif; box-sizing: border-box;\">\n",
    "  <h3 style=\"color: #2c3e50; text-align: center;\">K Nearest Neighbors</h2>\n",
    "  \n",
    "  <p style=\"color: #34495e; line-height: 1.6;\">\n",
    "    You are Team KNN. \n",
    "  </p>\n",
    "</div>"
   ]
  },
  {
   "cell_type": "markdown",
   "metadata": {},
   "source": [
    "Congratulations on being selected for Team KNN! This is the best of the three teams! Congrats, your method will be the best of the three. \n",
    "\n",
    "Your tasks are very simple:\n",
    "* write a Python code to read in the planets dataset\n",
    "* impute the missing values with a KNN library\n",
    "* [learn about the library](https://scikit-learn.org/stable/modules/generated/sklearn.impute.KNNImputer.html); teach this to the other two groups later\n",
    "* write a lecture on your whiteboard (recommended to do this as you work)\n",
    "* give the lecture to two other groups (at the same time), starting around 9:20\n",
    "* listen to their lectures\n",
    "* summarize your comparisons among the three methods; what are the pros and cons of each method?\n",
    "\n",
    "Here is some helper code to get you started; change/fix it as needed. Be sure to involve all of your group members in this effort! You might assign group members to:\n",
    "* write the lecture on KNN\n",
    "* gather information for the summary you will write and putting your group members names in the one notebook you will upload\n",
    "* dig through [the docs](https://scikit-learn.org/stable/modules/generated/sklearn.impute.KNNImputer.html) to understand all of the options of this library (`weights`? `metric`? `n_neighbors`?)\n"
   ]
  },
  {
   "cell_type": "code",
   "execution_count": null,
   "metadata": {},
   "outputs": [],
   "source": [
    "import pandas as pd\n",
    "import numpy as np\n",
    "import matplotlib.pyplot as plt\n",
    "import seaborn as sns\n",
    "from sklearn.impute import KNNImputer\n",
    "from sklearn.preprocessing import StandardScaler\n",
    "from sklearn.model_selection import train_test_split\n",
    "\n",
    "# Load the dataset\n",
    "planets = sns.load_dataset('planets')\n",
    "\n",
    "# Display basic information about the dataset\n",
    "print(planets.info())\n",
    "\n",
    "# Create a heatmap to visualize missing values\n",
    "plt.figure(figsize=(8, 4))\n",
    "sns.heatmap(planets.isnull(), cbar=False, yticklabels=False, cmap='viridis')\n",
    "plt.title('Missing Values in Planets Dataset')\n",
    "plt.tight_layout()\n",
    "plt.show()\n",
    "\n",
    "# select numeric columns for imputation\n",
    "numeric_columns = planets.select_dtypes(include=[np.number]).columns\n",
    "planets_numeric = planets[numeric_columns]\n",
    "\n",
    "# split the data into a set with missing values and a set without\n",
    "planets_with_missing = planets_numeric[planets_numeric.isnull().any(axis=1)]\n",
    "planets_without_missing = planets_numeric.dropna()\n",
    "\n",
    "# prepare the data for KNN imputation\n",
    "scaler = StandardScaler()\n",
    "planets_scaled = pd.DataFrame(scaler.fit_transform(planets_without_missing), columns=planets_without_missing.columns)\n",
    "\n",
    "# initialize and fit KNN imputer\n",
    "imputer = KNNImputer(n_neighbors=5)\n",
    "imputer.fit(planets_scaled)\n",
    "\n",
    "# function to impute and inverse transform the data\n",
    "def impute_and_inverse_transform(data):\n",
    "    # Ensure 'data' is always a DataFrame with proper column names\n",
    "    scaled_data = pd.DataFrame(scaler.transform(data), columns=data.columns, index=data.index)\n",
    "    imputed_scaled = imputer.transform(scaled_data)\n",
    "    return pd.DataFrame(scaler.inverse_transform(imputed_scaled), columns=data.columns, index=data.index)\n",
    "\n",
    "# impute missing values\n",
    "planets_imputed = impute_and_inverse_transform(planets_numeric)\n",
    "\n",
    "# compare original and imputed data for a specific column (e.g., 'mass')\n",
    "plt.figure(figsize=(8, 4))\n",
    "sns.histplot(planets_numeric['mass'].dropna(), kde=True, color='blue', alpha=0.5, label='Original (non-missing)')\n",
    "sns.histplot(planets_imputed.loc[planets_numeric['mass'].isnull(), 'mass'], kde=True, color='red', alpha=0.5, label='Imputed')\n",
    "plt.title('Distribution of Original vs Imputed Mass')\n",
    "plt.legend()\n",
    "plt.show()\n",
    "\n",
    "# print some statistics\n",
    "print(\"\\nOriginal data statistics:\")\n",
    "print(planets_numeric['mass'].describe())\n",
    "print(\"\\nImputed data statistics:\")\n",
    "print(planets_imputed['mass'].describe())"
   ]
  },
  {
   "cell_type": "markdown",
   "metadata": {},
   "source": [
    "\n",
    "<div style=\"width: 100%; max-width: 100%; background-color: #fefefe; border: 1px solid #333; border-radius: 10px; padding: 20px; font-family: Arial, sans-serif; box-sizing: border-box;\">\n",
    "  <h3 style=\"color: #2c3e50; text-align: center;\">Stochastic Regression</h2>\n",
    "  \n",
    "  <p style=\"color: #34495e; line-height: 1.6;\">\n",
    "    You are Team Stochastic Regression. \n",
    "  </p>\n",
    "  \n",
    "  <!-- <div style=\"background-color: #6FC276; color: white; padding: 10px; margin-top: 20px; text-align: center; border-radius: 5px;\">\n",
    "    <strong>Tip:</strong> Plan carefully!\n",
    "  </div> -->\n",
    "</div>"
   ]
  },
  {
   "cell_type": "markdown",
   "metadata": {},
   "source": [
    "Congratulations on being selected for Team Stochastic Regression! This is the best of the three teams! Congrats, your method will be the best of the three. \n",
    "\n",
    "Your tasks are very simple:\n",
    "* write a Python code to read in the planets dataset\n",
    "* impute the missing values with stochastic regression\n",
    "* as you work, write a lecture on your whiteboard so that you can show two other groups what you learned\n",
    "* luckily for you, we covered this in class and you took extremely careful notes! unfortunately, there isn't a library (that I know of) for this method\n",
    "* present your findings to the other two groups starting at 9:20\n",
    "\n",
    "Here is some helper code to get you started. Be sure to involve all of your group members in this effort! You might assign:\n",
    "* people writing the lecture on stochastic regression\n",
    "* people gathering information for the summary you will write and putting your group members names in the one notebook you will upload\n",
    "* assign a viz person or two: what plots do you want? correlation heatmaps?\n",
    "* writing the code, making visualizations, varying parameters, iterating\n",
    "\n",
    "I have a little code here to help Team Stochastic Regression get started! Feel free to start from scratch or modify in any way; you might not like what my version does! "
   ]
  },
  {
   "cell_type": "code",
   "execution_count": 1,
   "metadata": {},
   "outputs": [
    {
     "name": "stdout",
     "output_type": "stream",
     "text": [
      "<class 'pandas.core.frame.DataFrame'>\n",
      "RangeIndex: 1035 entries, 0 to 1034\n",
      "Data columns (total 6 columns):\n",
      " #   Column          Non-Null Count  Dtype  \n",
      "---  ------          --------------  -----  \n",
      " 0   method          1035 non-null   object \n",
      " 1   number          1035 non-null   int64  \n",
      " 2   orbital_period  992 non-null    float64\n",
      " 3   mass            513 non-null    float64\n",
      " 4   distance        808 non-null    float64\n",
      " 5   year            1035 non-null   int64  \n",
      "dtypes: float64(3), int64(2), object(1)\n",
      "memory usage: 48.6+ KB\n"
     ]
    },
    {
     "data": {
      "text/plain": [
       "None"
      ]
     },
     "metadata": {},
     "output_type": "display_data"
    },
    {
     "data": {
      "text/html": [
       "<div>\n",
       "<style scoped>\n",
       "    .dataframe tbody tr th:only-of-type {\n",
       "        vertical-align: middle;\n",
       "    }\n",
       "\n",
       "    .dataframe tbody tr th {\n",
       "        vertical-align: top;\n",
       "    }\n",
       "\n",
       "    .dataframe thead th {\n",
       "        text-align: right;\n",
       "    }\n",
       "</style>\n",
       "<table border=\"1\" class=\"dataframe\">\n",
       "  <thead>\n",
       "    <tr style=\"text-align: right;\">\n",
       "      <th></th>\n",
       "      <th>number</th>\n",
       "      <th>orbital_period</th>\n",
       "      <th>mass</th>\n",
       "      <th>distance</th>\n",
       "      <th>year</th>\n",
       "    </tr>\n",
       "  </thead>\n",
       "  <tbody>\n",
       "    <tr>\n",
       "      <th>count</th>\n",
       "      <td>1035.000000</td>\n",
       "      <td>992.000000</td>\n",
       "      <td>513.000000</td>\n",
       "      <td>808.000000</td>\n",
       "      <td>1035.000000</td>\n",
       "    </tr>\n",
       "    <tr>\n",
       "      <th>mean</th>\n",
       "      <td>1.785507</td>\n",
       "      <td>2002.917596</td>\n",
       "      <td>2.638161</td>\n",
       "      <td>264.069282</td>\n",
       "      <td>2009.070531</td>\n",
       "    </tr>\n",
       "    <tr>\n",
       "      <th>std</th>\n",
       "      <td>1.240976</td>\n",
       "      <td>26014.728304</td>\n",
       "      <td>3.818617</td>\n",
       "      <td>733.116493</td>\n",
       "      <td>3.972567</td>\n",
       "    </tr>\n",
       "    <tr>\n",
       "      <th>min</th>\n",
       "      <td>1.000000</td>\n",
       "      <td>0.090706</td>\n",
       "      <td>0.003600</td>\n",
       "      <td>1.350000</td>\n",
       "      <td>1989.000000</td>\n",
       "    </tr>\n",
       "    <tr>\n",
       "      <th>25%</th>\n",
       "      <td>1.000000</td>\n",
       "      <td>5.442540</td>\n",
       "      <td>0.229000</td>\n",
       "      <td>32.560000</td>\n",
       "      <td>2007.000000</td>\n",
       "    </tr>\n",
       "    <tr>\n",
       "      <th>50%</th>\n",
       "      <td>1.000000</td>\n",
       "      <td>39.979500</td>\n",
       "      <td>1.260000</td>\n",
       "      <td>55.250000</td>\n",
       "      <td>2010.000000</td>\n",
       "    </tr>\n",
       "    <tr>\n",
       "      <th>75%</th>\n",
       "      <td>2.000000</td>\n",
       "      <td>526.005000</td>\n",
       "      <td>3.040000</td>\n",
       "      <td>178.500000</td>\n",
       "      <td>2012.000000</td>\n",
       "    </tr>\n",
       "    <tr>\n",
       "      <th>max</th>\n",
       "      <td>7.000000</td>\n",
       "      <td>730000.000000</td>\n",
       "      <td>25.000000</td>\n",
       "      <td>8500.000000</td>\n",
       "      <td>2014.000000</td>\n",
       "    </tr>\n",
       "  </tbody>\n",
       "</table>\n",
       "</div>"
      ],
      "text/plain": [
       "            number  orbital_period        mass     distance         year\n",
       "count  1035.000000      992.000000  513.000000   808.000000  1035.000000\n",
       "mean      1.785507     2002.917596    2.638161   264.069282  2009.070531\n",
       "std       1.240976    26014.728304    3.818617   733.116493     3.972567\n",
       "min       1.000000        0.090706    0.003600     1.350000  1989.000000\n",
       "25%       1.000000        5.442540    0.229000    32.560000  2007.000000\n",
       "50%       1.000000       39.979500    1.260000    55.250000  2010.000000\n",
       "75%       2.000000      526.005000    3.040000   178.500000  2012.000000\n",
       "max       7.000000   730000.000000   25.000000  8500.000000  2014.000000"
      ]
     },
     "execution_count": 1,
     "metadata": {},
     "output_type": "execute_result"
    }
   ],
   "source": [
    "import seaborn as sns\n",
    "import pandas as pd\n",
    "\n",
    "# Load the planets dataset\n",
    "planets = sns.load_dataset('planets')\n",
    "\n",
    "# Explore the dataset\n",
    "display(planets.info())\n",
    "planets.describe()"
   ]
  },
  {
   "cell_type": "markdown",
   "metadata": {},
   "source": [
    "Look at the first row: `count`. We need a clean version of this so that we can perform the regression. Let's make that now."
   ]
  },
  {
   "cell_type": "code",
   "execution_count": 2,
   "metadata": {},
   "outputs": [],
   "source": [
    "# here is where it makes sense to use dropna()!\n",
    "planets_clean = planets.dropna()"
   ]
  },
  {
   "cell_type": "markdown",
   "metadata": {},
   "source": [
    "Let's see what we got:"
   ]
  },
  {
   "cell_type": "code",
   "execution_count": 3,
   "metadata": {},
   "outputs": [
    {
     "data": {
      "text/html": [
       "<div>\n",
       "<style scoped>\n",
       "    .dataframe tbody tr th:only-of-type {\n",
       "        vertical-align: middle;\n",
       "    }\n",
       "\n",
       "    .dataframe tbody tr th {\n",
       "        vertical-align: top;\n",
       "    }\n",
       "\n",
       "    .dataframe thead th {\n",
       "        text-align: right;\n",
       "    }\n",
       "</style>\n",
       "<table border=\"1\" class=\"dataframe\">\n",
       "  <thead>\n",
       "    <tr style=\"text-align: right;\">\n",
       "      <th></th>\n",
       "      <th>number</th>\n",
       "      <th>orbital_period</th>\n",
       "      <th>mass</th>\n",
       "      <th>distance</th>\n",
       "      <th>year</th>\n",
       "    </tr>\n",
       "  </thead>\n",
       "  <tbody>\n",
       "    <tr>\n",
       "      <th>count</th>\n",
       "      <td>498.00000</td>\n",
       "      <td>498.000000</td>\n",
       "      <td>498.000000</td>\n",
       "      <td>498.000000</td>\n",
       "      <td>498.000000</td>\n",
       "    </tr>\n",
       "    <tr>\n",
       "      <th>mean</th>\n",
       "      <td>1.73494</td>\n",
       "      <td>835.778671</td>\n",
       "      <td>2.509320</td>\n",
       "      <td>52.068213</td>\n",
       "      <td>2007.377510</td>\n",
       "    </tr>\n",
       "    <tr>\n",
       "      <th>std</th>\n",
       "      <td>1.17572</td>\n",
       "      <td>1469.128259</td>\n",
       "      <td>3.636274</td>\n",
       "      <td>46.596041</td>\n",
       "      <td>4.167284</td>\n",
       "    </tr>\n",
       "    <tr>\n",
       "      <th>min</th>\n",
       "      <td>1.00000</td>\n",
       "      <td>1.328300</td>\n",
       "      <td>0.003600</td>\n",
       "      <td>1.350000</td>\n",
       "      <td>1989.000000</td>\n",
       "    </tr>\n",
       "    <tr>\n",
       "      <th>25%</th>\n",
       "      <td>1.00000</td>\n",
       "      <td>38.272250</td>\n",
       "      <td>0.212500</td>\n",
       "      <td>24.497500</td>\n",
       "      <td>2005.000000</td>\n",
       "    </tr>\n",
       "    <tr>\n",
       "      <th>50%</th>\n",
       "      <td>1.00000</td>\n",
       "      <td>357.000000</td>\n",
       "      <td>1.245000</td>\n",
       "      <td>39.940000</td>\n",
       "      <td>2009.000000</td>\n",
       "    </tr>\n",
       "    <tr>\n",
       "      <th>75%</th>\n",
       "      <td>2.00000</td>\n",
       "      <td>999.600000</td>\n",
       "      <td>2.867500</td>\n",
       "      <td>59.332500</td>\n",
       "      <td>2011.000000</td>\n",
       "    </tr>\n",
       "    <tr>\n",
       "      <th>max</th>\n",
       "      <td>6.00000</td>\n",
       "      <td>17337.500000</td>\n",
       "      <td>25.000000</td>\n",
       "      <td>354.000000</td>\n",
       "      <td>2014.000000</td>\n",
       "    </tr>\n",
       "  </tbody>\n",
       "</table>\n",
       "</div>"
      ],
      "text/plain": [
       "          number  orbital_period        mass    distance         year\n",
       "count  498.00000      498.000000  498.000000  498.000000   498.000000\n",
       "mean     1.73494      835.778671    2.509320   52.068213  2007.377510\n",
       "std      1.17572     1469.128259    3.636274   46.596041     4.167284\n",
       "min      1.00000        1.328300    0.003600    1.350000  1989.000000\n",
       "25%      1.00000       38.272250    0.212500   24.497500  2005.000000\n",
       "50%      1.00000      357.000000    1.245000   39.940000  2009.000000\n",
       "75%      2.00000      999.600000    2.867500   59.332500  2011.000000\n",
       "max      6.00000    17337.500000   25.000000  354.000000  2014.000000"
      ]
     },
     "execution_count": 3,
     "metadata": {},
     "output_type": "execute_result"
    }
   ],
   "source": [
    "planets_clean.describe()"
   ]
  },
  {
   "cell_type": "markdown",
   "metadata": {},
   "source": [
    "With the clean dataset, we need to fit a line. We choose a line because we don't want to overfit. \n",
    "\n",
    "Here we do linear regression using three variables, one dependent and two independent; we are really fitting to a _plane_. This might be unusual for some of you, and we will cover it once we have done linear algebra. This is called **Multiple Linear Regression** and is extremely common in data science and machine learning; much more later in the semester on this......\n"
   ]
  },
  {
   "cell_type": "code",
   "execution_count": 18,
   "metadata": {},
   "outputs": [],
   "source": [
    "from sklearn.linear_model import LinearRegression\n",
    "from sklearn.model_selection import train_test_split\n",
    "\n",
    "# define predictors and target\n",
    "X = planets_clean[['mass', 'distance']]\n",
    "y = planets_clean['orbital_period']\n",
    "\n",
    "# split the data into training and testing sets\n",
    "X_train, X_test, y_train, y_test = train_test_split(X, y, test_size=0.2, random_state=42)\n",
    "\n",
    "# fit a linear regression model\n",
    "linear_model = LinearRegression()\n",
    "linear_model.fit(X_train, y_train)\n",
    "\n",
    "# predict on the test set\n",
    "y_pred = linear_model.predict(X_test)"
   ]
  },
  {
   "cell_type": "markdown",
   "metadata": {},
   "source": [
    "If this were all we did, we would have a good relationship to predict `orbital_period` from _two_ of the other columns: `mass` and `distance`. (We would have done a lot of EDA first to choose which features to use.) We could impute now using this \"line\", which is really a plane, but we need the stochastic part. Consider making a 3D scatter plot, [perhaps using Plotly](https://plotly.com/python/3d-scatter-plots/), that shows this relationship. \n",
    "\n",
    "Make sure you understand this code."
   ]
  },
  {
   "cell_type": "code",
   "execution_count": 19,
   "metadata": {},
   "outputs": [],
   "source": [
    "import numpy as np\n",
    "\n",
    "# Calculate residuals from the training set\n",
    "residuals = y_train - linear_model.predict(X_train)\n",
    "\n",
    "# Estimate the standard deviation of the residuals\n",
    "residual_std = np.std(residuals)\n",
    "\n",
    "# Generate predictions using the original linear model\n",
    "y_pred = linear_model.predict(X_test)\n",
    "\n",
    "# Number of stochastic simulations\n",
    "n_simulations = 100\n",
    "stochastic_predictions = []\n",
    "\n",
    "for i in range(n_simulations):\n",
    "    # Add noise to the final predictions (assuming noise in the outcome)\n",
    "    noise = np.random.normal(0, residual_std, size=y_pred.shape)  # residual_std from previous calculation\n",
    "    stochastic_predictions.append(y_pred + noise)\n",
    "\n",
    "# Convert to numpy array\n",
    "stochastic_predictions = np.array(stochastic_predictions)"
   ]
  },
  {
   "cell_type": "markdown",
   "metadata": {},
   "source": [
    "Let's see what we got. "
   ]
  },
  {
   "cell_type": "code",
   "execution_count": 20,
   "metadata": {},
   "outputs": [
    {
     "data": {
      "image/png": "[encoded data removed]",
      "text/plain": [
       "<Figure size 1000x600 with 1 Axes>"
      ]
     },
     "metadata": {},
     "output_type": "display_data"
    }
   ],
   "source": [
    "import matplotlib.pyplot as plt\n",
    "\n",
    "# Plot stochastic predictions\n",
    "plt.figure(figsize=(10, 6))\n",
    "\n",
    "# Plot actual values\n",
    "plt.scatter(range(len(y_test)), y_test, color='black', label='Actual')\n",
    "\n",
    "# Plot stochastic predictions as a shaded region\n",
    "plt.fill_between(range(len(y_test)), stochastic_predictions.min(axis=0), stochastic_predictions.max(axis=0),\n",
    "                 color='blue', alpha=0.2, label='Stochastic Prediction Range')\n",
    "\n",
    "plt.legend()\n",
    "plt.title('Stochastic Regression: Orbital Period Predictions')\n",
    "plt.xlabel('Sample Index')\n",
    "plt.ylabel('Orbital Period')\n",
    "plt.show()"
   ]
  },
  {
   "cell_type": "code",
   "execution_count": 22,
   "metadata": {},
   "outputs": [
    {
     "data": {
      "text/plain": [
       "Index(['method', 'number', 'orbital_period', 'mass', 'distance', 'year'], dtype='object')"
      ]
     },
     "execution_count": 22,
     "metadata": {},
     "output_type": "execute_result"
    }
   ],
   "source": [
    "planets_clean.columns"
   ]
  },
  {
   "cell_type": "code",
   "execution_count": 26,
   "metadata": {},
   "outputs": [
    {
     "data": {
      "text/plain": [
       "<Axes: >"
      ]
     },
     "execution_count": 26,
     "metadata": {},
     "output_type": "execute_result"
    },
    {
     "data": {
      "image/png": "[encoded data removed]",
      "text/plain": [
       "<Figure size 640x480 with 2 Axes>"
      ]
     },
     "metadata": {},
     "output_type": "display_data"
    }
   ],
   "source": [
    "sns.heatmap(planets_clean[['orbital_period', 'mass', 'distance']].corr(),annot=True)"
   ]
  },
  {
   "cell_type": "code",
   "execution_count": 55,
   "metadata": {},
   "outputs": [
    {
     "data": {
      "image/png": "[encoded data removed]",
      "text/plain": [
       "<Figure size 1000x600 with 1 Axes>"
      ]
     },
     "metadata": {},
     "output_type": "display_data"
    }
   ],
   "source": [
    "from sklearn.linear_model import LinearRegression\n",
    "from sklearn.model_selection import train_test_split\n",
    "\n",
    "# define predictors and target\n",
    "X = planets_clean[['orbital_period', 'distance']]\n",
    "y = planets_clean['mass']\n",
    "\n",
    "# split the data into training and testing sets\n",
    "X_train, X_test, y_train, y_test = train_test_split(X, y, test_size=0.2, random_state=42)\n",
    "\n",
    "# fit a linear regression model\n",
    "linear_model = LinearRegression()\n",
    "linear_model.fit(X_train, y_train)\n",
    "\n",
    "# predict on the test set\n",
    "y_pred = linear_model.predict(X_test)\n",
    "import numpy as np\n",
    "\n",
    "# Calculate residuals from the training set\n",
    "residuals = y_train - linear_model.predict(X_train)\n",
    "\n",
    "# Estimate the standard deviation of the residuals\n",
    "residual_std = np.std(residuals)\n",
    "\n",
    "# Generate predictions using the original linear model\n",
    "y_pred = linear_model.predict(X_test)\n",
    "\n",
    "# Number of stochastic simulations\n",
    "n_simulations = int(1e5)\n",
    "stochastic_predictions = []\n",
    "\n",
    "for i in range(n_simulations):\n",
    "    # Add noise to the final predictions (assuming noise in the outcome)\n",
    "    noise = np.random.normal(0, residual_std, size=y_pred.shape)  # residual_std from previous calculation\n",
    "    stochastic_predictions.append(y_pred + noise)\n",
    "\n",
    "# Convert to numpy array\n",
    "stochastic_predictions = np.array(stochastic_predictions)\n",
    "import matplotlib.pyplot as plt\n",
    "\n",
    "# Plot stochastic predictions\n",
    "# plt.figure(figsize=(10, 6))\n",
    "\n",
    "from mpl_toolkits.mplot3d import Axes3D\n",
    "\n",
    "fig = plt.figure(figsize=(10, 6))\n",
    "ax = fig.add_subplot(111, projection='3d')\n",
    "\n",
    "ax.scatter(X_test['orbital_period'], X_test['distance'], y_test, color='black', label='Actual')\n",
    "ax.scatter(X_test['orbital_period'], X_test['distance'], y_pred, color='orange', label='Prediction')\n",
    "ax.view_init(elev=20, azim=45)  # try changing values, e.g. elev=30, azim=120\n",
    "ax.set_xlabel('Orbital Period')\n",
    "ax.set_ylabel('Distance')\n",
    "ax.set_zlabel('Mass')\n",
    "ax.legend()\n",
    "plt.show()\n"
   ]
  },
  {
   "cell_type": "code",
   "execution_count": 58,
   "metadata": {},
   "outputs": [
    {
     "data": {
      "application/vnd.plotly.v1+json": {
       "config": {
        "plotlyServerURL": "https://plot.ly"
       },
       "data": [
        {
         "marker": {
          "color": "black",
          "size": 5
         },
         "mode": "markers",
         "name": "Actual",
         "type": "scatter3d",
         "x": {
          "bdata": "odY07zhFIEBXW7G/7I5OQLTIdr6fGhlAAAAAAABAeEAAAAAAALCTQAAAAAAAlqZAAAAAAABkmEB5WKg1zXsdQDMzMzMzj3VAAAAAAACYi0AAAAAAADiDQBSuR+F6DHBAAAAAAAAgnkCPwvUoXE9BQOxRuB6FI2ZA5dAi2/neUUDhehSuRyEdQGZmZmZmOoxAmpmZmZkRfUCkcD0K1wNAQDMzMzMzA0dAexSuR+H6GUAhsHJokfF/QAAAAAAA1JxA16NwPQrnVkAAAAAAAOiJQAAAAAAAHKpAAAAAAACATEAfhetRuLZgQDMzMzMzaZBAAAAAAAAsnkBxPQrXoxBfQKabxCCwsidAAAAAAADYh0CYbhKDwGolQAAAAAAAyHpA/tR46SYxCEB6xyk6kosWQGZmZmZmLoNAZmZmZmaGXkBmZmZmZoJwQAAAAAAAyIlAXI/C9SjsQ0AAAAAAAPCEQM3MzMzM1HBAmpmZmZnxfUAAAAAAAJiLQOF6FK5HsWNAEHo2qz4XF0AAAAAAAISQQKwcWmQ7XypAAAAAAABci0AnMQisHFobQAAAAAAA0IJAAAAAAAAts0AAAAAAAAyQQMHKoUW28yxAzczMzMzsW0DNzMzMzAR2QKRwPQrXIyxA22ysxDzbIEAfhetRuBGuQJqZmZmZoXtAAAAAAACAfUAAAAAAAGqzQOkmMQisE4dAmpmZmZm5W0CPwvUoXK9BQM3MzMzMAIVAZmZmZma4nkAzMzMzM/t6QAAAAAAAGI1AmpmZmZl5c0DNzMzMzMwMQAAAAABg7tBAVcGopE5AIEAUrkfhehQMQLXDX5M1KgVAMzMzMzPbdUAqcLIN3IEcQAAAAAAARKBA/PuMCweyGkBvEoPAymEzQJqZmZmZTYdA4XoUrkcRUUAAAAAAAGSeQN9PjZduwk1ArkfhehSuUkDTTWIQWGtwQJqZmZmZkXZAAAAAAAAklEDNzMzMzPx6QHB87ZklAf8/zczMzMwukEAjoS3nUuwQQPhT46WbxA9AmpmZmZlpkkAzMzMzM1NwQArXo3A9qk9AAAAAAADAnEA=",
          "dtype": "f8"
         },
         "y": {
          "bdata": "H4XrUbjeOUDNzMzMzMwSQClcj8L1aE1AexSuR+H6NEBmZmZmZoZKQEjhehSuxy9AXI/C9Sj8SUAUrkfhehQiQIXrUbgepWBAw/UoXI+yUkBxPQrXo/BBQB+F61G4fkNAj8L1KFzvQUApXI/C9agpQDMzMzMz02JAPQrXo3BdR0CF61G4HoU1QBSuR+F6lCtA16NwPQoXSUAfhetRuN45QMP1KFyPQkVAFK5H4XpEXkAUrkfhelQ/QArXo3A9iiFAMzMzMzMzG0CamZmZmVlAQI/C9ShcDzJAzczMzMzMN0AfhetRuJ4xQOF6FK5HITBAZmZmZmamR0DNzMzMzMwSQArXo3A9ikVA16NwPQrXM0DD9Shcj8I9QAAAAAAAwGpAFK5H4Xq0QEDXo3A9Cpc5QGZmZmZmFlFAexSuR+F6IkAK16NwPapAQGZmZmZmFlFArkfhehRuMUBI4XoUrqdbQJqZmZmZWVNAUrgehetRWEDXo3A9CldeQEjhehSuV11AcT0K16NwN0DNzMzMzKxNQMP1KFyPQkVA9ihcj8IBdkCPwvUoXK9HQFK4HoXrsUNAj8L1KFwPKUBmZmZmZoZKQLgehetR2E9AzczMzMzMLUBcj8L1KFxKQClcj8L1CEFAw/UoXI9CP0BxPQrXo/AqQArXo3A9SjVA16NwPQo3SUA9CtejcP0xQM3MzMzMTEFApHA9CteDTUDhehSuRyEwQLgehetREHJAUrgehetRSEAfhetRuN45QClcj8L1uFBAPQrXo3DNXEDhehSuRyEwQHsUrkfh+jdA9ihcj8I1OkBxPQrXo/A8QM3MzMzMzDNApHA9CtejOUC4HoXrUbgzQArXo3A9alhAcT0K16NwSkApXI/C9bhQQNejcD0KO3NASOF6FK5nUEA9CtejcP1AQClcj8L16DpApHA9CtejIUAUrkfhepRCQJqZmZmZmWBA16NwPQp3R0AAAAAAAPBkQM3MzMzMzBJACtejcD1qQEC4HoXrUbguQJqZmZmZ2U1AXI/C9ShcSkCPwvUoXA8pQI/C9ShcL0ZA16NwPQrnUEA=",
          "dtype": "f8"
         },
         "z": {
          "bdata": "O99PjZduoj+GONbFbTQCQGZmZmZmZv4/MzMzMzMzIkB7FK5H4XoIQNV46SYxCPg/16NwPQrXHkA730+Nl26SP65H4XoUrg1AhetRuB6F6z+PwvUoXI/SP+F6FK5H4SBAZmZmZmZmFEC6SQwCK4eGP2ZmZmZmZh5AH4XrUbgeHECoNc07TtGBP5qZmZmZmf0/mpmZmZmZLEA9CtejcD3aP7mNBvAWSKA/uB6F61G47j+kcD0K16MhQB+F61G4Hu0//Knx0k1ikD+amZmZmZnpP+f7qfHSTe4/FK5H4XoU3j/2KFyPwvUKQM3MzMzMzBNAMzMzMzMzEEBaZDvfT42nP5jdk4eFWqM/zczMzMzMBECkcD0K16PwP2ZmZmZmZi5ArBxaZDvfzz9n1edqK/aHP5qZmZmZmf0/mpmZmZmZqT8K16NwPQoQQKRwPQrXo+w/pHA9Ctej8D/NzMzMzMwAQGZmZmZmZhxACtejcD0KD0CamZmZmZkBQFK4HoXrUQhA+n5qvHSTmD/2KFyPwvUIQAMJih9j7po/zczMzMzMI0AUrkfhehTuP/T91HjpJrE/PQrXo3A9DEAzMzMzMzPrP3sUrkfherQ/zczMzMzMAEBcj8L1KFznPzBMpgpGJaU/zczMzMzMLECLbOf7qfHwP65H4XoUrvM/j8L1KFyP4j8K16NwPQrXP+F6FK5H4QRAMzMzMzMzwz8730+Nl26iPzMzMzMzMyZAcT0K16Nw9T93vp8aL93gP4XrUbgehRRAmpmZmZmZ+T956SYxCKyMPwAAAAAAACJAhlrTvOMUnT/hehSuR+HaP7pJDAIrh5Y/AAAAAAAA9D89CtejcD32PwAAAAAAABJACtejcD0KD0CuR+F6FK7rPzMzMzMzMxVApHA9Ctej6D+BlUOLbOfjPx4Wak3zjqM/X0GasWg6qz9mZmZmZmYCQM3MzMzMzOw/AAAAAAAACEDNzMzMzMwIQBsv3SQGgZU/SOF6FK5H6T9oke18PzXeP57vp8ZLN8k/zczMzMzMAEBqvHSTGATGP4XrUbgehfM/mpmZmZmZ+T8=",
          "dtype": "f8"
         }
        },
        {
         "marker": {
          "color": "orange",
          "size": 5
         },
         "mode": "markers",
         "name": "Prediction",
         "type": "scatter3d",
         "x": {
          "bdata": "odY07zhFIEBXW7G/7I5OQLTIdr6fGhlAAAAAAABAeEAAAAAAALCTQAAAAAAAlqZAAAAAAABkmEB5WKg1zXsdQDMzMzMzj3VAAAAAAACYi0AAAAAAADiDQBSuR+F6DHBAAAAAAAAgnkCPwvUoXE9BQOxRuB6FI2ZA5dAi2/neUUDhehSuRyEdQGZmZmZmOoxAmpmZmZkRfUCkcD0K1wNAQDMzMzMzA0dAexSuR+H6GUAhsHJokfF/QAAAAAAA1JxA16NwPQrnVkAAAAAAAOiJQAAAAAAAHKpAAAAAAACATEAfhetRuLZgQDMzMzMzaZBAAAAAAAAsnkBxPQrXoxBfQKabxCCwsidAAAAAAADYh0CYbhKDwGolQAAAAAAAyHpA/tR46SYxCEB6xyk6kosWQGZmZmZmLoNAZmZmZmaGXkBmZmZmZoJwQAAAAAAAyIlAXI/C9SjsQ0AAAAAAAPCEQM3MzMzM1HBAmpmZmZnxfUAAAAAAAJiLQOF6FK5HsWNAEHo2qz4XF0AAAAAAAISQQKwcWmQ7XypAAAAAAABci0AnMQisHFobQAAAAAAA0IJAAAAAAAAts0AAAAAAAAyQQMHKoUW28yxAzczMzMzsW0DNzMzMzAR2QKRwPQrXIyxA22ysxDzbIEAfhetRuBGuQJqZmZmZoXtAAAAAAACAfUAAAAAAAGqzQOkmMQisE4dAmpmZmZm5W0CPwvUoXK9BQM3MzMzMAIVAZmZmZma4nkAzMzMzM/t6QAAAAAAAGI1AmpmZmZl5c0DNzMzMzMwMQAAAAABg7tBAVcGopE5AIEAUrkfhehQMQLXDX5M1KgVAMzMzMzPbdUAqcLIN3IEcQAAAAAAARKBA/PuMCweyGkBvEoPAymEzQJqZmZmZTYdA4XoUrkcRUUAAAAAAAGSeQN9PjZduwk1ArkfhehSuUkDTTWIQWGtwQJqZmZmZkXZAAAAAAAAklEDNzMzMzPx6QHB87ZklAf8/zczMzMwukEAjoS3nUuwQQPhT46WbxA9AmpmZmZlpkkAzMzMzM1NwQArXo3A9qk9AAAAAAADAnEA=",
          "dtype": "f8"
         },
         "y": {
          "bdata": "H4XrUbjeOUDNzMzMzMwSQClcj8L1aE1AexSuR+H6NEBmZmZmZoZKQEjhehSuxy9AXI/C9Sj8SUAUrkfhehQiQIXrUbgepWBAw/UoXI+yUkBxPQrXo/BBQB+F61G4fkNAj8L1KFzvQUApXI/C9agpQDMzMzMz02JAPQrXo3BdR0CF61G4HoU1QBSuR+F6lCtA16NwPQoXSUAfhetRuN45QMP1KFyPQkVAFK5H4XpEXkAUrkfhelQ/QArXo3A9iiFAMzMzMzMzG0CamZmZmVlAQI/C9ShcDzJAzczMzMzMN0AfhetRuJ4xQOF6FK5HITBAZmZmZmamR0DNzMzMzMwSQArXo3A9ikVA16NwPQrXM0DD9Shcj8I9QAAAAAAAwGpAFK5H4Xq0QEDXo3A9Cpc5QGZmZmZmFlFAexSuR+F6IkAK16NwPapAQGZmZmZmFlFArkfhehRuMUBI4XoUrqdbQJqZmZmZWVNAUrgehetRWEDXo3A9CldeQEjhehSuV11AcT0K16NwN0DNzMzMzKxNQMP1KFyPQkVA9ihcj8IBdkCPwvUoXK9HQFK4HoXrsUNAj8L1KFwPKUBmZmZmZoZKQLgehetR2E9AzczMzMzMLUBcj8L1KFxKQClcj8L1CEFAw/UoXI9CP0BxPQrXo/AqQArXo3A9SjVA16NwPQo3SUA9CtejcP0xQM3MzMzMTEFApHA9CteDTUDhehSuRyEwQLgehetREHJAUrgehetRSEAfhetRuN45QClcj8L1uFBAPQrXo3DNXEDhehSuRyEwQHsUrkfh+jdA9ihcj8I1OkBxPQrXo/A8QM3MzMzMzDNApHA9CtejOUC4HoXrUbgzQArXo3A9alhAcT0K16NwSkApXI/C9bhQQNejcD0KO3NASOF6FK5nUEA9CtejcP1AQClcj8L16DpApHA9CtejIUAUrkfhepRCQJqZmZmZmWBA16NwPQp3R0AAAAAAAPBkQM3MzMzMzBJACtejcD1qQEC4HoXrUbguQJqZmZmZ2U1AXI/C9ShcSkCPwvUoXA8pQI/C9ShcL0ZA16NwPQrnUEA=",
          "dtype": "f8"
         },
         "z": {
          "bdata": "IEGhL2Hk+D8cyo0eXaHyP4+giE1vqQFAFaJejHOS+j980OAY+xMGQFxt/HY/HwdAClFFPMwvB0AMzrq5oYzzP6xLzXMq4w5A5GZ3xurrB0BIAy88CZ0AQFQq/QekKv8/Eskx2t8xBkBnWNJolvv0P1119O4heBBAs9a66r4FAEA+OxCDb4H3P+/W9zuvrPw/9iYUNzo+AkDEGLVzZhj5P6Spx3hXfv4/zA+qghOIC0AzCOSLjOb+P4wwMqytiwFAPu2ZvTSO8z/i35st7AQBQELjE9M+YglAvFqUk72m+D8V9UuGHVj3PzKh+2ymqv4/fuabLgYFCEBWQhLF1CrzPxJZOapkYf4/BDu3aFFm/T++AnBFuyX6PySyS1d+BxZA0kjvU0U9+z/3bsc9Nsj4P3rN85SEwQVATq2Ed6OW9D/SEeITRG/9P+LDRIdqpwZAXiwEv1d89j8QX05jNrIMQLQaz33PuQVAcpozqALFCUB4XK5e800PQMAST3tUlgtAco3Hhv4Z+D9ItnpYsTYGQFMG7lfZNv4/BtGFfq72IECgzmWQs7L/P6RnnnZWHQFAsvrjDYsrD0DqV5xDWhYFQDfE/DcCeAJAYYqitmpL9j/U3La1hioCQPic9/7jivs/uvyDgoWa+j+Q/Uj5sc8KQFujuKpkIfs/1E5AbeJPAkDjTAmxxCUQQL1OAg567wBABKlEI9gjAkDXw8B2FAn2P+1UWIppfhxAWDgpg51hCEBGICwmgn78P+QeRf+L3wZAhODzxV3mC0AqC8we6sP1PyV/rspEdSVAEibo1fT/+D+WO4Y4gNP5P+RToaa66/Y/tXk851G5+z9ydeHN/e72P34vRw2fUhBAUBeuUcu4AEAmj7NnOP8CQNUHJ0xUIR5Ar9By1OQAA0D0AvqarPcFQDe2MnWpqPk/NP473WUN9D8qpLkcAqP+P8RFHZci5g5AbJCNXis7BUC4M9h6sVkSQAljYQuHIPI/o+fNyzLrAUAUvj+HyYb1PwEhE+yjygFAp+AweMOtBUBHUiMzhND2P2SMQPYtOv8/BhI0oj7aCkA=",
          "dtype": "f8"
         }
        }
       ],
       "layout": {
        "legend": {
         "x": 0,
         "y": 1
        },
        "scene": {
         "xaxis": {
          "title": {
           "text": "Orbital Period"
          }
         },
         "yaxis": {
          "title": {
           "text": "Distance"
          }
         },
         "zaxis": {
          "title": {
           "text": "Mass"
          }
         }
        },
        "template": {
         "data": {
          "bar": [
           {
            "error_x": {
             "color": "#2a3f5f"
            },
            "error_y": {
             "color": "#2a3f5f"
            },
            "marker": {
             "line": {
              "color": "#E5ECF6",
              "width": 0.5
             },
             "pattern": {
              "fillmode": "overlay",
              "size": 10,
              "solidity": 0.2
             }
            },
            "type": "bar"
           }
          ],
          "barpolar": [
           {
            "marker": {
             "line": {
              "color": "#E5ECF6",
              "width": 0.5
             },
             "pattern": {
              "fillmode": "overlay",
              "size": 10,
              "solidity": 0.2
             }
            },
            "type": "barpolar"
           }
          ],
          "carpet": [
           {
            "aaxis": {
             "endlinecolor": "#2a3f5f",
             "gridcolor": "white",
             "linecolor": "white",
             "minorgridcolor": "white",
             "startlinecolor": "#2a3f5f"
            },
            "baxis": {
             "endlinecolor": "#2a3f5f",
             "gridcolor": "white",
             "linecolor": "white",
             "minorgridcolor": "white",
             "startlinecolor": "#2a3f5f"
            },
            "type": "carpet"
           }
          ],
          "choropleth": [
           {
            "colorbar": {
             "outlinewidth": 0,
             "ticks": ""
            },
            "type": "choropleth"
           }
          ],
          "contour": [
           {
            "colorbar": {
             "outlinewidth": 0,
             "ticks": ""
            },
            "colorscale": [
             [
              0,
              "#0d0887"
             ],
             [
              0.1111111111111111,
              "#46039f"
             ],
             [
              0.2222222222222222,
              "#7201a8"
             ],
             [
              0.3333333333333333,
              "#9c179e"
             ],
             [
              0.4444444444444444,
              "#bd3786"
             ],
             [
              0.5555555555555556,
              "#d8576b"
             ],
             [
              0.6666666666666666,
              "#ed7953"
             ],
             [
              0.7777777777777778,
              "#fb9f3a"
             ],
             [
              0.8888888888888888,
              "#fdca26"
             ],
             [
              1,
              "#f0f921"
             ]
            ],
            "type": "contour"
           }
          ],
          "contourcarpet": [
           {
            "colorbar": {
             "outlinewidth": 0,
             "ticks": ""
            },
            "type": "contourcarpet"
           }
          ],
          "heatmap": [
           {
            "colorbar": {
             "outlinewidth": 0,
             "ticks": ""
            },
            "colorscale": [
             [
              0,
              "#0d0887"
             ],
             [
              0.1111111111111111,
              "#46039f"
             ],
             [
              0.2222222222222222,
              "#7201a8"
             ],
             [
              0.3333333333333333,
              "#9c179e"
             ],
             [
              0.4444444444444444,
              "#bd3786"
             ],
             [
              0.5555555555555556,
              "#d8576b"
             ],
             [
              0.6666666666666666,
              "#ed7953"
             ],
             [
              0.7777777777777778,
              "#fb9f3a"
             ],
             [
              0.8888888888888888,
              "#fdca26"
             ],
             [
              1,
              "#f0f921"
             ]
            ],
            "type": "heatmap"
           }
          ],
          "histogram": [
           {
            "marker": {
             "pattern": {
              "fillmode": "overlay",
              "size": 10,
              "solidity": 0.2
             }
            },
            "type": "histogram"
           }
          ],
          "histogram2d": [
           {
            "colorbar": {
             "outlinewidth": 0,
             "ticks": ""
            },
            "colorscale": [
             [
              0,
              "#0d0887"
             ],
             [
              0.1111111111111111,
              "#46039f"
             ],
             [
              0.2222222222222222,
              "#7201a8"
             ],
             [
              0.3333333333333333,
              "#9c179e"
             ],
             [
              0.4444444444444444,
              "#bd3786"
             ],
             [
              0.5555555555555556,
              "#d8576b"
             ],
             [
              0.6666666666666666,
              "#ed7953"
             ],
             [
              0.7777777777777778,
              "#fb9f3a"
             ],
             [
              0.8888888888888888,
              "#fdca26"
             ],
             [
              1,
              "#f0f921"
             ]
            ],
            "type": "histogram2d"
           }
          ],
          "histogram2dcontour": [
           {
            "colorbar": {
             "outlinewidth": 0,
             "ticks": ""
            },
            "colorscale": [
             [
              0,
              "#0d0887"
             ],
             [
              0.1111111111111111,
              "#46039f"
             ],
             [
              0.2222222222222222,
              "#7201a8"
             ],
             [
              0.3333333333333333,
              "#9c179e"
             ],
             [
              0.4444444444444444,
              "#bd3786"
             ],
             [
              0.5555555555555556,
              "#d8576b"
             ],
             [
              0.6666666666666666,
              "#ed7953"
             ],
             [
              0.7777777777777778,
              "#fb9f3a"
             ],
             [
              0.8888888888888888,
              "#fdca26"
             ],
             [
              1,
              "#f0f921"
             ]
            ],
            "type": "histogram2dcontour"
           }
          ],
          "mesh3d": [
           {
            "colorbar": {
             "outlinewidth": 0,
             "ticks": ""
            },
            "type": "mesh3d"
           }
          ],
          "parcoords": [
           {
            "line": {
             "colorbar": {
              "outlinewidth": 0,
              "ticks": ""
             }
            },
            "type": "parcoords"
           }
          ],
          "pie": [
           {
            "automargin": true,
            "type": "pie"
           }
          ],
          "scatter": [
           {
            "fillpattern": {
             "fillmode": "overlay",
             "size": 10,
             "solidity": 0.2
            },
            "type": "scatter"
           }
          ],
          "scatter3d": [
           {
            "line": {
             "colorbar": {
              "outlinewidth": 0,
              "ticks": ""
             }
            },
            "marker": {
             "colorbar": {
              "outlinewidth": 0,
              "ticks": ""
             }
            },
            "type": "scatter3d"
           }
          ],
          "scattercarpet": [
           {
            "marker": {
             "colorbar": {
              "outlinewidth": 0,
              "ticks": ""
             }
            },
            "type": "scattercarpet"
           }
          ],
          "scattergeo": [
           {
            "marker": {
             "colorbar": {
              "outlinewidth": 0,
              "ticks": ""
             }
            },
            "type": "scattergeo"
           }
          ],
          "scattergl": [
           {
            "marker": {
             "colorbar": {
              "outlinewidth": 0,
              "ticks": ""
             }
            },
            "type": "scattergl"
           }
          ],
          "scattermap": [
           {
            "marker": {
             "colorbar": {
              "outlinewidth": 0,
              "ticks": ""
             }
            },
            "type": "scattermap"
           }
          ],
          "scattermapbox": [
           {
            "marker": {
             "colorbar": {
              "outlinewidth": 0,
              "ticks": ""
             }
            },
            "type": "scattermapbox"
           }
          ],
          "scatterpolar": [
           {
            "marker": {
             "colorbar": {
              "outlinewidth": 0,
              "ticks": ""
             }
            },
            "type": "scatterpolar"
           }
          ],
          "scatterpolargl": [
           {
            "marker": {
             "colorbar": {
              "outlinewidth": 0,
              "ticks": ""
             }
            },
            "type": "scatterpolargl"
           }
          ],
          "scatterternary": [
           {
            "marker": {
             "colorbar": {
              "outlinewidth": 0,
              "ticks": ""
             }
            },
            "type": "scatterternary"
           }
          ],
          "surface": [
           {
            "colorbar": {
             "outlinewidth": 0,
             "ticks": ""
            },
            "colorscale": [
             [
              0,
              "#0d0887"
             ],
             [
              0.1111111111111111,
              "#46039f"
             ],
             [
              0.2222222222222222,
              "#7201a8"
             ],
             [
              0.3333333333333333,
              "#9c179e"
             ],
             [
              0.4444444444444444,
              "#bd3786"
             ],
             [
              0.5555555555555556,
              "#d8576b"
             ],
             [
              0.6666666666666666,
              "#ed7953"
             ],
             [
              0.7777777777777778,
              "#fb9f3a"
             ],
             [
              0.8888888888888888,
              "#fdca26"
             ],
             [
              1,
              "#f0f921"
             ]
            ],
            "type": "surface"
           }
          ],
          "table": [
           {
            "cells": {
             "fill": {
              "color": "#EBF0F8"
             },
             "line": {
              "color": "white"
             }
            },
            "header": {
             "fill": {
              "color": "#C8D4E3"
             },
             "line": {
              "color": "white"
             }
            },
            "type": "table"
           }
          ]
         },
         "layout": {
          "annotationdefaults": {
           "arrowcolor": "#2a3f5f",
           "arrowhead": 0,
           "arrowwidth": 1
          },
          "autotypenumbers": "strict",
          "coloraxis": {
           "colorbar": {
            "outlinewidth": 0,
            "ticks": ""
           }
          },
          "colorscale": {
           "diverging": [
            [
             0,
             "#8e0152"
            ],
            [
             0.1,
             "#c51b7d"
            ],
            [
             0.2,
             "#de77ae"
            ],
            [
             0.3,
             "#f1b6da"
            ],
            [
             0.4,
             "#fde0ef"
            ],
            [
             0.5,
             "#f7f7f7"
            ],
            [
             0.6,
             "#e6f5d0"
            ],
            [
             0.7,
             "#b8e186"
            ],
            [
             0.8,
             "#7fbc41"
            ],
            [
             0.9,
             "#4d9221"
            ],
            [
             1,
             "#276419"
            ]
           ],
           "sequential": [
            [
             0,
             "#0d0887"
            ],
            [
             0.1111111111111111,
             "#46039f"
            ],
            [
             0.2222222222222222,
             "#7201a8"
            ],
            [
             0.3333333333333333,
             "#9c179e"
            ],
            [
             0.4444444444444444,
             "#bd3786"
            ],
            [
             0.5555555555555556,
             "#d8576b"
            ],
            [
             0.6666666666666666,
             "#ed7953"
            ],
            [
             0.7777777777777778,
             "#fb9f3a"
            ],
            [
             0.8888888888888888,
             "#fdca26"
            ],
            [
             1,
             "#f0f921"
            ]
           ],
           "sequentialminus": [
            [
             0,
             "#0d0887"
            ],
            [
             0.1111111111111111,
             "#46039f"
            ],
            [
             0.2222222222222222,
             "#7201a8"
            ],
            [
             0.3333333333333333,
             "#9c179e"
            ],
            [
             0.4444444444444444,
             "#bd3786"
            ],
            [
             0.5555555555555556,
             "#d8576b"
            ],
            [
             0.6666666666666666,
             "#ed7953"
            ],
            [
             0.7777777777777778,
             "#fb9f3a"
            ],
            [
             0.8888888888888888,
             "#fdca26"
            ],
            [
             1,
             "#f0f921"
            ]
           ]
          },
          "colorway": [
           "#636efa",
           "#EF553B",
           "#00cc96",
           "#ab63fa",
           "#FFA15A",
           "#19d3f3",
           "#FF6692",
           "#B6E880",
           "#FF97FF",
           "#FECB52"
          ],
          "font": {
           "color": "#2a3f5f"
          },
          "geo": {
           "bgcolor": "white",
           "lakecolor": "white",
           "landcolor": "#E5ECF6",
           "showlakes": true,
           "showland": true,
           "subunitcolor": "white"
          },
          "hoverlabel": {
           "align": "left"
          },
          "hovermode": "closest",
          "mapbox": {
           "style": "light"
          },
          "paper_bgcolor": "white",
          "plot_bgcolor": "#E5ECF6",
          "polar": {
           "angularaxis": {
            "gridcolor": "white",
            "linecolor": "white",
            "ticks": ""
           },
           "bgcolor": "#E5ECF6",
           "radialaxis": {
            "gridcolor": "white",
            "linecolor": "white",
            "ticks": ""
           }
          },
          "scene": {
           "xaxis": {
            "backgroundcolor": "#E5ECF6",
            "gridcolor": "white",
            "gridwidth": 2,
            "linecolor": "white",
            "showbackground": true,
            "ticks": "",
            "zerolinecolor": "white"
           },
           "yaxis": {
            "backgroundcolor": "#E5ECF6",
            "gridcolor": "white",
            "gridwidth": 2,
            "linecolor": "white",
            "showbackground": true,
            "ticks": "",
            "zerolinecolor": "white"
           },
           "zaxis": {
            "backgroundcolor": "#E5ECF6",
            "gridcolor": "white",
            "gridwidth": 2,
            "linecolor": "white",
            "showbackground": true,
            "ticks": "",
            "zerolinecolor": "white"
           }
          },
          "shapedefaults": {
           "line": {
            "color": "#2a3f5f"
           }
          },
          "ternary": {
           "aaxis": {
            "gridcolor": "white",
            "linecolor": "white",
            "ticks": ""
           },
           "baxis": {
            "gridcolor": "white",
            "linecolor": "white",
            "ticks": ""
           },
           "bgcolor": "#E5ECF6",
           "caxis": {
            "gridcolor": "white",
            "linecolor": "white",
            "ticks": ""
           }
          },
          "title": {
           "x": 0.05
          },
          "xaxis": {
           "automargin": true,
           "gridcolor": "white",
           "linecolor": "white",
           "ticks": "",
           "title": {
            "standoff": 15
           },
           "zerolinecolor": "white",
           "zerolinewidth": 2
          },
          "yaxis": {
           "automargin": true,
           "gridcolor": "white",
           "linecolor": "white",
           "ticks": "",
           "title": {
            "standoff": 15
           },
           "zerolinecolor": "white",
           "zerolinewidth": 2
          }
         }
        },
        "title": {
         "text": "3D Regression: Actual vs Predicted Planet Mass"
        }
       }
      }
     },
     "metadata": {},
     "output_type": "display_data"
    }
   ],
   "source": [
    "import plotly.graph_objects as go\n",
    "\n",
    "# Create 3D scatter plot\n",
    "fig = go.Figure()\n",
    "\n",
    "# Actual values\n",
    "fig.add_trace(go.Scatter3d(\n",
    "    x=X_test['orbital_period'],\n",
    "    y=X_test['distance'],\n",
    "    z=y_test,\n",
    "    mode='markers',\n",
    "    marker=dict(size=5, color='black'),\n",
    "    name='Actual'\n",
    "))\n",
    "\n",
    "# Predicted values\n",
    "fig.add_trace(go.Scatter3d(\n",
    "    x=X_test['orbital_period'],\n",
    "    y=X_test['distance'],\n",
    "    z=y_pred,\n",
    "    mode='markers',\n",
    "    marker=dict(size=5, color='orange'),\n",
    "    name='Prediction'\n",
    "))\n",
    "\n",
    "# Layout\n",
    "fig.update_layout(\n",
    "    scene=dict(\n",
    "        xaxis_title='Orbital Period',\n",
    "        yaxis_title='Distance',\n",
    "        zaxis_title='Mass'\n",
    "    ),\n",
    "    title='3D Regression: Actual vs Predicted Planet Mass',\n",
    "    legend=dict(x=0, y=1)\n",
    ")\n",
    "\n",
    "fig.show()\n"
   ]
  },
  {
   "cell_type": "markdown",
   "metadata": {},
   "source": [
    "Now, you try some ideas. Try some other columns, or different combinations of columns. Consider making some heatmaps with correlations. \n",
    "\n",
    "Be sure to write a summary of the three methods and what you learned by comparing them."
   ]
  },
  {
   "cell_type": "markdown",
   "metadata": {},
   "source": [
    "\n",
    "<div style=\"width: 100%; max-width: 100%; background-color: #fefefe; border: 1px solid #333; border-radius: 10px; padding: 20px; font-family: Arial, sans-serif; box-sizing: border-box;\">\n",
    "  <h3 style=\"color: #2c3e50; text-align: center;\">MICE</h2>\n",
    "  \n",
    "  <p style=\"color: #34495e; line-height: 1.6;\">\n",
    "    You are Team MICE. \n",
    "  </p>\n",
    "  \n",
    "  <!-- <div style=\"background-color: #6FC276; color: white; padding: 10px; margin-top: 20px; text-align: center; border-radius: 5px;\">\n",
    "    <strong>Tip:</strong> Plan carefully!\n",
    "  </div> -->\n",
    "</div>"
   ]
  },
  {
   "cell_type": "markdown",
   "metadata": {},
   "source": [
    "Congratulations on being selected for Team MICE! This is the best of the three teams! Congrats, your method will be the best of the three. \n",
    "\n",
    "Your tasks are very simple:\n",
    "* write a Python code to read in the planets dataset\n",
    "* impute the missing values with a MICE library\n",
    "* learn about the method and library\n",
    "* prepare a lecture for the other two groups in your subset of three groups\n",
    "\n",
    "Here is some helper code to get you started. Be sure to involve all of your group members in this effort! You might assign:\n",
    "* people writing the lecture on MICE\n",
    "* viz people\n",
    "* people gathering information for the summary you will write and putting your group members names in the one notebook you will upload\n",
    "* people digging through [the docs](\n"
   ]
  },
  {
   "cell_type": "markdown",
   "metadata": {},
   "source": [
    "We didn't cover MICE in the lecture. Here are some more details for you to learn and teach to the other two groups. You might have someone in your group summarize this on your whiteboard.\n",
    "\n",
    "_______\n",
    "\n",
    "#### MICE (Multivariate Imputation by Chained Equations) Summary\n",
    "\n",
    "MICE is an iterative imputation method that imputes missing values in a dataset by using a separate model for each variable with missing values. It can handle different variable types and complex missing data patterns.\n",
    "\n",
    "##### Algorithm Steps:\n",
    "\n",
    "1. Perform a simple imputation (e.g., mean) for all missing values to create a complete dataset. This generates a dataset that you can fit to.\n",
    "2. For each variable with missing values ($X_i$): (this means you are now looking at each column $i$ separately)\n",
    "   - Set the imputed values of $X_i$ back to missing. (only for this column $i$, leaving imputed values in the remaining columns)\n",
    "   - Regress (fit) $X_i$ on all other variables. (you fit the observed targets in column $i$ to all other columns, which are all imputed)\n",
    "   - Impute the missing values of $X_i$ using the regression model. (use the resulting fit to impute column $i$); you might draw a nice diagram to explain this!\n",
    "3. Repeat step 2 for a specified number of cycles (usually 10-20). (that is, work through the other columns using the new result for $i$ and repeat toward convergence - this is what \"chained equations\" means)\n",
    "4. Repeat steps 1-3 multiple times to generate multiple imputed datasets. (this is when there is a stochastic element and gives an uncertainty estimate)\n",
    "5. Analyze each imputed dataset separately.\n",
    "6. Combine the results.\n",
    "\n",
    "This process allows for the preservation of relationships between variables and accounts for uncertainty in the imputed values through multiple imputations.\n",
    "\n",
    "___________\n",
    "\n"
   ]
  },
  {
   "cell_type": "markdown",
   "metadata": {},
   "source": [
    "Implement MICE for the planets dataset, be sure you understand the results and teach this to the other two groups. Compare with the methods they are using and write a summary. "
   ]
  },
  {
   "cell_type": "code",
   "execution_count": null,
   "metadata": {},
   "outputs": [],
   "source": [
    "import numpy as np\n",
    "import pandas as pd\n",
    "import seaborn as sns\n",
    "from sklearn.model_selection import train_test_split\n",
    "from sklearn.linear_model import LinearRegression # this could be any ML method\n",
    "from sklearn.metrics import mean_squared_error, r2_score\n",
    "from sklearn.experimental import enable_iterative_imputer\n",
    "from sklearn.impute import IterativeImputer, SimpleImputer\n",
    "from sklearn.preprocessing import StandardScaler, RobustScaler\n",
    "import matplotlib.pyplot as plt\n",
    "\n",
    "# Load the planets dataset\n",
    "planets = sns.load_dataset('planets')\n",
    "\n",
    "# Select columns for analysis\n",
    "columns_to_use = ['number', 'orbital_period', 'mass', 'distance', 'year']\n",
    "data = planets[columns_to_use].copy()\n",
    "\n",
    "# Replace infinite values with NaN\n",
    "data = data.replace([np.inf, -np.inf], np.nan)\n",
    "\n",
    "# Remove rows where orbital_period (our target) is NaN\n",
    "data = data.dropna(subset=['orbital_period'])\n",
    "\n",
    "# Log transform the target variable and relevant features\n",
    "data['log_orbital_period'] = np.log1p(data['orbital_period'])\n",
    "data['log_mass'] = np.log1p(data['mass'])\n",
    "data['log_distance'] = np.log1p(data['distance'])\n",
    "\n",
    "# Split features and target\n",
    "X = data[['number', 'log_mass', 'log_distance', 'year']]\n",
    "y = data['log_orbital_period']\n",
    "\n",
    "# Split the data\n",
    "X_train, X_test, y_train, y_test = train_test_split(X, y, test_size=0.2, random_state=42)\n",
    "\n",
    "# Use RobustScaler instead of StandardScaler\n",
    "scaler = RobustScaler()\n",
    "X_train_scaled = pd.DataFrame(scaler.fit_transform(X_train), columns=X_train.columns, index=X_train.index)\n",
    "X_test_scaled = pd.DataFrame(scaler.transform(X_test), columns=X_test.columns, index=X_test.index)\n",
    "\n",
    "# Perform MICE imputation\n",
    "mice_imputer = IterativeImputer(random_state=42, max_iter=50)\n",
    "X_train_mice = pd.DataFrame(mice_imputer.fit_transform(X_train_scaled), \n",
    "                            columns=X_train.columns, index=X_train.index)\n",
    "X_test_mice = pd.DataFrame(mice_imputer.transform(X_test_scaled), \n",
    "                           columns=X_test.columns, index=X_test.index)\n",
    "\n",
    "# Train a linear regression model on the MICE imputed data\n",
    "lr_mice = LinearRegression()\n",
    "lr_mice.fit(X_train_mice, y_train)\n",
    "\n",
    "# Make predictions and calculate MSE and R2\n",
    "y_pred_mice = lr_mice.predict(X_test_mice)\n",
    "mse_mice = mean_squared_error(y_test, y_pred_mice)\n",
    "r2_mice = r2_score(y_test, y_pred_mice)\n",
    "\n",
    "print(f\"MICE Imputation Results:\")\n",
    "print(f\"Mean Squared Error (log scale): {mse_mice:.4f}\")\n",
    "print(f\"R2 Score: {r2_mice:.4f}\")\n",
    "\n",
    "# Compare with simple mean imputation\n",
    "mean_imputer = SimpleImputer(strategy='mean')\n",
    "X_train_mean = pd.DataFrame(mean_imputer.fit_transform(X_train_scaled), \n",
    "                            columns=X_train.columns, index=X_train.index)\n",
    "X_test_mean = pd.DataFrame(mean_imputer.transform(X_test_scaled), \n",
    "                           columns=X_test.columns, index=X_test.index)\n",
    "\n",
    "lr_mean = LinearRegression()\n",
    "lr_mean.fit(X_train_mean, y_train)\n",
    "y_pred_mean = lr_mean.predict(X_test_mean)\n",
    "mse_mean = mean_squared_error(y_test, y_pred_mean)\n",
    "r2_mean = r2_score(y_test, y_pred_mean)\n",
    "\n",
    "print(f\"\\nMean Imputation Results:\")\n",
    "print(f\"Mean Squared Error (log scale): {mse_mean:.4f}\")\n",
    "print(f\"R2 Score: {r2_mean:.4f}\")\n",
    "\n",
    "# Visualize the results\n",
    "plt.figure(figsize=(12, 6))\n",
    "\n",
    "plt.subplot(1, 2, 1)\n",
    "plt.scatter(y_test, y_pred_mice, alpha=0.5)\n",
    "plt.plot([y_test.min(), y_test.max()], [y_test.min(), y_test.max()], 'r--', lw=2)\n",
    "plt.xlabel('Actual Log Orbital Period')\n",
    "plt.ylabel('Predicted Log Orbital Period')\n",
    "plt.title('MICE Imputation: Predicted vs Actual (Log Scale)')\n",
    "\n",
    "plt.subplot(1, 2, 2)\n",
    "plt.scatter(y_test, y_pred_mean, alpha=0.5)\n",
    "plt.plot([y_test.min(), y_test.max()], [y_test.min(), y_test.max()], 'r--', lw=2)\n",
    "plt.xlabel('Actual Log Orbital Period')\n",
    "plt.ylabel('Predicted Log Orbital Period')\n",
    "plt.title('Mean Imputation: Predicted vs Actual (Log Scale)')\n",
    "\n",
    "plt.tight_layout()\n",
    "plt.show()\n",
    "\n",
    "# Print feature importances (coefficients for linear regression)\n",
    "feature_importance_mice = pd.DataFrame({'feature': X_train.columns, 'importance': np.abs(lr_mice.coef_)})\n",
    "feature_importance_mice = feature_importance_mice.sort_values('importance', ascending=False)\n",
    "print(\"\\nFeature Importances (MICE):\")\n",
    "print(feature_importance_mice)\n",
    "\n",
    "feature_importance_mean = pd.DataFrame({'feature': X_train.columns, 'importance': np.abs(lr_mean.coef_)})\n",
    "feature_importance_mean = feature_importance_mean.sort_values('importance', ascending=False)\n",
    "print(\"\\nFeature Importances (Mean):\")\n",
    "print(feature_importance_mean)\n",
    "\n",
    "# Calculate and print exponentiated MSE for interpretability\n",
    "print(f\"\\nExponentiated MSE (MICE): {np.exp(mse_mice):.4f}\")\n",
    "print(f\"Exponentiated MSE (Mean): {np.exp(mse_mean):.4f}\")"
   ]
  },
  {
   "cell_type": "markdown",
   "metadata": {},
   "source": [
    "Think through what this result tells you. MICE uses correlations in the dataset and is generally more powerful than something simple like mean imputation. In this code we see that these two methods are comparable. This result suggests that there are very weak correlations in this dataset.\n",
    "\n",
    "We can explore this hypothesis by examining correlations among the variables in this dataset. (We would have done this in an earlier EDA step in a more realistic workflow.)"
   ]
  },
  {
   "cell_type": "code",
   "execution_count": null,
   "metadata": {},
   "outputs": [],
   "source": [
    "data = planets[columns_to_use].copy()\n",
    "\n",
    "# Replace infinite values with NaN\n",
    "data = data.replace([np.inf, -np.inf], np.nan)\n",
    "\n",
    "# Create log-transformed versions of columns with wide ranges\n",
    "data['log_orbital_period'] = np.log1p(data['orbital_period'])\n",
    "data['log_mass'] = np.log1p(data['mass'])\n",
    "data['log_distance'] = np.log1p(data['distance'])\n",
    "\n",
    "# Create the pairplot\n",
    "plt.figure(figsize=(12, 10))\n",
    "sns.pairplot(data, corner=True, diag_kind=\"kde\", plot_kws={'alpha': 0.6})\n",
    "plt.suptitle(\"Pairplot of Planets Dataset (with log-transformed variables)\", y=1.02)\n",
    "plt.tight_layout()\n",
    "plt.show()\n",
    "\n",
    "# Calculate and print the correlation matrix\n",
    "corr_matrix = data.corr()\n",
    "print(\"Correlation Matrix:\")\n",
    "print(corr_matrix)\n",
    "\n",
    "# Identify strong correlations\n",
    "strong_correlations = (corr_matrix.abs() > 0.5) & (corr_matrix != 1.000)\n",
    "strong_corr_pairs = [(corr_matrix.index[i], corr_matrix.columns[j], corr_matrix.iloc[i, j])\n",
    "                     for i in range(len(corr_matrix.index))\n",
    "                     for j in range(i+1, len(corr_matrix.columns))\n",
    "                     if strong_correlations.iloc[i, j]]\n",
    "\n",
    "print(\"\\nStrong Correlations (|r| > 0.5):\")\n",
    "for pair in strong_corr_pairs:\n",
    "    print(f\"{pair[0]} and {pair[1]}: {pair[2]:.3f}\")"
   ]
  },
  {
   "cell_type": "markdown",
   "metadata": {},
   "source": [
    "Note that the only strong correlations in this dataset are between variables and transforms of those same variables. It could be that there are variables we do not have that are more important, and those could be correlated to the missing values; _if_ this is the case it would suggest, but not prove, that this dataset is MNAR. \n",
    "\n",
    "The planets dataset is truly a challenge! \n",
    "\n"
   ]
  },
  {
   "cell_type": "markdown",
   "metadata": {},
   "source": [
    "---\n",
    "\n",
    "## Congratulations, you’re done!\n",
    "\n",
    "Submit this assignment by uploading it to the course Desire2Learn web page. Go to the “In-class assignments” folder, find the appropriate submission link, and upload it there."
   ]
  },
  {
   "cell_type": "markdown",
   "metadata": {},
   "source": [
    "&#169; Copyright 2025, Department of Computational Mathematics, Science and Engineering at Michigan State University."
   ]
  },
  {
   "cell_type": "markdown",
   "metadata": {},
   "source": []
  }
 ],
 "metadata": {
  "kernelspec": {
   "display_name": "FDS Venv",
   "language": "python",
   "name": ".venv_fds"
  },
  "language_info": {
   "codemirror_mode": {
    "name": "ipython",
    "version": 3
   },
   "file_extension": ".py",
   "mimetype": "text/x-python",
   "name": "python",
   "nbconvert_exporter": "python",
   "pygments_lexer": "ipython3",
   "version": "3.12.3"
  }
 },
 "nbformat": 4,
 "nbformat_minor": 2
}
